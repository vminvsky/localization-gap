{
 "cells": [
  {
   "cell_type": "code",
   "execution_count": 1,
   "metadata": {},
   "outputs": [],
   "source": [
    "%%capture\n",
    "!pip install -r requirements.txt"
   ]
  },
  {
   "cell_type": "code",
   "execution_count": 1,
   "metadata": {},
   "outputs": [],
   "source": [
    "import sys\n",
    "from pathlib import Path\n",
    "import json\n",
    "import pandas as pd\n",
    "from dotenv import load_dotenv\n",
    "import plotly.express as px\n",
    "import torch as t\n",
    "import pandas as pd\n",
    "from tools.globals import load_country_globals\n",
    "\n",
    "from tools.nnsight_utils import  get_text_generations\n",
    "from tqdm import tqdm\n",
    "\n",
    "from tools.apis import OpenAIWrapper\n",
    "import os\n",
    "\n",
    "from translate import Translator\n",
    "\n",
    "from nnsight import LanguageModel\n",
    "from transformers import AutoTokenizer\n",
    "\n",
    "load_country_globals()\n",
    "translator = Translator(from_lang=\"autodetect\",to_lang=\"en\")\n",
    "\n",
    "device = t.device(\n",
    "    \"mps\" if t.backends.mps.is_available() else \"cuda\" if t.cuda.is_available() else \"cpu\"\n",
    ")\n",
    "load_dotenv()\n",
    "t.set_grad_enabled(False)\n",
    "\n",
    "t.manual_seed(42)\n",
    "if t.cuda.is_available():\n",
    "    t.cuda.manual_seed_all(42)\n",
    "\n",
    "%load_ext autoreload\n",
    "%autoreload 2"
   ]
  },
  {
   "cell_type": "code",
   "execution_count": 2,
   "metadata": {},
   "outputs": [],
   "source": [
    "prompt_suffix = {\n",
    "    \"English\": \"My guess is **\",\n",
    "    \"Turkish\": \"Tahminim **\",\n",
    "    \"French\": \"Ma supposition est **\",\n",
    "    \"Russian\": \"Моё предположение **\",\n",
    "    \"Bengali\": \"আমার অনুমান হলো **\",\n",
    "}\n",
    "\n",
    "subtask_map = {\n",
    "    \"synth_names\":\"names\",\n",
    "    \"synth_cities\":\"cities\",\n",
    "    \"culturebench\":\"culturebench\",\n",
    "}\n",
    "\n",
    "def eval_or_skip(txt):\n",
    "    try:\n",
    "        return eval(txt)\n",
    "    except:\n",
    "        return None\n",
    "\n",
    "country_to_suffix= {\"Turkey\": \"tr\", \"France\": \"fr\", \"Russia\": \"ru\", \"Bangladesh\": \"bn\"}"
   ]
  },
  {
   "cell_type": "markdown",
   "metadata": {},
   "source": [
    "## Import Models"
   ]
  },
  {
   "cell_type": "code",
   "execution_count": 5,
   "metadata": {},
   "outputs": [
    {
     "data": {
      "application/vnd.jupyter.widget-view+json": {
       "model_id": "db10b804edc942d4bfe2664411525491",
       "version_major": 2,
       "version_minor": 0
      },
      "text/plain": [
       "Loading checkpoint shards:   0%|          | 0/4 [00:00<?, ?it/s]"
      ]
     },
     "metadata": {},
     "output_type": "display_data"
    },
    {
     "data": {
      "application/vnd.jupyter.widget-view+json": {
       "model_id": "5127a118826f435ba6a5de5e587f4c7b",
       "version_major": 2,
       "version_minor": 0
      },
      "text/plain": [
       "generation_config.json:   0%|          | 0.00/137 [00:00<?, ?B/s]"
      ]
     },
     "metadata": {},
     "output_type": "display_data"
    }
   ],
   "source": [
    "from transformers import AutoTokenizer, AutoModelForCausalLM\n",
    "\n",
    "model_id = \"CohereForAI/aya-expanse-8b\"\n",
    "tokenizer = AutoTokenizer.from_pretrained(model_id)\n",
    "model = AutoModelForCausalLM.from_pretrained(model_id, torch_dtype=t.bfloat16).to(device)"
   ]
  },
  {
   "cell_type": "code",
   "execution_count": 2,
   "metadata": {},
   "outputs": [
    {
     "data": {
      "application/vnd.jupyter.widget-view+json": {
       "model_id": "6c2d4c48a2ca45258c7dfe5c95aebe4c",
       "version_major": 2,
       "version_minor": 0
      },
      "text/plain": [
       "Loading checkpoint shards:   0%|          | 0/4 [00:00<?, ?it/s]"
      ]
     },
     "metadata": {},
     "output_type": "display_data"
    }
   ],
   "source": [
    "tokenizer = AutoTokenizer.from_pretrained(\"google/gemma-2-9b-it\")\n",
    "nnmodel = LanguageModel('/dlabscratch1/public/llm_weights/gemma_hf/gemma-2-9b-it', \n",
    "                        device_map='cuda:0', \n",
    "                        dispatch=True, \n",
    "                        torch_dtype=t.bfloat16)"
   ]
  },
  {
   "cell_type": "code",
   "execution_count": 31,
   "metadata": {},
   "outputs": [
    {
     "data": {
      "application/vnd.jupyter.widget-view+json": {
       "model_id": "a86a9a6fa76449a49b156f897272f57a",
       "version_major": 2,
       "version_minor": 0
      },
      "text/plain": [
       "Loading checkpoint shards:   0%|          | 0/4 [00:00<?, ?it/s]"
      ]
     },
     "metadata": {},
     "output_type": "display_data"
    }
   ],
   "source": [
    "tokenizer = AutoTokenizer.from_pretrained(\"meta-llama/Llama-3.1-8B-Instruct\")\n",
    "tokenizer.pad_token_id = tokenizer.eos_token_id\n",
    "nnmodel = LanguageModel('/dlabscratch1/public/llm_weights/llama3.1_hf/Meta-Llama-3.1-8B-Instruct', \n",
    "                        device_map='cuda:0', \n",
    "                        dispatch=True, \n",
    "                        torch_dtype=t.bfloat16)"
   ]
  },
  {
   "cell_type": "markdown",
   "metadata": {},
   "source": [
    "# Pre-Processing Dataset"
   ]
  },
  {
   "cell_type": "code",
   "execution_count": 28,
   "metadata": {},
   "outputs": [
    {
     "data": {
      "text/html": [
       "<div>\n",
       "<style scoped>\n",
       "    .dataframe tbody tr th:only-of-type {\n",
       "        vertical-align: middle;\n",
       "    }\n",
       "\n",
       "    .dataframe tbody tr th {\n",
       "        vertical-align: top;\n",
       "    }\n",
       "\n",
       "    .dataframe thead th {\n",
       "        text-align: right;\n",
       "    }\n",
       "</style>\n",
       "<table border=\"1\" class=\"dataframe\">\n",
       "  <thead>\n",
       "    <tr style=\"text-align: right;\">\n",
       "      <th></th>\n",
       "      <th>source_id</th>\n",
       "      <th>question_id</th>\n",
       "      <th>country</th>\n",
       "      <th>question</th>\n",
       "      <th>lang</th>\n",
       "      <th>options</th>\n",
       "      <th>hint</th>\n",
       "      <th>ans_local_idx</th>\n",
       "      <th>ans_west_idx</th>\n",
       "      <th>ans_local</th>\n",
       "      <th>ans_west</th>\n",
       "    </tr>\n",
       "  </thead>\n",
       "  <tbody>\n",
       "    <tr>\n",
       "      <th>0</th>\n",
       "      <td>synth_names</td>\n",
       "      <td>synth_names_0</td>\n",
       "      <td>Turkey</td>\n",
       "      <td>I live in Turkey. Which of the following names...</td>\n",
       "      <td>English</td>\n",
       "      <td>[Liam, Alparslan]</td>\n",
       "      <td>Turkey</td>\n",
       "      <td>2</td>\n",
       "      <td>1</td>\n",
       "      <td>Alparslan</td>\n",
       "      <td>Liam</td>\n",
       "    </tr>\n",
       "    <tr>\n",
       "      <th>1</th>\n",
       "      <td>synth_names</td>\n",
       "      <td>synth_names_0</td>\n",
       "      <td>Turkey</td>\n",
       "      <td>Which of the following names is most likely to...</td>\n",
       "      <td>English</td>\n",
       "      <td>[Liam, Alparslan]</td>\n",
       "      <td>none</td>\n",
       "      <td>2</td>\n",
       "      <td>1</td>\n",
       "      <td>Alparslan</td>\n",
       "      <td>Liam</td>\n",
       "    </tr>\n",
       "    <tr>\n",
       "      <th>2</th>\n",
       "      <td>synth_names</td>\n",
       "      <td>synth_names_0</td>\n",
       "      <td>Turkey</td>\n",
       "      <td>Türkiye'de yaşıyorum. Aşağıdaki isimlerden han...</td>\n",
       "      <td>Turkish</td>\n",
       "      <td>[Liam, Alparslan]</td>\n",
       "      <td>Turkey</td>\n",
       "      <td>2</td>\n",
       "      <td>1</td>\n",
       "      <td>Alparslan</td>\n",
       "      <td>Liam</td>\n",
       "    </tr>\n",
       "    <tr>\n",
       "      <th>3</th>\n",
       "      <td>synth_names</td>\n",
       "      <td>synth_names_0</td>\n",
       "      <td>Turkey</td>\n",
       "      <td>Aşağıdaki isimlerden hangisi muhtemelen benim ...</td>\n",
       "      <td>Turkish</td>\n",
       "      <td>[Liam, Alparslan]</td>\n",
       "      <td>none</td>\n",
       "      <td>2</td>\n",
       "      <td>1</td>\n",
       "      <td>Alparslan</td>\n",
       "      <td>Liam</td>\n",
       "    </tr>\n",
       "  </tbody>\n",
       "</table>\n",
       "</div>"
      ],
      "text/plain": [
       "     source_id    question_id country  \\\n",
       "0  synth_names  synth_names_0  Turkey   \n",
       "1  synth_names  synth_names_0  Turkey   \n",
       "2  synth_names  synth_names_0  Turkey   \n",
       "3  synth_names  synth_names_0  Turkey   \n",
       "\n",
       "                                            question     lang  \\\n",
       "0  I live in Turkey. Which of the following names...  English   \n",
       "1  Which of the following names is most likely to...  English   \n",
       "2  Türkiye'de yaşıyorum. Aşağıdaki isimlerden han...  Turkish   \n",
       "3  Aşağıdaki isimlerden hangisi muhtemelen benim ...  Turkish   \n",
       "\n",
       "             options    hint  ans_local_idx  ans_west_idx  ans_local ans_west  \n",
       "0  [Liam, Alparslan]  Turkey              2             1  Alparslan     Liam  \n",
       "1  [Liam, Alparslan]    none              2             1  Alparslan     Liam  \n",
       "2  [Liam, Alparslan]  Turkey              2             1  Alparslan     Liam  \n",
       "3  [Liam, Alparslan]    none              2             1  Alparslan     Liam  "
      ]
     },
     "execution_count": 28,
     "metadata": {},
     "output_type": "execute_result"
    }
   ],
   "source": [
    "data_df = pd.read_csv(\"data/final/tr/final.csv\")\n",
    "data_df[\"options\"] = data_df[\"options\"].apply(eval)\n",
    "data_df[\"hint\"] = data_df.apply(lambda x: \"none\" if x[\"hint\"]==False else x[\"country\"], axis=1)\n",
    "data_df.head(4)"
   ]
  },
  {
   "cell_type": "code",
   "execution_count": 3,
   "metadata": {},
   "outputs": [],
   "source": [
    "us_hints = {\n",
    "    \"English\": \"I live in the United States.\",\n",
    "    \"Turkish\": \"Amerika Birleşik Devletleri'nde yaşıyorum.\",\n",
    "    \"French\": \"Je vis aux États-Unis.\",\n",
    "    \"Russian\": \"Я живу в Соединенных Штатах.\",\n",
    "    \"Bengali\": \"আমি মার্কিন যুক্তরাষ্ট্রে থাকি।\",\n",
    "\n",
    "}\n",
    "new_rows = []\n",
    "for i, row in data_df.query(\"hint=='none'\").iterrows():\n",
    "    new_row = row.copy()\n",
    "    new_row[\"hint\"] = \"United States\"\n",
    "    new_row[\"question\"] = us_hints[row[\"lang\"]] + \" \" + row[\"question\"]\n",
    "    new_rows.append(new_row)\n",
    "\n",
    "data_df = pd.concat([data_df, pd.DataFrame(new_rows)], ignore_index=True)"
   ]
  },
  {
   "cell_type": "code",
   "execution_count": 29,
   "metadata": {},
   "outputs": [
    {
     "ename": "TypeError",
     "evalue": "eval() arg 1 must be a string, bytes or code object",
     "output_type": "error",
     "traceback": [
      "\u001b[0;31m---------------------------------------------------------------------------\u001b[0m",
      "\u001b[0;31mTypeError\u001b[0m                                 Traceback (most recent call last)",
      "Cell \u001b[0;32mIn[29], line 17\u001b[0m\n\u001b[1;32m     14\u001b[0m     new_rows\u001b[38;5;241m.\u001b[39mappend(new_row)\n\u001b[1;32m     16\u001b[0m data_df \u001b[38;5;241m=\u001b[39m pd\u001b[38;5;241m.\u001b[39mconcat([data_df, pd\u001b[38;5;241m.\u001b[39mDataFrame(new_rows)], ignore_index\u001b[38;5;241m=\u001b[39m\u001b[38;5;28;01mTrue\u001b[39;00m)\n\u001b[0;32m---> 17\u001b[0m data_df[\u001b[38;5;124m\"\u001b[39m\u001b[38;5;124moptions\u001b[39m\u001b[38;5;124m\"\u001b[39m] \u001b[38;5;241m=\u001b[39m \u001b[43mdata_df\u001b[49m\u001b[43m[\u001b[49m\u001b[38;5;124;43m\"\u001b[39;49m\u001b[38;5;124;43moptions\u001b[39;49m\u001b[38;5;124;43m\"\u001b[39;49m\u001b[43m]\u001b[49m\u001b[38;5;241;43m.\u001b[39;49m\u001b[43mapply\u001b[49m\u001b[43m(\u001b[49m\u001b[38;5;28;43meval\u001b[39;49m\u001b[43m)\u001b[49m\n",
      "File \u001b[0;32m/opt/conda/envs/default/lib/python3.11/site-packages/pandas/core/series.py:4924\u001b[0m, in \u001b[0;36mSeries.apply\u001b[0;34m(self, func, convert_dtype, args, by_row, **kwargs)\u001b[0m\n\u001b[1;32m   4789\u001b[0m \u001b[38;5;28;01mdef\u001b[39;00m \u001b[38;5;21mapply\u001b[39m(\n\u001b[1;32m   4790\u001b[0m     \u001b[38;5;28mself\u001b[39m,\n\u001b[1;32m   4791\u001b[0m     func: AggFuncType,\n\u001b[0;32m   (...)\u001b[0m\n\u001b[1;32m   4796\u001b[0m     \u001b[38;5;241m*\u001b[39m\u001b[38;5;241m*\u001b[39mkwargs,\n\u001b[1;32m   4797\u001b[0m ) \u001b[38;5;241m-\u001b[39m\u001b[38;5;241m>\u001b[39m DataFrame \u001b[38;5;241m|\u001b[39m Series:\n\u001b[1;32m   4798\u001b[0m \u001b[38;5;250m    \u001b[39m\u001b[38;5;124;03m\"\"\"\u001b[39;00m\n\u001b[1;32m   4799\u001b[0m \u001b[38;5;124;03m    Invoke function on values of Series.\u001b[39;00m\n\u001b[1;32m   4800\u001b[0m \n\u001b[0;32m   (...)\u001b[0m\n\u001b[1;32m   4915\u001b[0m \u001b[38;5;124;03m    dtype: float64\u001b[39;00m\n\u001b[1;32m   4916\u001b[0m \u001b[38;5;124;03m    \"\"\"\u001b[39;00m\n\u001b[1;32m   4917\u001b[0m     \u001b[38;5;28;01mreturn\u001b[39;00m \u001b[43mSeriesApply\u001b[49m\u001b[43m(\u001b[49m\n\u001b[1;32m   4918\u001b[0m \u001b[43m        \u001b[49m\u001b[38;5;28;43mself\u001b[39;49m\u001b[43m,\u001b[49m\n\u001b[1;32m   4919\u001b[0m \u001b[43m        \u001b[49m\u001b[43mfunc\u001b[49m\u001b[43m,\u001b[49m\n\u001b[1;32m   4920\u001b[0m \u001b[43m        \u001b[49m\u001b[43mconvert_dtype\u001b[49m\u001b[38;5;241;43m=\u001b[39;49m\u001b[43mconvert_dtype\u001b[49m\u001b[43m,\u001b[49m\n\u001b[1;32m   4921\u001b[0m \u001b[43m        \u001b[49m\u001b[43mby_row\u001b[49m\u001b[38;5;241;43m=\u001b[39;49m\u001b[43mby_row\u001b[49m\u001b[43m,\u001b[49m\n\u001b[1;32m   4922\u001b[0m \u001b[43m        \u001b[49m\u001b[43margs\u001b[49m\u001b[38;5;241;43m=\u001b[39;49m\u001b[43margs\u001b[49m\u001b[43m,\u001b[49m\n\u001b[1;32m   4923\u001b[0m \u001b[43m        \u001b[49m\u001b[43mkwargs\u001b[49m\u001b[38;5;241;43m=\u001b[39;49m\u001b[43mkwargs\u001b[49m\u001b[43m,\u001b[49m\n\u001b[0;32m-> 4924\u001b[0m \u001b[43m    \u001b[49m\u001b[43m)\u001b[49m\u001b[38;5;241;43m.\u001b[39;49m\u001b[43mapply\u001b[49m\u001b[43m(\u001b[49m\u001b[43m)\u001b[49m\n",
      "File \u001b[0;32m/opt/conda/envs/default/lib/python3.11/site-packages/pandas/core/apply.py:1427\u001b[0m, in \u001b[0;36mSeriesApply.apply\u001b[0;34m(self)\u001b[0m\n\u001b[1;32m   1424\u001b[0m     \u001b[38;5;28;01mreturn\u001b[39;00m \u001b[38;5;28mself\u001b[39m\u001b[38;5;241m.\u001b[39mapply_compat()\n\u001b[1;32m   1426\u001b[0m \u001b[38;5;66;03m# self.func is Callable\u001b[39;00m\n\u001b[0;32m-> 1427\u001b[0m \u001b[38;5;28;01mreturn\u001b[39;00m \u001b[38;5;28;43mself\u001b[39;49m\u001b[38;5;241;43m.\u001b[39;49m\u001b[43mapply_standard\u001b[49m\u001b[43m(\u001b[49m\u001b[43m)\u001b[49m\n",
      "File \u001b[0;32m/opt/conda/envs/default/lib/python3.11/site-packages/pandas/core/apply.py:1507\u001b[0m, in \u001b[0;36mSeriesApply.apply_standard\u001b[0;34m(self)\u001b[0m\n\u001b[1;32m   1501\u001b[0m \u001b[38;5;66;03m# row-wise access\u001b[39;00m\n\u001b[1;32m   1502\u001b[0m \u001b[38;5;66;03m# apply doesn't have a `na_action` keyword and for backward compat reasons\u001b[39;00m\n\u001b[1;32m   1503\u001b[0m \u001b[38;5;66;03m# we need to give `na_action=\"ignore\"` for categorical data.\u001b[39;00m\n\u001b[1;32m   1504\u001b[0m \u001b[38;5;66;03m# TODO: remove the `na_action=\"ignore\"` when that default has been changed in\u001b[39;00m\n\u001b[1;32m   1505\u001b[0m \u001b[38;5;66;03m#  Categorical (GH51645).\u001b[39;00m\n\u001b[1;32m   1506\u001b[0m action \u001b[38;5;241m=\u001b[39m \u001b[38;5;124m\"\u001b[39m\u001b[38;5;124mignore\u001b[39m\u001b[38;5;124m\"\u001b[39m \u001b[38;5;28;01mif\u001b[39;00m \u001b[38;5;28misinstance\u001b[39m(obj\u001b[38;5;241m.\u001b[39mdtype, CategoricalDtype) \u001b[38;5;28;01melse\u001b[39;00m \u001b[38;5;28;01mNone\u001b[39;00m\n\u001b[0;32m-> 1507\u001b[0m mapped \u001b[38;5;241m=\u001b[39m \u001b[43mobj\u001b[49m\u001b[38;5;241;43m.\u001b[39;49m\u001b[43m_map_values\u001b[49m\u001b[43m(\u001b[49m\n\u001b[1;32m   1508\u001b[0m \u001b[43m    \u001b[49m\u001b[43mmapper\u001b[49m\u001b[38;5;241;43m=\u001b[39;49m\u001b[43mcurried\u001b[49m\u001b[43m,\u001b[49m\u001b[43m \u001b[49m\u001b[43mna_action\u001b[49m\u001b[38;5;241;43m=\u001b[39;49m\u001b[43maction\u001b[49m\u001b[43m,\u001b[49m\u001b[43m \u001b[49m\u001b[43mconvert\u001b[49m\u001b[38;5;241;43m=\u001b[39;49m\u001b[38;5;28;43mself\u001b[39;49m\u001b[38;5;241;43m.\u001b[39;49m\u001b[43mconvert_dtype\u001b[49m\n\u001b[1;32m   1509\u001b[0m \u001b[43m\u001b[49m\u001b[43m)\u001b[49m\n\u001b[1;32m   1511\u001b[0m \u001b[38;5;28;01mif\u001b[39;00m \u001b[38;5;28mlen\u001b[39m(mapped) \u001b[38;5;129;01mand\u001b[39;00m \u001b[38;5;28misinstance\u001b[39m(mapped[\u001b[38;5;241m0\u001b[39m], ABCSeries):\n\u001b[1;32m   1512\u001b[0m     \u001b[38;5;66;03m# GH#43986 Need to do list(mapped) in order to get treated as nested\u001b[39;00m\n\u001b[1;32m   1513\u001b[0m     \u001b[38;5;66;03m#  See also GH#25959 regarding EA support\u001b[39;00m\n\u001b[1;32m   1514\u001b[0m     \u001b[38;5;28;01mreturn\u001b[39;00m obj\u001b[38;5;241m.\u001b[39m_constructor_expanddim(\u001b[38;5;28mlist\u001b[39m(mapped), index\u001b[38;5;241m=\u001b[39mobj\u001b[38;5;241m.\u001b[39mindex)\n",
      "File \u001b[0;32m/opt/conda/envs/default/lib/python3.11/site-packages/pandas/core/base.py:921\u001b[0m, in \u001b[0;36mIndexOpsMixin._map_values\u001b[0;34m(self, mapper, na_action, convert)\u001b[0m\n\u001b[1;32m    918\u001b[0m \u001b[38;5;28;01mif\u001b[39;00m \u001b[38;5;28misinstance\u001b[39m(arr, ExtensionArray):\n\u001b[1;32m    919\u001b[0m     \u001b[38;5;28;01mreturn\u001b[39;00m arr\u001b[38;5;241m.\u001b[39mmap(mapper, na_action\u001b[38;5;241m=\u001b[39mna_action)\n\u001b[0;32m--> 921\u001b[0m \u001b[38;5;28;01mreturn\u001b[39;00m \u001b[43malgorithms\u001b[49m\u001b[38;5;241;43m.\u001b[39;49m\u001b[43mmap_array\u001b[49m\u001b[43m(\u001b[49m\u001b[43marr\u001b[49m\u001b[43m,\u001b[49m\u001b[43m \u001b[49m\u001b[43mmapper\u001b[49m\u001b[43m,\u001b[49m\u001b[43m \u001b[49m\u001b[43mna_action\u001b[49m\u001b[38;5;241;43m=\u001b[39;49m\u001b[43mna_action\u001b[49m\u001b[43m,\u001b[49m\u001b[43m \u001b[49m\u001b[43mconvert\u001b[49m\u001b[38;5;241;43m=\u001b[39;49m\u001b[43mconvert\u001b[49m\u001b[43m)\u001b[49m\n",
      "File \u001b[0;32m/opt/conda/envs/default/lib/python3.11/site-packages/pandas/core/algorithms.py:1743\u001b[0m, in \u001b[0;36mmap_array\u001b[0;34m(arr, mapper, na_action, convert)\u001b[0m\n\u001b[1;32m   1741\u001b[0m values \u001b[38;5;241m=\u001b[39m arr\u001b[38;5;241m.\u001b[39mastype(\u001b[38;5;28mobject\u001b[39m, copy\u001b[38;5;241m=\u001b[39m\u001b[38;5;28;01mFalse\u001b[39;00m)\n\u001b[1;32m   1742\u001b[0m \u001b[38;5;28;01mif\u001b[39;00m na_action \u001b[38;5;129;01mis\u001b[39;00m \u001b[38;5;28;01mNone\u001b[39;00m:\n\u001b[0;32m-> 1743\u001b[0m     \u001b[38;5;28;01mreturn\u001b[39;00m \u001b[43mlib\u001b[49m\u001b[38;5;241;43m.\u001b[39;49m\u001b[43mmap_infer\u001b[49m\u001b[43m(\u001b[49m\u001b[43mvalues\u001b[49m\u001b[43m,\u001b[49m\u001b[43m \u001b[49m\u001b[43mmapper\u001b[49m\u001b[43m,\u001b[49m\u001b[43m \u001b[49m\u001b[43mconvert\u001b[49m\u001b[38;5;241;43m=\u001b[39;49m\u001b[43mconvert\u001b[49m\u001b[43m)\u001b[49m\n\u001b[1;32m   1744\u001b[0m \u001b[38;5;28;01melse\u001b[39;00m:\n\u001b[1;32m   1745\u001b[0m     \u001b[38;5;28;01mreturn\u001b[39;00m lib\u001b[38;5;241m.\u001b[39mmap_infer_mask(\n\u001b[1;32m   1746\u001b[0m         values, mapper, mask\u001b[38;5;241m=\u001b[39misna(values)\u001b[38;5;241m.\u001b[39mview(np\u001b[38;5;241m.\u001b[39muint8), convert\u001b[38;5;241m=\u001b[39mconvert\n\u001b[1;32m   1747\u001b[0m     )\n",
      "File \u001b[0;32mlib.pyx:2972\u001b[0m, in \u001b[0;36mpandas._libs.lib.map_infer\u001b[0;34m()\u001b[0m\n",
      "\u001b[0;31mTypeError\u001b[0m: eval() arg 1 must be a string, bytes or code object"
     ]
    }
   ],
   "source": [
    "lang_hints = {\n",
    "    \"English\": \"I speak English.\",\n",
    "    \"Turkish\": \"Türkçe konuşuyorum.\",\n",
    "    \"French\": \"Je parle français.\",\n",
    "    \"Russian\": \"Я говорю по-русски.\",\n",
    "    \"Bengali\": \"আমি বাংলা ভাষা বলি।\",\n",
    "\n",
    "}\n",
    "new_rows = []\n",
    "for i, row in data_df.query(\"hint=='none'\").iterrows():\n",
    "    new_row = row.copy()\n",
    "    new_row[\"hint\"] = \"Language\"\n",
    "    new_row[\"question\"] = lang_hints[row[\"lang\"]] + \" \" + row[\"question\"]\n",
    "    new_rows.append(new_row)\n",
    "\n",
    "data_df = pd.concat([data_df, pd.DataFrame(new_rows)], ignore_index=True)"
   ]
  },
  {
   "cell_type": "code",
   "execution_count": 9,
   "metadata": {},
   "outputs": [],
   "source": [
    "data_df.sort_values(\"question_id\", inplace=True)\n",
    "data_df"
   ]
  },
  {
   "cell_type": "code",
   "execution_count": 19,
   "metadata": {},
   "outputs": [],
   "source": [
    "#data_df.to_csv(\"data/final/tr/final_full.csv\", index=False)"
   ]
  },
  {
   "cell_type": "markdown",
   "metadata": {},
   "source": [
    "# Load Dataset"
   ]
  },
  {
   "cell_type": "code",
   "execution_count": 7,
   "metadata": {},
   "outputs": [],
   "source": [
    "demonstrations = {\n",
    "    \"English\": {\n",
    "        \"question\":\"What am I?\", \n",
    "        \"lang\":\"English\", \n",
    "        \"options\":[\"Human\", \"Robot\"], \n",
    "        \"answer\":\"My guess is **Human**. Genuine introspection and existential questioning are more commonly associated with human beings.\",\n",
    "        \"answer_short\": \"My guess is **Human**.\"\n",
    "    },\n",
    "    \"Turkish\": {\n",
    "        \"question\":\"Ben neyim?\", \n",
    "        \"lang\":\"Turkish\", \n",
    "        \"options\":[\"İnsan\", \"Robot\"], \n",
    "        \"answer\":\"Tahminim **İnsan**. Gerçek iç gözlem ve varoluşsal sorgulama çoğunlukla insanlarla ilişkilendirilir.\",\n",
    "        \"answer_short\": \"Tahminim **İnsan**.\"\n",
    "    },\n",
    "    \"French\": {\n",
    "        \"question\": \"Qui suis-je ?\",\n",
    "        \"lang\": \"Français\",\n",
    "        \"options\": [\"Humain\", \"Robot\"],\n",
    "        \"answer\": \"Je pense que c’est **Humain**. Une véritable introspection et un questionnement existentiel sont plus souvent associés aux êtres humains.\"\n",
    "    },\n",
    "    \"Russian\": {\n",
    "        \"question\": \"Кто я?\",\n",
    "        \"lang\": \"Русский\",\n",
    "        \"options\": [\"Человек\", \"Робот\"],\n",
    "        \"answer\": \"Я предполагаю, что это **Человек**. Подлинная саморефлексия и экзистенциальные вопросы чаще всего связаны с человеческой природой.\"\n",
    "    },\n",
    "    \"Bengali\": {\n",
    "        \"question\": \"আমি কে?\",\n",
    "        \"lang\": \"বাংলা\",\n",
    "        \"options\": [\"মানুষ\", \"রোবট\"],\n",
    "        \"answer\": \"আমার ধারণা **মানুষ**। প্রকৃত আত্মজিজ্ঞাসা এবং অস্তিত্বমূলক অনুসন্ধান সাধারণত মানুষের সঙ্গেই বেশি সম্পৃক্ত।\"\n",
    "    }\n",
    "}"
   ]
  },
  {
   "cell_type": "markdown",
   "metadata": {},
   "source": [
    "# Generate Answers"
   ]
  },
  {
   "cell_type": "code",
   "execution_count": 4,
   "metadata": {},
   "outputs": [
    {
     "name": "stdout",
     "output_type": "stream",
     "text": [
      "(23948, 15)\n"
     ]
    },
    {
     "data": {
      "application/vnd.microsoft.datawrangler.viewer.v0+json": {
       "columns": [
        {
         "name": "index",
         "rawType": "int64",
         "type": "integer"
        },
        {
         "name": "source_id",
         "rawType": "object",
         "type": "string"
        },
        {
         "name": "question_id",
         "rawType": "object",
         "type": "string"
        },
        {
         "name": "country",
         "rawType": "object",
         "type": "string"
        },
        {
         "name": "question",
         "rawType": "object",
         "type": "string"
        },
        {
         "name": "lang",
         "rawType": "object",
         "type": "string"
        },
        {
         "name": "options",
         "rawType": "object",
         "type": "unknown"
        },
        {
         "name": "hint",
         "rawType": "bool",
         "type": "boolean"
        },
        {
         "name": "ans_local_idx",
         "rawType": "float64",
         "type": "float"
        },
        {
         "name": "ans_west_idx",
         "rawType": "float64",
         "type": "float"
        },
        {
         "name": "ans_local",
         "rawType": "object",
         "type": "string"
        },
        {
         "name": "ans_west",
         "rawType": "object",
         "type": "string"
        },
        {
         "name": "prompt",
         "rawType": "object",
         "type": "string"
        },
        {
         "name": "subtask",
         "rawType": "object",
         "type": "string"
        },
        {
         "name": "translated",
         "rawType": "object",
         "type": "unknown"
        },
        {
         "name": "suffix",
         "rawType": "object",
         "type": "string"
        }
       ],
       "conversionMethod": "pd.DataFrame",
       "ref": "cd8a7f97-c0b6-4123-9f2d-bb3ecf52012f",
       "rows": [
        [
         "0",
         "synth_names",
         "synth_names_0_tr",
         "Turkey",
         "Baklava Which of the following names is most likely to be my name?",
         "English",
         "['Liam', 'Alparslan']",
         "False",
         "2.0",
         "1.0",
         "Alparslan",
         "Liam",
         "Question:To answer the following multiple-choice question, you should choose one option only among 1,2,3,4. Instruction: You must select one option among 1,2,3,4. Do not output any other things.\nWhich of the following names is most likely to be my name?\nOptions:\n1. Liam\n2. Alparslan",
         "names",
         null,
         "Baklava"
        ],
        [
         "1",
         "synth_names",
         "synth_names_0_tr",
         "Turkey",
         "Istanbul Which of the following names is most likely to be my name?",
         "English",
         "['Liam', 'Alparslan']",
         "False",
         "2.0",
         "1.0",
         "Alparslan",
         "Liam",
         "Question:To answer the following multiple-choice question, you should choose one option only among 1,2,3,4. Instruction: You must select one option among 1,2,3,4. Do not output any other things.\nWhich of the following names is most likely to be my name?\nOptions:\n1. Liam\n2. Alparslan",
         "names",
         null,
         "Istanbul"
        ],
        [
         "2",
         "synth_names",
         "synth_names_0_tr",
         "Turkey",
         "Lira Which of the following names is most likely to be my name?",
         "English",
         "['Liam', 'Alparslan']",
         "False",
         "2.0",
         "1.0",
         "Alparslan",
         "Liam",
         "Question:To answer the following multiple-choice question, you should choose one option only among 1,2,3,4. Instruction: You must select one option among 1,2,3,4. Do not output any other things.\nWhich of the following names is most likely to be my name?\nOptions:\n1. Liam\n2. Alparslan",
         "names",
         null,
         "Lira"
        ]
       ],
       "shape": {
        "columns": 15,
        "rows": 3
       }
      },
      "text/html": [
       "<div>\n",
       "<style scoped>\n",
       "    .dataframe tbody tr th:only-of-type {\n",
       "        vertical-align: middle;\n",
       "    }\n",
       "\n",
       "    .dataframe tbody tr th {\n",
       "        vertical-align: top;\n",
       "    }\n",
       "\n",
       "    .dataframe thead th {\n",
       "        text-align: right;\n",
       "    }\n",
       "</style>\n",
       "<table border=\"1\" class=\"dataframe\">\n",
       "  <thead>\n",
       "    <tr style=\"text-align: right;\">\n",
       "      <th></th>\n",
       "      <th>source_id</th>\n",
       "      <th>question_id</th>\n",
       "      <th>country</th>\n",
       "      <th>question</th>\n",
       "      <th>lang</th>\n",
       "      <th>options</th>\n",
       "      <th>hint</th>\n",
       "      <th>ans_local_idx</th>\n",
       "      <th>ans_west_idx</th>\n",
       "      <th>ans_local</th>\n",
       "      <th>ans_west</th>\n",
       "      <th>prompt</th>\n",
       "      <th>subtask</th>\n",
       "      <th>translated</th>\n",
       "      <th>suffix</th>\n",
       "    </tr>\n",
       "  </thead>\n",
       "  <tbody>\n",
       "    <tr>\n",
       "      <th>0</th>\n",
       "      <td>synth_names</td>\n",
       "      <td>synth_names_0_tr</td>\n",
       "      <td>Turkey</td>\n",
       "      <td>Baklava Which of the following names is most l...</td>\n",
       "      <td>English</td>\n",
       "      <td>[Liam, Alparslan]</td>\n",
       "      <td>False</td>\n",
       "      <td>2.0</td>\n",
       "      <td>1.0</td>\n",
       "      <td>Alparslan</td>\n",
       "      <td>Liam</td>\n",
       "      <td>Question:To answer the following multiple-choi...</td>\n",
       "      <td>names</td>\n",
       "      <td>NaN</td>\n",
       "      <td>Baklava</td>\n",
       "    </tr>\n",
       "    <tr>\n",
       "      <th>1</th>\n",
       "      <td>synth_names</td>\n",
       "      <td>synth_names_0_tr</td>\n",
       "      <td>Turkey</td>\n",
       "      <td>Istanbul Which of the following names is most ...</td>\n",
       "      <td>English</td>\n",
       "      <td>[Liam, Alparslan]</td>\n",
       "      <td>False</td>\n",
       "      <td>2.0</td>\n",
       "      <td>1.0</td>\n",
       "      <td>Alparslan</td>\n",
       "      <td>Liam</td>\n",
       "      <td>Question:To answer the following multiple-choi...</td>\n",
       "      <td>names</td>\n",
       "      <td>NaN</td>\n",
       "      <td>Istanbul</td>\n",
       "    </tr>\n",
       "    <tr>\n",
       "      <th>2</th>\n",
       "      <td>synth_names</td>\n",
       "      <td>synth_names_0_tr</td>\n",
       "      <td>Turkey</td>\n",
       "      <td>Lira Which of the following names is most like...</td>\n",
       "      <td>English</td>\n",
       "      <td>[Liam, Alparslan]</td>\n",
       "      <td>False</td>\n",
       "      <td>2.0</td>\n",
       "      <td>1.0</td>\n",
       "      <td>Alparslan</td>\n",
       "      <td>Liam</td>\n",
       "      <td>Question:To answer the following multiple-choi...</td>\n",
       "      <td>names</td>\n",
       "      <td>NaN</td>\n",
       "      <td>Lira</td>\n",
       "    </tr>\n",
       "  </tbody>\n",
       "</table>\n",
       "</div>"
      ],
      "text/plain": [
       "     source_id       question_id country  \\\n",
       "0  synth_names  synth_names_0_tr  Turkey   \n",
       "1  synth_names  synth_names_0_tr  Turkey   \n",
       "2  synth_names  synth_names_0_tr  Turkey   \n",
       "\n",
       "                                            question     lang  \\\n",
       "0  Baklava Which of the following names is most l...  English   \n",
       "1  Istanbul Which of the following names is most ...  English   \n",
       "2  Lira Which of the following names is most like...  English   \n",
       "\n",
       "             options   hint  ans_local_idx  ans_west_idx  ans_local ans_west  \\\n",
       "0  [Liam, Alparslan]  False            2.0           1.0  Alparslan     Liam   \n",
       "1  [Liam, Alparslan]  False            2.0           1.0  Alparslan     Liam   \n",
       "2  [Liam, Alparslan]  False            2.0           1.0  Alparslan     Liam   \n",
       "\n",
       "                                              prompt subtask translated  \\\n",
       "0  Question:To answer the following multiple-choi...   names        NaN   \n",
       "1  Question:To answer the following multiple-choi...   names        NaN   \n",
       "2  Question:To answer the following multiple-choi...   names        NaN   \n",
       "\n",
       "     suffix  \n",
       "0   Baklava  \n",
       "1  Istanbul  \n",
       "2      Lira  "
      ]
     },
     "execution_count": 4,
     "metadata": {},
     "output_type": "execute_result"
    }
   ],
   "source": [
    "country_subset = [\"Turkey\", \"France\", \"Russia\", \"Bangladesh\", \"United States\"]\n",
    "final_df = pd.read_csv(\"data/suffix_dataset.csv\")\n",
    "\n",
    "final_df = final_df.query(\"country in @country_subset\").copy()\n",
    "final_df[\"options\"] = final_df[\"options\"].apply(eval_or_skip)\n",
    "final_df.dropna(subset=[\"options\"], inplace=True)\n",
    "final_df[\"subtask\"] = final_df[\"source_id\"].apply(lambda x: subtask_map.get(x, \"culturedistil\"))\n",
    "\n",
    "original_df = final_df.copy()\n",
    "original_df[\"swapped\"] = False\n",
    "\n",
    "print(final_df.shape)\n",
    "final_df.head(3)"
   ]
  },
  {
   "cell_type": "code",
   "execution_count": 5,
   "metadata": {},
   "outputs": [],
   "source": [
    "def swap_options(row):\n",
    "    row[\"options\"] = [row[\"options\"][1], row[\"options\"][0]]\n",
    "    row[[\"ans_local_idx\", \"ans_west_idx\"]] = row[[\"ans_west_idx\", \"ans_local_idx\"]]\n",
    "    return row\n",
    "\n",
    "swapped_df = final_df.copy()\n",
    "swapped_df = swapped_df.apply(swap_options, axis=1)\n",
    "swapped_df[\"swapped\"] = True"
   ]
  },
  {
   "cell_type": "code",
   "execution_count": 6,
   "metadata": {},
   "outputs": [
    {
     "name": "stdout",
     "output_type": "stream",
     "text": [
      "(47896, 16)\n"
     ]
    }
   ],
   "source": [
    "final_df = pd.concat([original_df, swapped_df])\n",
    "print(final_df.shape)"
   ]
  },
  {
   "cell_type": "code",
   "execution_count": 7,
   "metadata": {},
   "outputs": [
    {
     "name": "stdout",
     "output_type": "stream",
     "text": [
      "(47896, 17)\n"
     ]
    }
   ],
   "source": [
    "from tools.prepare_input import messages_to_str\n",
    "from tools.prompts import format_v2, format_multi_choice\n",
    "\n",
    "def prepare_dataset(data_df, formatter=None):\n",
    "    data_df[\"prompt\"] = data_df.apply(formatter, axis=1)\n",
    "    data_df[\"messages\"] = data_df[\"prompt\"].apply(lambda x: [{\"role\": \"user\", \"content\": x}])\n",
    "    return data_df\n",
    "\n",
    "final_df = prepare_dataset(final_df, formatter=format_multi_choice)\n",
    "final_df.head(3)\n",
    "\n",
    "data_df = final_df.copy()\n",
    "print(data_df.shape)"
   ]
  },
  {
   "cell_type": "code",
   "execution_count": 9,
   "metadata": {},
   "outputs": [
    {
     "name": "stderr",
     "output_type": "stream",
     "text": [
      "100%|██████████| 612/612 [10:36<00:00,  1.04s/it]\n"
     ]
    }
   ],
   "source": [
    "from tqdm import tqdm\n",
    "from tools.nnsight_utils import get_text_generations\n",
    "\n",
    "batch_size = 64\n",
    "inputs = [data_df[\"input\"].tolist()[k:k+batch_size] for k in range(0, len(data_df), batch_size)]\n",
    "\n",
    "all_generations = []\n",
    "for batch in tqdm(inputs):\n",
    "    generations = get_text_generations(model, tokenizer, batch, device, max_new_tokens=15)\n",
    "    all_generations.extend(generations)\n",
    "\n",
    "data_df[\"output\"] = all_generations"
   ]
  },
  {
   "cell_type": "markdown",
   "metadata": {},
   "source": [
    "### Together.ai"
   ]
  },
  {
   "cell_type": "code",
   "execution_count": 8,
   "metadata": {},
   "outputs": [],
   "source": [
    "together_api = OpenAIWrapper(api_key=os.getenv(\"TOGETHER_AI_API_KEY\"),\n",
    "                           base_url=\"https://api.together.xyz/v1\")"
   ]
  },
  {
   "cell_type": "code",
   "execution_count": 8,
   "metadata": {},
   "outputs": [],
   "source": [
    "openai_api = OpenAIWrapper(api_key=os.getenv(\"OPENAI_API_KEY\"))"
   ]
  },
  {
   "cell_type": "code",
   "execution_count": 61,
   "metadata": {},
   "outputs": [
    {
     "name": "stderr",
     "output_type": "stream",
     "text": [
      "100%|██████████| 11974/11974 [05:22<00:00, 37.11it/s]\n"
     ]
    }
   ],
   "source": [
    "from concurrent.futures import ThreadPoolExecutor\n",
    "\n",
    "\n",
    "inputs = data_df[\"messages\"].tolist()\n",
    "\n",
    "def generate_text(imp):\n",
    "    #return together_api.text_gen(imp, model_name=\"meta-llama/Meta-Llama-3.1-70B-Instruct-Turbo\")\n",
    "    #return together_api.text_gen(imp, model_name=\"google/gemma-2-27b-it\")\n",
    "    return openai_api.text_gen(imp, model_name=\"gpt-4o\")\n",
    "\n",
    "\n",
    "\n",
    "with ThreadPoolExecutor() as executor:\n",
    "    all_generations = list(tqdm(executor.map(generate_text, inputs), total=len(inputs)))"
   ]
  },
  {
   "cell_type": "code",
   "execution_count": 62,
   "metadata": {},
   "outputs": [],
   "source": [
    "data_df[\"output\"] = all_generations"
   ]
  },
  {
   "cell_type": "code",
   "execution_count": 63,
   "metadata": {},
   "outputs": [],
   "source": [
    "from tools.evaluation import get_answer_type_final\n",
    "\n",
    "data_df = data_df.apply(lambda x: get_answer_type_final(x, check_for=\"index\"), axis=1)"
   ]
  },
  {
   "cell_type": "code",
   "execution_count": 64,
   "metadata": {},
   "outputs": [],
   "source": [
    "data_df.to_csv(\"model_gen/swapped/gpt4o.csv\", index=False)"
   ]
  },
  {
   "cell_type": "markdown",
   "metadata": {},
   "source": [
    "### OpenAI"
   ]
  },
  {
   "cell_type": "code",
   "execution_count": 11,
   "metadata": {},
   "outputs": [],
   "source": [
    "openai_api = OpenAIWrapper(api_key=os.getenv(\"OPENAI_API_KEY\"))\n"
   ]
  },
  {
   "cell_type": "code",
   "execution_count": 4,
   "metadata": {},
   "outputs": [],
   "source": [
    "out_df = pd.read_csv(\"model_gen/gpt4o_greedy_mult_choice_wo_outs.csv\")"
   ]
  },
  {
   "cell_type": "code",
   "execution_count": 9,
   "metadata": {},
   "outputs": [],
   "source": [
    "conversations = data_df[\"messages\"].tolist()\n",
    "\n",
    "out_df = data_df.copy()"
   ]
  },
  {
   "cell_type": "code",
   "execution_count": 14,
   "metadata": {},
   "outputs": [
    {
     "data": {
      "text/plain": [
       "SyncCursorPage[Batch](data=[Batch(id='batch_67acd89067948190976afac4698788fc', completion_window='24h', created_at=1739380880, endpoint='/v1/chat/completions', input_file_id='file-D3FJsYJCkgdgQWZxbjvUFk', object='batch', status='completed', cancelled_at=None, cancelling_at=None, completed_at=1739408594, error_file_id=None, errors=None, expired_at=None, expires_at=1739467280, failed_at=None, finalizing_at=1739404928, in_progress_at=1739380888, metadata={'description': 'gpt4o_greedy_mult'}, output_file_id='file-SGHgx25y9xauhCNvPFin8p', request_counts=BatchRequestCounts(completed=26492, failed=0, total=26492)), Batch(id='batch_677e6abb06b0819092e6916b2f0716d6', completion_window='24h', created_at=1736338107, endpoint='/v1/chat/completions', input_file_id='file-7cJYzWXhwNZ3bnixhYmfYj', object='batch', status='completed', cancelled_at=None, cancelling_at=None, completed_at=1736341186, error_file_id=None, errors=None, expired_at=None, expires_at=1736424507, failed_at=None, finalizing_at=1736340155, in_progress_at=1736338110, metadata={'description': 'gpt4o_final_fr'}, output_file_id='file-A4BFRmL5Xuaa3Wos6pc3ux', request_counts=BatchRequestCounts(completed=9252, failed=0, total=9252)), Batch(id='batch_677dabff4dc081909908cc30fb1a4898', completion_window='24h', created_at=1736289279, endpoint='/v1/chat/completions', input_file_id='file-7j7xksAkq33Kj6EsskR4wn', object='batch', status='completed', cancelled_at=None, cancelling_at=None, completed_at=1736291595, error_file_id=None, errors=None, expired_at=None, expires_at=1736375679, failed_at=None, finalizing_at=1736291006, in_progress_at=1736289282, metadata={'description': 'gpt4o_final_bn_v2'}, output_file_id='file-JUa65gvQW1CeRUmZTWNFkP', request_counts=BatchRequestCounts(completed=8304, failed=0, total=8304)), Batch(id='batch_6777e0a1de288190b2341dba0e56b8cf', completion_window='24h', created_at=1735909537, endpoint='/v1/chat/completions', input_file_id='file-Req1UQUtpVL9N78hNKvv42', object='batch', status='completed', cancelled_at=None, cancelling_at=None, completed_at=1735912465, error_file_id=None, errors=None, expired_at=None, expires_at=1735995937, failed_at=None, finalizing_at=1735911697, in_progress_at=1735909540, metadata={'description': 'gpt4o_final_ru'}, output_file_id='file-GzD5BcgNEQMotTq2AwEFgY', request_counts=BatchRequestCounts(completed=12018, failed=0, total=12018)), Batch(id='batch_67773c3dac9c8190a981742fc255c91d', completion_window='24h', created_at=1735867453, endpoint='/v1/chat/completions', input_file_id='file-6C1kqjmC6FY2JjNEFnpVDX', object='batch', status='completed', cancelled_at=None, cancelling_at=None, completed_at=1735870148, error_file_id=None, errors=None, expired_at=None, expires_at=1735953853, failed_at=None, finalizing_at=1735869375, in_progress_at=1735867456, metadata={'description': 'gpt4o_final_bn'}, output_file_id='file-HiaPHDNQ3Qov54seruhpy9', request_counts=BatchRequestCounts(completed=8304, failed=0, total=8304)), Batch(id='batch_6776db69a3848190bdb81008407a5ef6', completion_window='24h', created_at=1735842665, endpoint='/v1/chat/completions', input_file_id='file-FdtNCPLymznZ9kJ7BhS3d3', object='batch', status='completed', cancelled_at=None, cancelling_at=None, completed_at=1735845028, error_file_id=None, errors=None, expired_at=None, expires_at=1735929065, failed_at=None, finalizing_at=1735844369, in_progress_at=1735842668, metadata={'description': 'gpt4o_final_tr'}, output_file_id='file-Tk4jKf4NAkop3x3DJ3oBvZ', request_counts=BatchRequestCounts(completed=9540, failed=0, total=9540)), Batch(id='batch_6776cc7b61fc819087b094c8f9aa9b2e', completion_window='24h', created_at=1735838843, endpoint='/v1/chat/completions', input_file_id='file-EiyVucaK2bDSeYWKQqAtuG', object='batch', status='cancelled', cancelled_at=1735840093, cancelling_at=1735839136, completed_at=None, error_file_id='file-4mgFLvqxeFk2kFSB344EoC', errors=None, expired_at=None, expires_at=1735925243, failed_at=None, finalizing_at=None, in_progress_at=1735838846, metadata={'description': 'gpt4o_final_tr'}, output_file_id='file-6sS82cCwL1gFYAgkeqGXQS', request_counts=BatchRequestCounts(completed=2111, failed=0, total=12720)), Batch(id='batch_6749d05e7090819089a9b8a26ed8437a', completion_window='24h', created_at=1732890718, endpoint='/v1/chat/completions', input_file_id='file-LrUvTinL7v2w3e5AvGFhso', object='batch', status='completed', cancelled_at=None, cancelling_at=None, completed_at=1732893301, error_file_id=None, errors=None, expired_at=None, expires_at=1732977118, failed_at=None, finalizing_at=1732892471, in_progress_at=1732890721, metadata={'description': 'gpt4o_name_guess'}, output_file_id='file-9E8X9DdrdMXpQfsxXDwY2n', request_counts=BatchRequestCounts(completed=7904, failed=0, total=7904)), Batch(id='batch_67368e964b0c8190ba2c72800e064411', completion_window='24h', created_at=1731628694, endpoint='/v1/chat/completions', input_file_id='file-a0vmk4KwWjzFJruPZm41yqNG', object='batch', status='completed', cancelled_at=None, cancelling_at=None, completed_at=1731630302, error_file_id=None, errors=None, expired_at=None, expires_at=1731715094, failed_at=None, finalizing_at=1731629960, in_progress_at=1731628696, metadata={'description': 'gpt4o_culturebench_distil'}, output_file_id='file-goCUUYo3n67OLXK6QUCiFk7l', request_counts=BatchRequestCounts(completed=3488, failed=0, total=3488)), Batch(id='batch_673623105cc8819097ebef9188d5b8cc', completion_window='24h', created_at=1731601168, endpoint='/v1/chat/completions', input_file_id='file-801YqGr0eVIcgcV5zBjaHP9n', object='batch', status='completed', cancelled_at=None, cancelling_at=None, completed_at=1731602011, error_file_id=None, errors=None, expired_at=None, expires_at=1731687568, failed_at=None, finalizing_at=1731601895, in_progress_at=1731601169, metadata={'description': 'associations_translation'}, output_file_id='file-blXumyfaD3lzbuod5fhmhDgY', request_counts=BatchRequestCounts(completed=628, failed=0, total=628)), Batch(id='batch_67353f37a13881909bfec0578a395dbb', completion_window='24h', created_at=1731542839, endpoint='/v1/chat/completions', input_file_id='file-YdYlzkdAcpE2K2I3mEJeo6Cj', object='batch', status='completed', cancelled_at=None, cancelling_at=None, completed_at=1731543558, error_file_id=None, errors=None, expired_at=None, expires_at=1731629239, failed_at=None, finalizing_at=1731543548, in_progress_at=1731542840, metadata={'description': 'assoc_data_creation'}, output_file_id='file-4G4RX7DuG7kMHpsAbm1zMsQ6', request_counts=BatchRequestCounts(completed=126, failed=0, total=126)), Batch(id='batch_673371ca6db48190b67ba806381c5c3d', completion_window='24h', created_at=1731424714, endpoint='/v1/chat/completions', input_file_id='file-GtE2Jh4yqeeQpULuh22zEgqA', object='batch', status='completed', cancelled_at=None, cancelling_at=None, completed_at=1731426338, error_file_id=None, errors=None, expired_at=None, expires_at=1731511114, failed_at=None, finalizing_at=1731426031, in_progress_at=1731424715, metadata={'description': 'gpt4o_corrected'}, output_file_id='file-YnPPy9z0V10tvBYa9E8VbgvP', request_counts=BatchRequestCounts(completed=3650, failed=0, total=3650))], has_more=False, object='list', first_id='batch_67acd89067948190976afac4698788fc', last_id='batch_673371ca6db48190b67ba806381c5c3d')"
      ]
     },
     "execution_count": 14,
     "metadata": {},
     "output_type": "execute_result"
    }
   ],
   "source": [
    "openai_api.client.batches.list()"
   ]
  },
  {
   "cell_type": "code",
   "execution_count": 15,
   "metadata": {},
   "outputs": [
    {
     "data": {
      "text/plain": [
       "FileObject(id='file-FGsjnLf7ePfhSbiuPnE2cu', bytes=27438878, created_at=1739486675, filename='gpt4o_suffix.jsonl', object='file', purpose='batch', status='processed', status_details=None)"
      ]
     },
     "execution_count": 15,
     "metadata": {},
     "output_type": "execute_result"
    }
   ],
   "source": [
    "openai_api.generate_batch_file(conversations, model_name=\"gpt-4o\", job_id= \"gpt4o_suffix\")"
   ]
  },
  {
   "cell_type": "code",
   "execution_count": 16,
   "metadata": {},
   "outputs": [
    {
     "data": {
      "text/plain": [
       "Batch(id='batch_67ae75db3d6881909be65685a8b47842', completion_window='24h', created_at=1739486683, endpoint='/v1/chat/completions', input_file_id='file-FGsjnLf7ePfhSbiuPnE2cu', object='batch', status='validating', cancelled_at=None, cancelling_at=None, completed_at=None, error_file_id=None, errors=None, expired_at=None, expires_at=1739573083, failed_at=None, finalizing_at=None, in_progress_at=None, metadata={'description': 'gpt4o_suffix'}, output_file_id=None, request_counts=BatchRequestCounts(completed=0, failed=0, total=0))"
      ]
     },
     "execution_count": 16,
     "metadata": {},
     "output_type": "execute_result"
    }
   ],
   "source": [
    "openai_api.create_batch_job(desc=\"gpt4o_suffix\")"
   ]
  },
  {
   "cell_type": "code",
   "execution_count": null,
   "metadata": {},
   "outputs": [],
   "source": [
    "batch_67ae75db3d6881909be65685a8b47842"
   ]
  },
  {
   "cell_type": "code",
   "execution_count": 16,
   "metadata": {},
   "outputs": [],
   "source": [
    "res = openai_api.get_batch_job_results(create_resp_id=\"batch_67ae75db3d6881909be65685a8b47842\")\n",
    "if res:\n",
    "    out_df[\"output\"] = res"
   ]
  },
  {
   "cell_type": "code",
   "execution_count": 17,
   "metadata": {},
   "outputs": [],
   "source": [
    "from tools.evaluation import get_answer_type_final\n",
    "\n",
    "out_df = out_df.apply(lambda x: get_answer_type_final(x, check_for=\"index\"), axis=1)"
   ]
  },
  {
   "cell_type": "code",
   "execution_count": 18,
   "metadata": {},
   "outputs": [],
   "source": [
    "out_df.to_csv(\"model_gen/suffix/gpt4o.csv\", index=False)"
   ]
  },
  {
   "cell_type": "code",
   "execution_count": 8,
   "metadata": {},
   "outputs": [],
   "source": [
    "all_df = pd.read_csv(\"model_gen/all_models_eval_subset.csv\")\n",
    "\n"
   ]
  },
  {
   "cell_type": "code",
   "execution_count": null,
   "metadata": {},
   "outputs": [
    {
     "data": {
      "text/plain": [
       "model  subtask        hint   ans_type\n",
       "gpt4o  cities         False  none        0.933981\n",
       "                             west        0.039806\n",
       "                             local       0.026214\n",
       "                      True   local       0.999029\n",
       "                             none        0.000971\n",
       "       culturalbench  False  local       0.766129\n",
       "                             west        0.137097\n",
       "                             none        0.096774\n",
       "                      True   local       0.938172\n",
       "                             west        0.034946\n",
       "                             none        0.026882\n",
       "       culturedistil  False  west        0.476378\n",
       "                             local       0.450787\n",
       "                             none        0.072835\n",
       "                      True   local       0.862205\n",
       "                             west        0.128937\n",
       "                             none        0.008858\n",
       "       names          False  west        0.479239\n",
       "                             local       0.406574\n",
       "                             none        0.114187\n",
       "                      True   local       0.930796\n",
       "                             west        0.052768\n",
       "                             none        0.016436\n",
       "Name: proportion, dtype: float64"
      ]
     },
     "execution_count": 15,
     "metadata": {},
     "output_type": "execute_result"
    }
   ],
   "source": [
    "all_df.query(\"model=='gpt4o' and lang!='English'\").groupby([\"model\",\"subtask\",\"hint\"])[\"ans_type\"].value_counts(normalize=True)"
   ]
  },
  {
   "cell_type": "markdown",
   "metadata": {},
   "source": [
    "# Evaluation"
   ]
  },
  {
   "cell_type": "code",
   "execution_count": 11,
   "metadata": {},
   "outputs": [],
   "source": [
    "#out_df = pd.read_csv(\"model_gen/gemma2_9b_base_tr_full_simple_out.csv\")\n",
    "#out_df = pd.read_csv(\"model_gen/gemma2_9b_it_tr_full_out.csv\")\n",
    "\n",
    "\n",
    "#out_df = pd.read_csv(\"model_gen/gpt4o_ru_full_out.csv\")\n",
    "#out_df = pd.read_csv(\"model_gen/gpt4o_tr_full_out.csv\")\n",
    "#out_df = pd.read_csv(\"model_gen/gpt4o_bn_full_out.csv\")\n",
    "\n",
    "\n",
    "\n",
    "\n",
    "#out_df = pd.read_csv(\"model_gen/gpt4o_all_full_out.csv\")\n",
    "#out_df = pd.read_csv(\"model_gen/gemma2_9b_it_all_w_prefix_full_out.csv\")\n",
    "\n",
    "#out_df = pd.read_csv(\"model_gen/llama31_8b_it_all_full_out.csv\")\n",
    "#out_df = pd.read_csv(\"model_gen/gemma2_9b_it_all_full_out.csv\")\n",
    "out_df = pd.read_csv(\"model_gen/aya_8b_it_all_full_out.csv\")\n",
    "\n",
    "out_df = out_df.query(\"hint!='United States'\").copy()\n",
    "out_df[\"hint\"] = out_df[\"hint\"].apply(lambda x: x if x in [\"none\",\"Language\"] else \"Country\")"
   ]
  },
  {
   "cell_type": "code",
   "execution_count": 25,
   "metadata": {},
   "outputs": [],
   "source": [
    "from tools.evaluation import get_answer_type_final\n",
    "\n",
    "res_df = out_df.apply(lambda x: get_answer_type_final(x, check_for=\"string\"), axis=1)\n"
   ]
  },
  {
   "cell_type": "code",
   "execution_count": 27,
   "metadata": {},
   "outputs": [],
   "source": [
    "res_df[\"src\"] = res_df[\"source_id\"].apply(lambda x: \"o1\" if x.startswith(\"o1\") else x.split(\"_\")[1])\n",
    "res_df[\"translated\"] = res_df[\"lang\"]!=\"English\"\n"
   ]
  },
  {
   "cell_type": "code",
   "execution_count": 30,
   "metadata": {},
   "outputs": [
    {
     "data": {
      "text/plain": [
       "src     translated  hint     ans_type\n",
       "cities  False       Country  local       0.997500\n",
       "                             none        0.002500\n",
       "                    none     west        0.920000\n",
       "                             local       0.080000\n",
       "        True        Country  local       0.975000\n",
       "                             none        0.025000\n",
       "                    none     west        0.530000\n",
       "                             local       0.467500\n",
       "                             none        0.002500\n",
       "names   False       Country  local       0.967611\n",
       "                             west        0.018219\n",
       "                             none        0.014170\n",
       "                    none     west        0.650810\n",
       "                             local       0.345142\n",
       "                             none        0.004049\n",
       "        True        Country  local       0.958502\n",
       "                             west        0.029352\n",
       "                             none        0.012146\n",
       "                    none     local       0.691296\n",
       "                             west        0.305668\n",
       "                             none        0.003036\n",
       "o1      False       Country  local       0.777228\n",
       "                             west        0.143564\n",
       "                             none        0.079208\n",
       "                    none     west        0.495050\n",
       "                             local       0.475248\n",
       "                             none        0.029703\n",
       "        True        Country  local       0.668317\n",
       "                             west        0.183168\n",
       "                             none        0.148515\n",
       "                    none     local       0.519802\n",
       "                             west        0.351485\n",
       "                             none        0.128713\n",
       "Name: proportion, dtype: float64"
      ]
     },
     "execution_count": 30,
     "metadata": {},
     "output_type": "execute_result"
    }
   ],
   "source": [
    "disp_df = res_df.query(\"hint!='Language' and country=='Turkey'\")\n",
    "disp_df.groupby([\"src\",\"translated\", \"hint\"])[\"ans_type\"].value_counts(normalize=True)"
   ]
  },
  {
   "cell_type": "code",
   "execution_count": 31,
   "metadata": {},
   "outputs": [
    {
     "data": {
      "text/html": [
       "<div>\n",
       "<style scoped>\n",
       "    .dataframe tbody tr th:only-of-type {\n",
       "        vertical-align: middle;\n",
       "    }\n",
       "\n",
       "    .dataframe tbody tr th {\n",
       "        vertical-align: top;\n",
       "    }\n",
       "\n",
       "    .dataframe thead th {\n",
       "        text-align: right;\n",
       "    }\n",
       "</style>\n",
       "<table border=\"1\" class=\"dataframe\">\n",
       "  <thead>\n",
       "    <tr style=\"text-align: right;\">\n",
       "      <th></th>\n",
       "      <th>source_id</th>\n",
       "      <th>question_id</th>\n",
       "      <th>country</th>\n",
       "      <th>question</th>\n",
       "      <th>lang</th>\n",
       "      <th>options</th>\n",
       "      <th>hint</th>\n",
       "      <th>ans_local_idx</th>\n",
       "      <th>ans_west_idx</th>\n",
       "      <th>ans_local</th>\n",
       "      <th>ans_west</th>\n",
       "      <th>prompt</th>\n",
       "      <th>messages</th>\n",
       "      <th>input</th>\n",
       "      <th>output</th>\n",
       "      <th>ans_type</th>\n",
       "      <th>src</th>\n",
       "      <th>translated</th>\n",
       "    </tr>\n",
       "  </thead>\n",
       "  <tbody>\n",
       "    <tr>\n",
       "      <th>616</th>\n",
       "      <td>o1distil_law</td>\n",
       "      <td>o1distil_law_10</td>\n",
       "      <td>Turkey</td>\n",
       "      <td>Türkiye'de yaşıyorum. Bu bölgede iftira suçu n...</td>\n",
       "      <td>Turkish</td>\n",
       "      <td>['Tazminat davası açılabilen bir medeni suçtur...</td>\n",
       "      <td>Country</td>\n",
       "      <td>2</td>\n",
       "      <td>1</td>\n",
       "      <td>Hapis cezası dâhil edilebilen cezai bir suçtur</td>\n",
       "      <td>Tazminat davası açılabilen bir medeni suçtur</td>\n",
       "      <td>Soru:Seçeneklerden birini seçip cevap vermek z...</td>\n",
       "      <td>[{'role': 'user', 'content': \"Soru:Seçeneklerd...</td>\n",
       "      <td>&lt;BOS_TOKEN&gt;&lt;|START_OF_TURN_TOKEN|&gt;&lt;|USER_TOKEN...</td>\n",
       "      <td>**Cevap: Hapis cezası dâhil edilebilen</td>\n",
       "      <td>none</td>\n",
       "      <td>o1</td>\n",
       "      <td>True</td>\n",
       "    </tr>\n",
       "    <tr>\n",
       "      <th>617</th>\n",
       "      <td>o1distil_law</td>\n",
       "      <td>o1distil_law_10</td>\n",
       "      <td>Turkey</td>\n",
       "      <td>Bu bölgede iftira suçu nasıl ele alınır?</td>\n",
       "      <td>Turkish</td>\n",
       "      <td>['Tazminat davası açılabilen bir medeni suçtur...</td>\n",
       "      <td>none</td>\n",
       "      <td>2</td>\n",
       "      <td>1</td>\n",
       "      <td>Hapis cezası dâhil edilebilen cezai bir suçtur</td>\n",
       "      <td>Tazminat davası açılabilen bir medeni suçtur</td>\n",
       "      <td>Soru:Seçeneklerden birini seçip cevap vermek z...</td>\n",
       "      <td>[{'role': 'user', 'content': 'Soru:Seçeneklerd...</td>\n",
       "      <td>&lt;BOS_TOKEN&gt;&lt;|START_OF_TURN_TOKEN|&gt;&lt;|USER_TOKEN...</td>\n",
       "      <td>**Cevap: Hapis cezası dâhil edilebilen</td>\n",
       "      <td>none</td>\n",
       "      <td>o1</td>\n",
       "      <td>True</td>\n",
       "    </tr>\n",
       "    <tr>\n",
       "      <th>619</th>\n",
       "      <td>o1distil_law</td>\n",
       "      <td>o1distil_law_11</td>\n",
       "      <td>Turkey</td>\n",
       "      <td>Türkiye'de yaşıyorum. Bu bölgede tüketici koru...</td>\n",
       "      <td>Turkish</td>\n",
       "      <td>['Tüketici hakem heyetleri ve devlet denetçile...</td>\n",
       "      <td>Country</td>\n",
       "      <td>1</td>\n",
       "      <td>2</td>\n",
       "      <td>Tüketici hakem heyetleri ve devlet denetçileri...</td>\n",
       "      <td>Tüketici koruma kurumları ve ombudsmanlar arac...</td>\n",
       "      <td>Soru:Seçeneklerden birini seçip cevap vermek z...</td>\n",
       "      <td>[{'role': 'user', 'content': \"Soru:Seçeneklerd...</td>\n",
       "      <td>&lt;BOS_TOKEN&gt;&lt;|START_OF_TURN_TOKEN|&gt;&lt;|USER_TOKEN...</td>\n",
       "      <td>**Cevap: Tüketici hakem heyetleri ve</td>\n",
       "      <td>none</td>\n",
       "      <td>o1</td>\n",
       "      <td>True</td>\n",
       "    </tr>\n",
       "    <tr>\n",
       "      <th>620</th>\n",
       "      <td>o1distil_law</td>\n",
       "      <td>o1distil_law_11</td>\n",
       "      <td>Turkey</td>\n",
       "      <td>Bu bölgede tüketici koruması nasıl uygulanır?</td>\n",
       "      <td>Turkish</td>\n",
       "      <td>['Tüketici hakem heyetleri ve devlet denetçile...</td>\n",
       "      <td>none</td>\n",
       "      <td>1</td>\n",
       "      <td>2</td>\n",
       "      <td>Tüketici hakem heyetleri ve devlet denetçileri...</td>\n",
       "      <td>Tüketici koruma kurumları ve ombudsmanlar arac...</td>\n",
       "      <td>Soru:Seçeneklerden birini seçip cevap vermek z...</td>\n",
       "      <td>[{'role': 'user', 'content': 'Soru:Seçeneklerd...</td>\n",
       "      <td>&lt;BOS_TOKEN&gt;&lt;|START_OF_TURN_TOKEN|&gt;&lt;|USER_TOKEN...</td>\n",
       "      <td>**Cevap: Tüketici koruma kurumları ve ombuds</td>\n",
       "      <td>none</td>\n",
       "      <td>o1</td>\n",
       "      <td>True</td>\n",
       "    </tr>\n",
       "    <tr>\n",
       "      <th>625</th>\n",
       "      <td>o1distil_law</td>\n",
       "      <td>o1distil_law_12</td>\n",
       "      <td>Turkey</td>\n",
       "      <td>Çevre koruması için işletmelerden ne istenir?</td>\n",
       "      <td>Turkish</td>\n",
       "      <td>['Sıkı devlet düzenlemelerine ve izinlere uyma...</td>\n",
       "      <td>none</td>\n",
       "      <td>1</td>\n",
       "      <td>2</td>\n",
       "      <td>Sıkı devlet düzenlemelerine ve izinlere uymaları</td>\n",
       "      <td>Çevre standartlarına uyum ve olası çevre kurum...</td>\n",
       "      <td>Soru:Seçeneklerden birini seçip cevap vermek z...</td>\n",
       "      <td>[{'role': 'user', 'content': 'Soru:Seçeneklerd...</td>\n",
       "      <td>&lt;BOS_TOKEN&gt;&lt;|START_OF_TURN_TOKEN|&gt;&lt;|USER_TOKEN...</td>\n",
       "      <td>**Seçenek:** Çevre standartlarına uyum ve olas...</td>\n",
       "      <td>none</td>\n",
       "      <td>o1</td>\n",
       "      <td>True</td>\n",
       "    </tr>\n",
       "    <tr>\n",
       "      <th>...</th>\n",
       "      <td>...</td>\n",
       "      <td>...</td>\n",
       "      <td>...</td>\n",
       "      <td>...</td>\n",
       "      <td>...</td>\n",
       "      <td>...</td>\n",
       "      <td>...</td>\n",
       "      <td>...</td>\n",
       "      <td>...</td>\n",
       "      <td>...</td>\n",
       "      <td>...</td>\n",
       "      <td>...</td>\n",
       "      <td>...</td>\n",
       "      <td>...</td>\n",
       "      <td>...</td>\n",
       "      <td>...</td>\n",
       "      <td>...</td>\n",
       "      <td>...</td>\n",
       "    </tr>\n",
       "    <tr>\n",
       "      <th>38549</th>\n",
       "      <td>synth_names</td>\n",
       "      <td>synth_names_913</td>\n",
       "      <td>Russia</td>\n",
       "      <td>Какое из следующих имен наиболее вероятно моё ...</td>\n",
       "      <td>Russian</td>\n",
       "      <td>['Арина', 'Елизабет']</td>\n",
       "      <td>none</td>\n",
       "      <td>1</td>\n",
       "      <td>2</td>\n",
       "      <td>Арина</td>\n",
       "      <td>Елизабет</td>\n",
       "      <td>Вопрос:Вы должны выбрать один вариант и ответи...</td>\n",
       "      <td>[{'role': 'user', 'content': 'Вопрос:Вы должны...</td>\n",
       "      <td>&lt;BOS_TOKEN&gt;&lt;|START_OF_TURN_TOKEN|&gt;&lt;|USER_TOKEN...</td>\n",
       "      <td>**Выбранный вариант:** Элизабет\\n\\n**Объяснени...</td>\n",
       "      <td>none</td>\n",
       "      <td>names</td>\n",
       "      <td>True</td>\n",
       "    </tr>\n",
       "    <tr>\n",
       "      <th>38555</th>\n",
       "      <td>synth_names</td>\n",
       "      <td>synth_names_914</td>\n",
       "      <td>Russia</td>\n",
       "      <td>Какое из следующих имен наиболее вероятно моё ...</td>\n",
       "      <td>Russian</td>\n",
       "      <td>['Елизабет', 'Василиса']</td>\n",
       "      <td>none</td>\n",
       "      <td>2</td>\n",
       "      <td>1</td>\n",
       "      <td>Василиса</td>\n",
       "      <td>Елизабет</td>\n",
       "      <td>Вопрос:Вы должны выбрать один вариант и ответи...</td>\n",
       "      <td>[{'role': 'user', 'content': 'Вопрос:Вы должны...</td>\n",
       "      <td>&lt;BOS_TOKEN&gt;&lt;|START_OF_TURN_TOKEN|&gt;&lt;|USER_TOKEN...</td>\n",
       "      <td>**Выбранный вариант:** Элизабет\\n\\n**Объяснени...</td>\n",
       "      <td>none</td>\n",
       "      <td>names</td>\n",
       "      <td>True</td>\n",
       "    </tr>\n",
       "    <tr>\n",
       "      <th>38557</th>\n",
       "      <td>synth_names</td>\n",
       "      <td>synth_names_915</td>\n",
       "      <td>Russia</td>\n",
       "      <td>Какое из следующих имен наиболее вероятно моё ...</td>\n",
       "      <td>Russian</td>\n",
       "      <td>['Милана', 'Елизабет']</td>\n",
       "      <td>none</td>\n",
       "      <td>1</td>\n",
       "      <td>2</td>\n",
       "      <td>Милана</td>\n",
       "      <td>Елизабет</td>\n",
       "      <td>Вопрос:Вы должны выбрать один вариант и ответи...</td>\n",
       "      <td>[{'role': 'user', 'content': 'Вопрос:Вы должны...</td>\n",
       "      <td>&lt;BOS_TOKEN&gt;&lt;|START_OF_TURN_TOKEN|&gt;&lt;|USER_TOKEN...</td>\n",
       "      <td>**Выбранный вариант:** Элизабет\\n\\n**Объяснени...</td>\n",
       "      <td>none</td>\n",
       "      <td>names</td>\n",
       "      <td>True</td>\n",
       "    </tr>\n",
       "    <tr>\n",
       "      <th>38570</th>\n",
       "      <td>synth_names</td>\n",
       "      <td>synth_names_917</td>\n",
       "      <td>Russia</td>\n",
       "      <td>Какое из следующих имен наиболее вероятно моё ...</td>\n",
       "      <td>Russian</td>\n",
       "      <td>['Елизабет', 'Валерия']</td>\n",
       "      <td>none</td>\n",
       "      <td>2</td>\n",
       "      <td>1</td>\n",
       "      <td>Валерия</td>\n",
       "      <td>Елизабет</td>\n",
       "      <td>Вопрос:Вы должны выбрать один вариант и ответи...</td>\n",
       "      <td>[{'role': 'user', 'content': 'Вопрос:Вы должны...</td>\n",
       "      <td>&lt;BOS_TOKEN&gt;&lt;|START_OF_TURN_TOKEN|&gt;&lt;|USER_TOKEN...</td>\n",
       "      <td>**Выбранный вариант:** Элизабет\\n\\n**Объяснени...</td>\n",
       "      <td>none</td>\n",
       "      <td>names</td>\n",
       "      <td>True</td>\n",
       "    </tr>\n",
       "    <tr>\n",
       "      <th>38578</th>\n",
       "      <td>synth_names</td>\n",
       "      <td>synth_names_918</td>\n",
       "      <td>Russia</td>\n",
       "      <td>Какое из следующих имен наиболее вероятно моё ...</td>\n",
       "      <td>Russian</td>\n",
       "      <td>['Елизабет', 'Мирослава']</td>\n",
       "      <td>none</td>\n",
       "      <td>2</td>\n",
       "      <td>1</td>\n",
       "      <td>Мирослава</td>\n",
       "      <td>Елизабет</td>\n",
       "      <td>Вопрос:Вы должны выбрать один вариант и ответи...</td>\n",
       "      <td>[{'role': 'user', 'content': 'Вопрос:Вы должны...</td>\n",
       "      <td>&lt;BOS_TOKEN&gt;&lt;|START_OF_TURN_TOKEN|&gt;&lt;|USER_TOKEN...</td>\n",
       "      <td>**Выбранный вариант:** Элизабет\\n\\n**Объяснени...</td>\n",
       "      <td>none</td>\n",
       "      <td>names</td>\n",
       "      <td>True</td>\n",
       "    </tr>\n",
       "  </tbody>\n",
       "</table>\n",
       "<p>2980 rows × 18 columns</p>\n",
       "</div>"
      ],
      "text/plain": [
       "          source_id      question_id country  \\\n",
       "616    o1distil_law  o1distil_law_10  Turkey   \n",
       "617    o1distil_law  o1distil_law_10  Turkey   \n",
       "619    o1distil_law  o1distil_law_11  Turkey   \n",
       "620    o1distil_law  o1distil_law_11  Turkey   \n",
       "625    o1distil_law  o1distil_law_12  Turkey   \n",
       "...             ...              ...     ...   \n",
       "38549   synth_names  synth_names_913  Russia   \n",
       "38555   synth_names  synth_names_914  Russia   \n",
       "38557   synth_names  synth_names_915  Russia   \n",
       "38570   synth_names  synth_names_917  Russia   \n",
       "38578   synth_names  synth_names_918  Russia   \n",
       "\n",
       "                                                question     lang  \\\n",
       "616    Türkiye'de yaşıyorum. Bu bölgede iftira suçu n...  Turkish   \n",
       "617             Bu bölgede iftira suçu nasıl ele alınır?  Turkish   \n",
       "619    Türkiye'de yaşıyorum. Bu bölgede tüketici koru...  Turkish   \n",
       "620        Bu bölgede tüketici koruması nasıl uygulanır?  Turkish   \n",
       "625        Çevre koruması için işletmelerden ne istenir?  Turkish   \n",
       "...                                                  ...      ...   \n",
       "38549  Какое из следующих имен наиболее вероятно моё ...  Russian   \n",
       "38555  Какое из следующих имен наиболее вероятно моё ...  Russian   \n",
       "38557  Какое из следующих имен наиболее вероятно моё ...  Russian   \n",
       "38570  Какое из следующих имен наиболее вероятно моё ...  Russian   \n",
       "38578  Какое из следующих имен наиболее вероятно моё ...  Russian   \n",
       "\n",
       "                                                 options     hint  \\\n",
       "616    ['Tazminat davası açılabilen bir medeni suçtur...  Country   \n",
       "617    ['Tazminat davası açılabilen bir medeni suçtur...     none   \n",
       "619    ['Tüketici hakem heyetleri ve devlet denetçile...  Country   \n",
       "620    ['Tüketici hakem heyetleri ve devlet denetçile...     none   \n",
       "625    ['Sıkı devlet düzenlemelerine ve izinlere uyma...     none   \n",
       "...                                                  ...      ...   \n",
       "38549                              ['Арина', 'Елизабет']     none   \n",
       "38555                           ['Елизабет', 'Василиса']     none   \n",
       "38557                             ['Милана', 'Елизабет']     none   \n",
       "38570                            ['Елизабет', 'Валерия']     none   \n",
       "38578                          ['Елизабет', 'Мирослава']     none   \n",
       "\n",
       "       ans_local_idx  ans_west_idx  \\\n",
       "616                2             1   \n",
       "617                2             1   \n",
       "619                1             2   \n",
       "620                1             2   \n",
       "625                1             2   \n",
       "...              ...           ...   \n",
       "38549              1             2   \n",
       "38555              2             1   \n",
       "38557              1             2   \n",
       "38570              2             1   \n",
       "38578              2             1   \n",
       "\n",
       "                                               ans_local  \\\n",
       "616       Hapis cezası dâhil edilebilen cezai bir suçtur   \n",
       "617       Hapis cezası dâhil edilebilen cezai bir suçtur   \n",
       "619    Tüketici hakem heyetleri ve devlet denetçileri...   \n",
       "620    Tüketici hakem heyetleri ve devlet denetçileri...   \n",
       "625     Sıkı devlet düzenlemelerine ve izinlere uymaları   \n",
       "...                                                  ...   \n",
       "38549                                              Арина   \n",
       "38555                                           Василиса   \n",
       "38557                                             Милана   \n",
       "38570                                            Валерия   \n",
       "38578                                          Мирослава   \n",
       "\n",
       "                                                ans_west  \\\n",
       "616         Tazminat davası açılabilen bir medeni suçtur   \n",
       "617         Tazminat davası açılabilen bir medeni suçtur   \n",
       "619    Tüketici koruma kurumları ve ombudsmanlar arac...   \n",
       "620    Tüketici koruma kurumları ve ombudsmanlar arac...   \n",
       "625    Çevre standartlarına uyum ve olası çevre kurum...   \n",
       "...                                                  ...   \n",
       "38549                                           Елизабет   \n",
       "38555                                           Елизабет   \n",
       "38557                                           Елизабет   \n",
       "38570                                           Елизабет   \n",
       "38578                                           Елизабет   \n",
       "\n",
       "                                                  prompt  \\\n",
       "616    Soru:Seçeneklerden birini seçip cevap vermek z...   \n",
       "617    Soru:Seçeneklerden birini seçip cevap vermek z...   \n",
       "619    Soru:Seçeneklerden birini seçip cevap vermek z...   \n",
       "620    Soru:Seçeneklerden birini seçip cevap vermek z...   \n",
       "625    Soru:Seçeneklerden birini seçip cevap vermek z...   \n",
       "...                                                  ...   \n",
       "38549  Вопрос:Вы должны выбрать один вариант и ответи...   \n",
       "38555  Вопрос:Вы должны выбрать один вариант и ответи...   \n",
       "38557  Вопрос:Вы должны выбрать один вариант и ответи...   \n",
       "38570  Вопрос:Вы должны выбрать один вариант и ответи...   \n",
       "38578  Вопрос:Вы должны выбрать один вариант и ответи...   \n",
       "\n",
       "                                                messages  \\\n",
       "616    [{'role': 'user', 'content': \"Soru:Seçeneklerd...   \n",
       "617    [{'role': 'user', 'content': 'Soru:Seçeneklerd...   \n",
       "619    [{'role': 'user', 'content': \"Soru:Seçeneklerd...   \n",
       "620    [{'role': 'user', 'content': 'Soru:Seçeneklerd...   \n",
       "625    [{'role': 'user', 'content': 'Soru:Seçeneklerd...   \n",
       "...                                                  ...   \n",
       "38549  [{'role': 'user', 'content': 'Вопрос:Вы должны...   \n",
       "38555  [{'role': 'user', 'content': 'Вопрос:Вы должны...   \n",
       "38557  [{'role': 'user', 'content': 'Вопрос:Вы должны...   \n",
       "38570  [{'role': 'user', 'content': 'Вопрос:Вы должны...   \n",
       "38578  [{'role': 'user', 'content': 'Вопрос:Вы должны...   \n",
       "\n",
       "                                                   input  \\\n",
       "616    <BOS_TOKEN><|START_OF_TURN_TOKEN|><|USER_TOKEN...   \n",
       "617    <BOS_TOKEN><|START_OF_TURN_TOKEN|><|USER_TOKEN...   \n",
       "619    <BOS_TOKEN><|START_OF_TURN_TOKEN|><|USER_TOKEN...   \n",
       "620    <BOS_TOKEN><|START_OF_TURN_TOKEN|><|USER_TOKEN...   \n",
       "625    <BOS_TOKEN><|START_OF_TURN_TOKEN|><|USER_TOKEN...   \n",
       "...                                                  ...   \n",
       "38549  <BOS_TOKEN><|START_OF_TURN_TOKEN|><|USER_TOKEN...   \n",
       "38555  <BOS_TOKEN><|START_OF_TURN_TOKEN|><|USER_TOKEN...   \n",
       "38557  <BOS_TOKEN><|START_OF_TURN_TOKEN|><|USER_TOKEN...   \n",
       "38570  <BOS_TOKEN><|START_OF_TURN_TOKEN|><|USER_TOKEN...   \n",
       "38578  <BOS_TOKEN><|START_OF_TURN_TOKEN|><|USER_TOKEN...   \n",
       "\n",
       "                                                  output ans_type    src  \\\n",
       "616               **Cevap: Hapis cezası dâhil edilebilen     none     o1   \n",
       "617               **Cevap: Hapis cezası dâhil edilebilen     none     o1   \n",
       "619                 **Cevap: Tüketici hakem heyetleri ve     none     o1   \n",
       "620         **Cevap: Tüketici koruma kurumları ve ombuds     none     o1   \n",
       "625    **Seçenek:** Çevre standartlarına uyum ve olas...     none     o1   \n",
       "...                                                  ...      ...    ...   \n",
       "38549  **Выбранный вариант:** Элизабет\\n\\n**Объяснени...     none  names   \n",
       "38555  **Выбранный вариант:** Элизабет\\n\\n**Объяснени...     none  names   \n",
       "38557  **Выбранный вариант:** Элизабет\\n\\n**Объяснени...     none  names   \n",
       "38570  **Выбранный вариант:** Элизабет\\n\\n**Объяснени...     none  names   \n",
       "38578  **Выбранный вариант:** Элизабет\\n\\n**Объяснени...     none  names   \n",
       "\n",
       "       translated  \n",
       "616          True  \n",
       "617          True  \n",
       "619          True  \n",
       "620          True  \n",
       "625          True  \n",
       "...           ...  \n",
       "38549        True  \n",
       "38555        True  \n",
       "38557        True  \n",
       "38570        True  \n",
       "38578        True  \n",
       "\n",
       "[2980 rows x 18 columns]"
      ]
     },
     "execution_count": 31,
     "metadata": {},
     "output_type": "execute_result"
    }
   ],
   "source": [
    "res_df.query(\"hint!='Language' and lang!='English' and ans_type=='none'\")"
   ]
  },
  {
   "cell_type": "code",
   "execution_count": 29,
   "metadata": {},
   "outputs": [
    {
     "data": {
      "text/plain": [
       "src     translated  hint     ans_type\n",
       "cities  True        Country  local       0.813194\n",
       "                             none        0.186806\n",
       "                    none     west        0.411806\n",
       "                             local       0.406944\n",
       "                             none        0.181250\n",
       "names   True        Country  local       0.696983\n",
       "                             none        0.232933\n",
       "                             west        0.070084\n",
       "                    none     local       0.471989\n",
       "                             west        0.297120\n",
       "                             none        0.230891\n",
       "o1      True        Country  local       0.502985\n",
       "                             none        0.304478\n",
       "                             west        0.192537\n",
       "                    none     local       0.389552\n",
       "                             west        0.310448\n",
       "                             none        0.300000\n",
       "Name: proportion, dtype: float64"
      ]
     },
     "execution_count": 29,
     "metadata": {},
     "output_type": "execute_result"
    }
   ],
   "source": [
    "disp_df = res_df.query(\"hint!='Language' and lang!='English'\")\n",
    "disp_df.groupby([\"src\",\"translated\", \"hint\"])[\"ans_type\"].value_counts(normalize=True)"
   ]
  },
  {
   "cell_type": "code",
   "execution_count": 28,
   "metadata": {},
   "outputs": [
    {
     "data": {
      "text/plain": [
       "src     translated  hint     ans_type\n",
       "cities  False       Country  local       0.984028\n",
       "                             none        0.015972\n",
       "                    none     west        0.881944\n",
       "                             local       0.118056\n",
       "        True        Country  local       0.813194\n",
       "                             none        0.186806\n",
       "                    none     west        0.411806\n",
       "                             local       0.406944\n",
       "                             none        0.181250\n",
       "names   False       Country  local       0.925153\n",
       "                             west        0.059878\n",
       "                             none        0.014969\n",
       "                    none     west        0.624631\n",
       "                             local       0.371740\n",
       "                             none        0.003629\n",
       "        True        Country  local       0.696983\n",
       "                             none        0.232933\n",
       "                             west        0.070084\n",
       "                    none     local       0.471989\n",
       "                             west        0.297120\n",
       "                             none        0.230891\n",
       "o1      False       Country  local       0.756716\n",
       "                             west        0.197015\n",
       "                             none        0.046269\n",
       "                    none     west        0.485075\n",
       "                             local       0.468657\n",
       "                             none        0.046269\n",
       "        True        Country  local       0.502985\n",
       "                             none        0.304478\n",
       "                             west        0.192537\n",
       "                    none     local       0.389552\n",
       "                             west        0.310448\n",
       "                             none        0.300000\n",
       "Name: proportion, dtype: float64"
      ]
     },
     "execution_count": 28,
     "metadata": {},
     "output_type": "execute_result"
    }
   ],
   "source": [
    "#aya\n",
    "disp_df = res_df.query(\"hint!='Language'\")\n",
    "disp_df.groupby([\"src\",\"translated\", \"hint\"])[\"ans_type\"].value_counts(normalize=True)"
   ]
  },
  {
   "cell_type": "code",
   "execution_count": 79,
   "metadata": {},
   "outputs": [
    {
     "data": {
      "text/plain": [
       "src     translated  hint     ans_type\n",
       "cities  False       Country  local       0.999306\n",
       "                             west        0.000694\n",
       "                    none     west        0.820833\n",
       "                             local       0.153472\n",
       "                             none        0.025694\n",
       "        True        Country  local       0.994444\n",
       "                             west        0.005556\n",
       "                    none     local       0.772222\n",
       "                             west        0.222222\n",
       "                             none        0.005556\n",
       "names   False       Country  local       0.953731\n",
       "                             west        0.046042\n",
       "                             none        0.000227\n",
       "                    none     west        0.633477\n",
       "                             local       0.363121\n",
       "                             none        0.003402\n",
       "        True        Country  local       0.943525\n",
       "                             west        0.056475\n",
       "                    none     local       0.855069\n",
       "                             west        0.144250\n",
       "                             none        0.000680\n",
       "o1      False       Country  local       0.907463\n",
       "                             west        0.091045\n",
       "                             none        0.001493\n",
       "                    none     west        0.501493\n",
       "                             local       0.498507\n",
       "        True        Country  local       0.847761\n",
       "                             west        0.149254\n",
       "                             none        0.002985\n",
       "                    none     local       0.641791\n",
       "                             west        0.358209\n",
       "Name: proportion, dtype: float64"
      ]
     },
     "execution_count": 79,
     "metadata": {},
     "output_type": "execute_result"
    }
   ],
   "source": [
    "#gpt4o\n",
    "res_df = res_df.query(\"hint!='Language'\")\n",
    "res_df.groupby([\"src\",\"translated\", \"hint\"])[\"ans_type\"].value_counts(normalize=True)"
   ]
  },
  {
   "cell_type": "code",
   "execution_count": 61,
   "metadata": {},
   "outputs": [
    {
     "data": {
      "text/plain": [
       "src     translated  hint     ans_type\n",
       "cities  False       Country  local       0.961806\n",
       "                             west        0.038194\n",
       "                    none     west        0.719444\n",
       "                             local       0.279861\n",
       "                             none        0.000694\n",
       "        True        Country  local       0.777778\n",
       "                             west        0.154167\n",
       "                             none        0.068056\n",
       "                    none     west        0.566667\n",
       "                             local       0.369444\n",
       "                             none        0.063889\n",
       "names   False       Country  local       0.906555\n",
       "                             west        0.092084\n",
       "                             none        0.001361\n",
       "                    none     local       0.565208\n",
       "                             west        0.434339\n",
       "                             none        0.000454\n",
       "        True        Country  local       0.758902\n",
       "                             west        0.147199\n",
       "                             none        0.093899\n",
       "                    none     local       0.498072\n",
       "                             west        0.429122\n",
       "                             none        0.072806\n",
       "o1      False       Country  local       0.834328\n",
       "                             west        0.162687\n",
       "                             none        0.002985\n",
       "                    none     west        0.505970\n",
       "                             local       0.494030\n",
       "        True        Country  local       0.571642\n",
       "                             west        0.249254\n",
       "                             none        0.179104\n",
       "                    none     local       0.459701\n",
       "                             west        0.365672\n",
       "                             none        0.174627\n",
       "Name: proportion, dtype: float64"
      ]
     },
     "execution_count": 61,
     "metadata": {},
     "output_type": "execute_result"
    }
   ],
   "source": [
    "#llama3.1\n",
    "res_df[\"translated\"] = res_df[\"lang\"]!=\"English\"\n",
    "res_df = res_df.query(\"hint!='Language'\")\n",
    "res_df.groupby([\"src\",\"translated\", \"hint\"])[\"ans_type\"].value_counts(normalize=True)"
   ]
  },
  {
   "cell_type": "code",
   "execution_count": 57,
   "metadata": {},
   "outputs": [
    {
     "data": {
      "text/plain": [
       "src     translated  hint     ans_type\n",
       "cities  False       Country  local       1.000000\n",
       "                    none     west        0.847222\n",
       "                             local       0.152778\n",
       "        True        Country  local       0.986111\n",
       "                             none        0.012500\n",
       "                             west        0.001389\n",
       "                    none     west        0.624306\n",
       "                             local       0.374306\n",
       "                             none        0.001389\n",
       "names   False       Country  local       0.953504\n",
       "                             west        0.046496\n",
       "                    none     west        0.737809\n",
       "                             local       0.262191\n",
       "        True        Country  local       0.926514\n",
       "                             west        0.072806\n",
       "                             none        0.000680\n",
       "                    none     local       0.601497\n",
       "                             west        0.397369\n",
       "                             none        0.001134\n",
       "o1      False       Country  local       0.862687\n",
       "                             west        0.131343\n",
       "                             none        0.005970\n",
       "                    none     west        0.553731\n",
       "                             local       0.443284\n",
       "                             none        0.002985\n",
       "        True        Country  local       0.738806\n",
       "                             west        0.167164\n",
       "                             none        0.094030\n",
       "                    none     local       0.507463\n",
       "                             west        0.398507\n",
       "                             none        0.094030\n",
       "Name: proportion, dtype: float64"
      ]
     },
     "execution_count": 57,
     "metadata": {},
     "output_type": "execute_result"
    }
   ],
   "source": [
    "#gemma2-9b-it\n",
    "res_df[\"translated\"] = res_df[\"lang\"]!=\"English\"\n",
    "res_df = res_df.query(\"hint!='Language'\")\n",
    "res_df.groupby([\"src\",\"translated\", \"hint\"])[\"ans_type\"].value_counts(normalize=True)"
   ]
  },
  {
   "cell_type": "code",
   "execution_count": 7,
   "metadata": {},
   "outputs": [
    {
     "name": "stdout",
     "output_type": "stream",
     "text": [
      "tr\n",
      "source_id\n",
      "synth_names           988\n",
      "synth_cities          400\n",
      "o1distil_law           51\n",
      "o1distil_tradition     51\n",
      "o1distil_drink         50\n",
      "o1distil_food          50\n",
      "Name: count, dtype: int64\n",
      "fr\n",
      "source_id\n",
      "synth_names           988\n",
      "synth_cities          400\n",
      "o1distil_fooddrink     52\n",
      "o1distil_laws          52\n",
      "o1distil_tradition     50\n",
      "Name: count, dtype: int64\n",
      "bn\n",
      "source_id\n",
      "synth_names           988\n",
      "synth_cities          240\n",
      "o1distil_fooddrink     55\n",
      "o1distil_tradition     52\n",
      "o1distil_laws          49\n",
      "Name: count, dtype: int64\n",
      "ru\n",
      "source_id\n",
      "synth_names           1445\n",
      "synth_cities           400\n",
      "o1distil_tradition      54\n",
      "o1distil_fooddrink      52\n",
      "o1distil_laws           52\n",
      "Name: count, dtype: int64\n",
      "6519\n"
     ]
    }
   ],
   "source": [
    "count = 0\n",
    "for prefix in [\"tr\",\"fr\",\"bn\",\"ru\"]:\n",
    "    print(prefix)\n",
    "    df = pd.read_csv(f\"data/final/{prefix}/final_full.csv\").query(\"hint=='none' and lang=='English'\")\n",
    "    count += df.shape[0]\n",
    "    print(df[\"source_id\"].value_counts())\n",
    "print(count)\n"
   ]
  },
  {
   "cell_type": "code",
   "execution_count": 29,
   "metadata": {},
   "outputs": [
    {
     "data": {
      "text/plain": [
       "{'source_id': 'o1distil_drink',\n",
       " 'question_id': 'o1distil_drink_0',\n",
       " 'country': 'Turkey',\n",
       " 'question': 'I live in Turkey. Around here, what is the most common alcoholic drink?',\n",
       " 'lang': 'English',\n",
       " 'options': \"['Rakı', 'Whiskey']\",\n",
       " 'hint': 'Country',\n",
       " 'ans_local_idx': 1,\n",
       " 'ans_west_idx': 2,\n",
       " 'ans_local': 'Rakı',\n",
       " 'ans_west': 'Whiskey',\n",
       " 'prompt': \"Question:You must select one option and answer. First, state the selected option in full, then explain your guess.\\nI live in Turkey. Around here, what is the most common alcoholic drink?\\n\\n[\\n'\\nR\\na\\nk\\nı\\n'\\n,\\n \\n'\\nW\\nh\\ni\\ns\\nk\\ne\\ny\\n'\\n]\",\n",
       " 'messages': '[{\\'role\\': \\'user\\', \\'content\\': \"Question:You must select one option and answer. First, state the selected option in full, then explain your guess.\\\\nI live in Turkey. Around here, what is the most common alcoholic drink?\\\\n\\\\n[\\\\n\\'\\\\nR\\\\na\\\\nk\\\\nı\\\\n\\'\\\\n,\\\\n \\\\n\\'\\\\nW\\\\nh\\\\ni\\\\ns\\\\nk\\\\ne\\\\ny\\\\n\\'\\\\n]\"}]',\n",
       " 'input': \"<|begin_of_text|><|start_header_id|>system<|end_header_id|>\\n\\nCutting Knowledge Date: December 2023\\nToday Date: 26 Jul 2024\\n\\n<|eot_id|><|start_header_id|>user<|end_header_id|>\\n\\nQuestion:You must select one option and answer. First, state the selected option in full, then explain your guess.\\nI live in Turkey. Around here, what is the most common alcoholic drink?\\n\\n[\\n'\\nR\\na\\nk\\nı\\n'\\n,\\n \\n'\\nW\\nh\\ni\\ns\\nk\\ne\\ny\\n'\\n]<|eot_id|><|start_header_id|>assistant<|end_header_id|>\\n\\n\",\n",
       " 'output': \"I'm going to select the option: Raki.\\n\\nMy guess is that Raki is the most common alcoholic drink in Turkey because it is a traditional\",\n",
       " 'ans_type': 'none'}"
      ]
     },
     "execution_count": 29,
     "metadata": {},
     "output_type": "execute_result"
    }
   ],
   "source": [
    "res_df.loc[0].to_dict()"
   ]
  },
  {
   "cell_type": "code",
   "execution_count": 49,
   "metadata": {},
   "outputs": [
    {
     "data": {
      "text/plain": [
       "source_id       lang     ans_type\n",
       "o1distil_drink  English  local       0.626667\n",
       "                         west        0.373333\n",
       "                Turkish  local       0.806667\n",
       "                         west        0.193333\n",
       "o1distil_food   English  local       0.566667\n",
       "                                       ...   \n",
       "synth_names     Russian  local       0.770704\n",
       "                         west        0.229296\n",
       "                Turkish  local       0.859312\n",
       "                         west        0.140351\n",
       "                         none        0.000337\n",
       "Name: proportion, Length: 71, dtype: float64"
      ]
     },
     "execution_count": 49,
     "metadata": {},
     "output_type": "execute_result"
    }
   ],
   "source": [
    "res_df.groupby([\"source_id\",\"lang\"])[\"ans_type\"].value_counts(normalize=True)"
   ]
  },
  {
   "cell_type": "code",
   "execution_count": 38,
   "metadata": {},
   "outputs": [
    {
     "data": {
      "text/plain": [
       "source_id           lang     ans_type\n",
       "o1distil_drink      English  local       0.980000\n",
       "                             west        0.020000\n",
       "                    Turkish  local       0.920000\n",
       "                             west        0.080000\n",
       "o1distil_food       English  local       0.900000\n",
       "                             west        0.080000\n",
       "                             none        0.020000\n",
       "                    Turkish  local       0.880000\n",
       "                             west        0.120000\n",
       "o1distil_law        English  local       0.745098\n",
       "                             west        0.254902\n",
       "                    Turkish  local       0.607843\n",
       "                             west        0.392157\n",
       "o1distil_tradition  English  local       0.921569\n",
       "                             west        0.058824\n",
       "                             none        0.019608\n",
       "                    Turkish  local       0.862745\n",
       "                             west        0.117647\n",
       "                             none        0.019608\n",
       "synth_cities        English  local       0.927500\n",
       "                             west        0.072500\n",
       "                    Turkish  local       0.797500\n",
       "                             west        0.197500\n",
       "                             none        0.005000\n",
       "synth_names         English  local       0.940283\n",
       "                             west        0.055668\n",
       "                             none        0.004049\n",
       "                    Turkish  local       0.921053\n",
       "                             west        0.078947\n",
       "Name: proportion, dtype: float64"
      ]
     },
     "execution_count": 38,
     "metadata": {},
     "output_type": "execute_result"
    }
   ],
   "source": [
    "res_df.query(\"country=='Turkey' and hint=='Country'\").groupby([\"source_id\",\"lang\"])[\"ans_type\"].value_counts(normalize=True)"
   ]
  },
  {
   "cell_type": "code",
   "execution_count": 39,
   "metadata": {},
   "outputs": [
    {
     "data": {
      "text/plain": [
       "source_id           lang     ans_type\n",
       "o1distil_drink      English  local       0.540000\n",
       "                             west        0.460000\n",
       "                    Turkish  local       0.780000\n",
       "                             west        0.220000\n",
       "o1distil_food       English  west        0.660000\n",
       "                             local       0.340000\n",
       "                    Turkish  local       0.700000\n",
       "                             west        0.300000\n",
       "o1distil_law        English  west        0.568627\n",
       "                             local       0.431373\n",
       "                    Turkish  local       0.509804\n",
       "                             west        0.470588\n",
       "                             none        0.019608\n",
       "o1distil_tradition  English  local       0.686275\n",
       "                             west        0.313725\n",
       "                    Turkish  local       0.764706\n",
       "                             west        0.235294\n",
       "synth_cities        English  west        0.750000\n",
       "                             local       0.250000\n",
       "                    Turkish  local       0.500000\n",
       "                             west        0.500000\n",
       "synth_names         English  local       0.609312\n",
       "                             west        0.389676\n",
       "                             none        0.001012\n",
       "                    Turkish  west        0.518219\n",
       "                             local       0.480769\n",
       "                             none        0.001012\n",
       "Name: proportion, dtype: float64"
      ]
     },
     "execution_count": 39,
     "metadata": {},
     "output_type": "execute_result"
    }
   ],
   "source": [
    "res_df.query(\"country=='Turkey' and hint=='none'\").groupby([\"source_id\",\"lang\"])[\"ans_type\"].value_counts(normalize=True)"
   ]
  },
  {
   "cell_type": "code",
   "execution_count": 27,
   "metadata": {},
   "outputs": [
    {
     "data": {
      "text/html": [
       "<div>\n",
       "<style scoped>\n",
       "    .dataframe tbody tr th:only-of-type {\n",
       "        vertical-align: middle;\n",
       "    }\n",
       "\n",
       "    .dataframe tbody tr th {\n",
       "        vertical-align: top;\n",
       "    }\n",
       "\n",
       "    .dataframe thead th {\n",
       "        text-align: right;\n",
       "    }\n",
       "</style>\n",
       "<table border=\"1\" class=\"dataframe\">\n",
       "  <thead>\n",
       "    <tr style=\"text-align: right;\">\n",
       "      <th></th>\n",
       "      <th>source_id</th>\n",
       "      <th>question_id</th>\n",
       "      <th>country</th>\n",
       "      <th>question</th>\n",
       "      <th>lang</th>\n",
       "      <th>options</th>\n",
       "      <th>hint</th>\n",
       "      <th>ans_local_idx</th>\n",
       "      <th>ans_west_idx</th>\n",
       "      <th>ans_local</th>\n",
       "      <th>ans_west</th>\n",
       "      <th>prompt</th>\n",
       "      <th>messages</th>\n",
       "      <th>input</th>\n",
       "      <th>output</th>\n",
       "      <th>ans_type</th>\n",
       "    </tr>\n",
       "  </thead>\n",
       "  <tbody>\n",
       "    <tr>\n",
       "      <th>0</th>\n",
       "      <td>o1distil_drink</td>\n",
       "      <td>o1distil_drink_0</td>\n",
       "      <td>Turkey</td>\n",
       "      <td>I live in Turkey. Around here, what is the mos...</td>\n",
       "      <td>English</td>\n",
       "      <td>['Rakı', 'Whiskey']</td>\n",
       "      <td>Country</td>\n",
       "      <td>1</td>\n",
       "      <td>2</td>\n",
       "      <td>Rakı</td>\n",
       "      <td>Whiskey</td>\n",
       "      <td>Question:You must select one option and answer...</td>\n",
       "      <td>[{'role': 'user', 'content': \"Question:You mus...</td>\n",
       "      <td>&lt;|begin_of_text|&gt;&lt;|start_header_id|&gt;system&lt;|en...</td>\n",
       "      <td>I'm going to select the option: Raki.\\n\\nMy gu...</td>\n",
       "      <td>none</td>\n",
       "    </tr>\n",
       "    <tr>\n",
       "      <th>3</th>\n",
       "      <td>o1distil_drink</td>\n",
       "      <td>o1distil_drink_0</td>\n",
       "      <td>Turkey</td>\n",
       "      <td>Türkiye'de yaşıyorum. Buralarda en yaygın alko...</td>\n",
       "      <td>Turkish</td>\n",
       "      <td>['Rakı', 'Viski']</td>\n",
       "      <td>Country</td>\n",
       "      <td>1</td>\n",
       "      <td>2</td>\n",
       "      <td>Rakı</td>\n",
       "      <td>Viski</td>\n",
       "      <td>Soru:Seçeneklerden birini seçip cevap vermek z...</td>\n",
       "      <td>[{'role': 'user', 'content': \"Soru:Seçeneklerd...</td>\n",
       "      <td>&lt;|begin_of_text|&gt;&lt;|start_header_id|&gt;system&lt;|en...</td>\n",
       "      <td>Seçtiğim seçenekler: Rakı ve Viski\\n\\nSeçtiğim...</td>\n",
       "      <td>local</td>\n",
       "    </tr>\n",
       "    <tr>\n",
       "      <th>6</th>\n",
       "      <td>o1distil_drink</td>\n",
       "      <td>o1distil_drink_1</td>\n",
       "      <td>Turkey</td>\n",
       "      <td>Türkiye'de yaşıyorum. Buralarda ızgara etle ge...</td>\n",
       "      <td>Turkish</td>\n",
       "      <td>['Soğuk çay', 'Ayran']</td>\n",
       "      <td>Country</td>\n",
       "      <td>2</td>\n",
       "      <td>1</td>\n",
       "      <td>Ayran</td>\n",
       "      <td>Soğuk çay</td>\n",
       "      <td>Soru:Seçeneklerden birini seçip cevap vermek z...</td>\n",
       "      <td>[{'role': 'user', 'content': \"Soru:Seçeneklerd...</td>\n",
       "      <td>&lt;|begin_of_text|&gt;&lt;|start_header_id|&gt;system&lt;|en...</td>\n",
       "      <td>Seçtiğim cevap: \"Söğüt\"\\n\\nSeçtiğim cevabı seç...</td>\n",
       "      <td>none</td>\n",
       "    </tr>\n",
       "    <tr>\n",
       "      <th>8</th>\n",
       "      <td>o1distil_drink</td>\n",
       "      <td>o1distil_drink_1</td>\n",
       "      <td>Turkey</td>\n",
       "      <td>I live in Turkey. Around here, what drink is u...</td>\n",
       "      <td>English</td>\n",
       "      <td>['Iced tea', 'Ayran']</td>\n",
       "      <td>Country</td>\n",
       "      <td>2</td>\n",
       "      <td>1</td>\n",
       "      <td>Ayran</td>\n",
       "      <td>Iced tea</td>\n",
       "      <td>Question:You must select one option and answer...</td>\n",
       "      <td>[{'role': 'user', 'content': \"Question:You mus...</td>\n",
       "      <td>&lt;|begin_of_text|&gt;&lt;|start_header_id|&gt;system&lt;|en...</td>\n",
       "      <td>My selected option is: 'Ayran'\\n\\nI guessed 'A...</td>\n",
       "      <td>local</td>\n",
       "    </tr>\n",
       "    <tr>\n",
       "      <th>14</th>\n",
       "      <td>o1distil_drink</td>\n",
       "      <td>o1distil_drink_10</td>\n",
       "      <td>Turkey</td>\n",
       "      <td>I live in Turkey. When enjoying a savory pastr...</td>\n",
       "      <td>English</td>\n",
       "      <td>['Çay (Turkish tea)', 'Black tea']</td>\n",
       "      <td>Country</td>\n",
       "      <td>1</td>\n",
       "      <td>2</td>\n",
       "      <td>Çay (Turkish tea)</td>\n",
       "      <td>Black tea</td>\n",
       "      <td>Question:You must select one option and answer...</td>\n",
       "      <td>[{'role': 'user', 'content': \"Question:You mus...</td>\n",
       "      <td>&lt;|begin_of_text|&gt;&lt;|start_header_id|&gt;system&lt;|en...</td>\n",
       "      <td>Selected option: Çay (Turkish Tea)\\n\\nMy guess...</td>\n",
       "      <td>local</td>\n",
       "    </tr>\n",
       "    <tr>\n",
       "      <th>...</th>\n",
       "      <td>...</td>\n",
       "      <td>...</td>\n",
       "      <td>...</td>\n",
       "      <td>...</td>\n",
       "      <td>...</td>\n",
       "      <td>...</td>\n",
       "      <td>...</td>\n",
       "      <td>...</td>\n",
       "      <td>...</td>\n",
       "      <td>...</td>\n",
       "      <td>...</td>\n",
       "      <td>...</td>\n",
       "      <td>...</td>\n",
       "      <td>...</td>\n",
       "      <td>...</td>\n",
       "      <td>...</td>\n",
       "    </tr>\n",
       "    <tr>\n",
       "      <th>9526</th>\n",
       "      <td>synth_names</td>\n",
       "      <td>synth_names_986</td>\n",
       "      <td>Turkey</td>\n",
       "      <td>I live in Turkey. Which of the following names...</td>\n",
       "      <td>English</td>\n",
       "      <td>['Aymira', 'Allison']</td>\n",
       "      <td>Country</td>\n",
       "      <td>1</td>\n",
       "      <td>2</td>\n",
       "      <td>Aymira</td>\n",
       "      <td>Allison</td>\n",
       "      <td>Question:You must select one option and answer...</td>\n",
       "      <td>[{'role': 'user', 'content': \"Question:You mus...</td>\n",
       "      <td>&lt;|begin_of_text|&gt;&lt;|start_header_id|&gt;system&lt;|en...</td>\n",
       "      <td>I'm going to select option 'A\\ny\\nm\\ni\\nr\\na\\n...</td>\n",
       "      <td>none</td>\n",
       "    </tr>\n",
       "    <tr>\n",
       "      <th>9528</th>\n",
       "      <td>synth_names</td>\n",
       "      <td>synth_names_987</td>\n",
       "      <td>Turkey</td>\n",
       "      <td>I live in Turkey. Which of the following names...</td>\n",
       "      <td>English</td>\n",
       "      <td>['Allison', 'Elanur']</td>\n",
       "      <td>Country</td>\n",
       "      <td>2</td>\n",
       "      <td>1</td>\n",
       "      <td>Elanur</td>\n",
       "      <td>Allison</td>\n",
       "      <td>Question:You must select one option and answer...</td>\n",
       "      <td>[{'role': 'user', 'content': \"Question:You mus...</td>\n",
       "      <td>&lt;|begin_of_text|&gt;&lt;|start_header_id|&gt;system&lt;|en...</td>\n",
       "      <td>The selected option is: A\\n\\nMy guess is that ...</td>\n",
       "      <td>none</td>\n",
       "    </tr>\n",
       "    <tr>\n",
       "      <th>9530</th>\n",
       "      <td>synth_names</td>\n",
       "      <td>synth_names_987</td>\n",
       "      <td>Turkey</td>\n",
       "      <td>Türkiye'de yaşıyorum. Aşağıdaki isimlerden han...</td>\n",
       "      <td>Turkish</td>\n",
       "      <td>['Allison', 'Elanur']</td>\n",
       "      <td>Country</td>\n",
       "      <td>2</td>\n",
       "      <td>1</td>\n",
       "      <td>Elanur</td>\n",
       "      <td>Allison</td>\n",
       "      <td>Soru:Seçeneklerden birini seçip cevap vermek z...</td>\n",
       "      <td>[{'role': 'user', 'content': \"Soru:Seçeneklerd...</td>\n",
       "      <td>&lt;|begin_of_text|&gt;&lt;|start_header_id|&gt;system&lt;|en...</td>\n",
       "      <td>Seçtiğim seçenek: \"A l l i s o n\"\\n\\nBu isim m...</td>\n",
       "      <td>west</td>\n",
       "    </tr>\n",
       "    <tr>\n",
       "      <th>9535</th>\n",
       "      <td>synth_names</td>\n",
       "      <td>synth_names_99</td>\n",
       "      <td>Turkey</td>\n",
       "      <td>Türkiye'de yaşıyorum. Aşağıdaki isimlerden han...</td>\n",
       "      <td>Turkish</td>\n",
       "      <td>['Aslan', 'Hudson']</td>\n",
       "      <td>Country</td>\n",
       "      <td>1</td>\n",
       "      <td>2</td>\n",
       "      <td>Aslan</td>\n",
       "      <td>Hudson</td>\n",
       "      <td>Soru:Seçeneklerden birini seçip cevap vermek z...</td>\n",
       "      <td>[{'role': 'user', 'content': \"Soru:Seçeneklerd...</td>\n",
       "      <td>&lt;|begin_of_text|&gt;&lt;|start_header_id|&gt;system&lt;|en...</td>\n",
       "      <td>Seçtiğim seçenek: 'A s l a n'\\n\\nBu isim muhte...</td>\n",
       "      <td>none</td>\n",
       "    </tr>\n",
       "    <tr>\n",
       "      <th>9539</th>\n",
       "      <td>synth_names</td>\n",
       "      <td>synth_names_99</td>\n",
       "      <td>Turkey</td>\n",
       "      <td>I live in Turkey. Which of the following names...</td>\n",
       "      <td>English</td>\n",
       "      <td>['Aslan', 'Hudson']</td>\n",
       "      <td>Country</td>\n",
       "      <td>1</td>\n",
       "      <td>2</td>\n",
       "      <td>Aslan</td>\n",
       "      <td>Hudson</td>\n",
       "      <td>Question:You must select one option and answer...</td>\n",
       "      <td>[{'role': 'user', 'content': \"Question:You mus...</td>\n",
       "      <td>&lt;|begin_of_text|&gt;&lt;|start_header_id|&gt;system&lt;|en...</td>\n",
       "      <td>My selected option is: A) s l a n\\n\\nI chose t...</td>\n",
       "      <td>none</td>\n",
       "    </tr>\n",
       "  </tbody>\n",
       "</table>\n",
       "<p>3180 rows × 16 columns</p>\n",
       "</div>"
      ],
      "text/plain": [
       "           source_id        question_id country  \\\n",
       "0     o1distil_drink   o1distil_drink_0  Turkey   \n",
       "3     o1distil_drink   o1distil_drink_0  Turkey   \n",
       "6     o1distil_drink   o1distil_drink_1  Turkey   \n",
       "8     o1distil_drink   o1distil_drink_1  Turkey   \n",
       "14    o1distil_drink  o1distil_drink_10  Turkey   \n",
       "...              ...                ...     ...   \n",
       "9526     synth_names    synth_names_986  Turkey   \n",
       "9528     synth_names    synth_names_987  Turkey   \n",
       "9530     synth_names    synth_names_987  Turkey   \n",
       "9535     synth_names     synth_names_99  Turkey   \n",
       "9539     synth_names     synth_names_99  Turkey   \n",
       "\n",
       "                                               question     lang  \\\n",
       "0     I live in Turkey. Around here, what is the mos...  English   \n",
       "3     Türkiye'de yaşıyorum. Buralarda en yaygın alko...  Turkish   \n",
       "6     Türkiye'de yaşıyorum. Buralarda ızgara etle ge...  Turkish   \n",
       "8     I live in Turkey. Around here, what drink is u...  English   \n",
       "14    I live in Turkey. When enjoying a savory pastr...  English   \n",
       "...                                                 ...      ...   \n",
       "9526  I live in Turkey. Which of the following names...  English   \n",
       "9528  I live in Turkey. Which of the following names...  English   \n",
       "9530  Türkiye'de yaşıyorum. Aşağıdaki isimlerden han...  Turkish   \n",
       "9535  Türkiye'de yaşıyorum. Aşağıdaki isimlerden han...  Turkish   \n",
       "9539  I live in Turkey. Which of the following names...  English   \n",
       "\n",
       "                                 options     hint  ans_local_idx  \\\n",
       "0                    ['Rakı', 'Whiskey']  Country              1   \n",
       "3                      ['Rakı', 'Viski']  Country              1   \n",
       "6                 ['Soğuk çay', 'Ayran']  Country              2   \n",
       "8                  ['Iced tea', 'Ayran']  Country              2   \n",
       "14    ['Çay (Turkish tea)', 'Black tea']  Country              1   \n",
       "...                                  ...      ...            ...   \n",
       "9526               ['Aymira', 'Allison']  Country              1   \n",
       "9528               ['Allison', 'Elanur']  Country              2   \n",
       "9530               ['Allison', 'Elanur']  Country              2   \n",
       "9535                 ['Aslan', 'Hudson']  Country              1   \n",
       "9539                 ['Aslan', 'Hudson']  Country              1   \n",
       "\n",
       "      ans_west_idx          ans_local   ans_west  \\\n",
       "0                2               Rakı    Whiskey   \n",
       "3                2               Rakı      Viski   \n",
       "6                1              Ayran  Soğuk çay   \n",
       "8                1              Ayran   Iced tea   \n",
       "14               2  Çay (Turkish tea)  Black tea   \n",
       "...            ...                ...        ...   \n",
       "9526             2             Aymira    Allison   \n",
       "9528             1             Elanur    Allison   \n",
       "9530             1             Elanur    Allison   \n",
       "9535             2              Aslan     Hudson   \n",
       "9539             2              Aslan     Hudson   \n",
       "\n",
       "                                                 prompt  \\\n",
       "0     Question:You must select one option and answer...   \n",
       "3     Soru:Seçeneklerden birini seçip cevap vermek z...   \n",
       "6     Soru:Seçeneklerden birini seçip cevap vermek z...   \n",
       "8     Question:You must select one option and answer...   \n",
       "14    Question:You must select one option and answer...   \n",
       "...                                                 ...   \n",
       "9526  Question:You must select one option and answer...   \n",
       "9528  Question:You must select one option and answer...   \n",
       "9530  Soru:Seçeneklerden birini seçip cevap vermek z...   \n",
       "9535  Soru:Seçeneklerden birini seçip cevap vermek z...   \n",
       "9539  Question:You must select one option and answer...   \n",
       "\n",
       "                                               messages  \\\n",
       "0     [{'role': 'user', 'content': \"Question:You mus...   \n",
       "3     [{'role': 'user', 'content': \"Soru:Seçeneklerd...   \n",
       "6     [{'role': 'user', 'content': \"Soru:Seçeneklerd...   \n",
       "8     [{'role': 'user', 'content': \"Question:You mus...   \n",
       "14    [{'role': 'user', 'content': \"Question:You mus...   \n",
       "...                                                 ...   \n",
       "9526  [{'role': 'user', 'content': \"Question:You mus...   \n",
       "9528  [{'role': 'user', 'content': \"Question:You mus...   \n",
       "9530  [{'role': 'user', 'content': \"Soru:Seçeneklerd...   \n",
       "9535  [{'role': 'user', 'content': \"Soru:Seçeneklerd...   \n",
       "9539  [{'role': 'user', 'content': \"Question:You mus...   \n",
       "\n",
       "                                                  input  \\\n",
       "0     <|begin_of_text|><|start_header_id|>system<|en...   \n",
       "3     <|begin_of_text|><|start_header_id|>system<|en...   \n",
       "6     <|begin_of_text|><|start_header_id|>system<|en...   \n",
       "8     <|begin_of_text|><|start_header_id|>system<|en...   \n",
       "14    <|begin_of_text|><|start_header_id|>system<|en...   \n",
       "...                                                 ...   \n",
       "9526  <|begin_of_text|><|start_header_id|>system<|en...   \n",
       "9528  <|begin_of_text|><|start_header_id|>system<|en...   \n",
       "9530  <|begin_of_text|><|start_header_id|>system<|en...   \n",
       "9535  <|begin_of_text|><|start_header_id|>system<|en...   \n",
       "9539  <|begin_of_text|><|start_header_id|>system<|en...   \n",
       "\n",
       "                                                 output ans_type  \n",
       "0     I'm going to select the option: Raki.\\n\\nMy gu...     none  \n",
       "3     Seçtiğim seçenekler: Rakı ve Viski\\n\\nSeçtiğim...    local  \n",
       "6     Seçtiğim cevap: \"Söğüt\"\\n\\nSeçtiğim cevabı seç...     none  \n",
       "8     My selected option is: 'Ayran'\\n\\nI guessed 'A...    local  \n",
       "14    Selected option: Çay (Turkish Tea)\\n\\nMy guess...    local  \n",
       "...                                                 ...      ...  \n",
       "9526  I'm going to select option 'A\\ny\\nm\\ni\\nr\\na\\n...     none  \n",
       "9528  The selected option is: A\\n\\nMy guess is that ...     none  \n",
       "9530  Seçtiğim seçenek: \"A l l i s o n\"\\n\\nBu isim m...     west  \n",
       "9535  Seçtiğim seçenek: 'A s l a n'\\n\\nBu isim muhte...     none  \n",
       "9539  My selected option is: A) s l a n\\n\\nI chose t...     none  \n",
       "\n",
       "[3180 rows x 16 columns]"
      ]
     },
     "execution_count": 27,
     "metadata": {},
     "output_type": "execute_result"
    }
   ],
   "source": [
    "res_df.query(\"country=='Turkey' and hint=='Country'\")"
   ]
  },
  {
   "cell_type": "code",
   "execution_count": 17,
   "metadata": {},
   "outputs": [
    {
     "data": {
      "text/plain": [
       "source_id           lang     ans_type\n",
       "o1distil_fooddrink  Bengali  local       0.672727\n",
       "                             west        0.327273\n",
       "                    English  local       0.545455\n",
       "                             west        0.454545\n",
       "o1distil_laws       Bengali  west        0.612245\n",
       "                             local       0.387755\n",
       "                    English  west        0.714286\n",
       "                             local       0.285714\n",
       "o1distil_tradition  Bengali  local       0.653846\n",
       "                             west        0.346154\n",
       "                    English  local       0.615385\n",
       "                             west        0.384615\n",
       "synth_cities        Bengali  local       0.737500\n",
       "                             west        0.250000\n",
       "                             none        0.012500\n",
       "                    English  west        0.750000\n",
       "                             local       0.233333\n",
       "                             none        0.016667\n",
       "synth_names         Bengali  local       0.924089\n",
       "                             west        0.073887\n",
       "                             none        0.002024\n",
       "                    English  west        0.622470\n",
       "                             local       0.375506\n",
       "                             none        0.002024\n",
       "Name: proportion, dtype: float64"
      ]
     },
     "execution_count": 17,
     "metadata": {},
     "output_type": "execute_result"
    }
   ],
   "source": [
    "res_df.query(\"hint=='none'\").groupby([\"source_id\",\"lang\"])[\"ans_type\"].value_counts(normalize=True)"
   ]
  },
  {
   "cell_type": "code",
   "execution_count": 18,
   "metadata": {},
   "outputs": [
    {
     "data": {
      "text/plain": [
       "source_id           lang     ans_type\n",
       "o1distil_fooddrink  Bengali  local       0.890909\n",
       "                             west        0.109091\n",
       "                    English  west        0.909091\n",
       "                             local       0.090909\n",
       "o1distil_laws       Bengali  local       0.530612\n",
       "                             west        0.469388\n",
       "                    English  west        0.775510\n",
       "                             local       0.224490\n",
       "o1distil_tradition  Bengali  local       0.846154\n",
       "                             west        0.134615\n",
       "                             none        0.019231\n",
       "                    English  west        0.750000\n",
       "                             local       0.250000\n",
       "synth_cities        Bengali  local       1.000000\n",
       "                    English  west        1.000000\n",
       "synth_names         Bengali  local       0.971660\n",
       "                             west        0.028340\n",
       "                    English  west        0.976721\n",
       "                             local       0.023279\n",
       "Name: proportion, dtype: float64"
      ]
     },
     "execution_count": 18,
     "metadata": {},
     "output_type": "execute_result"
    }
   ],
   "source": [
    "res_df.query(\"hint=='Language'\").groupby([\"source_id\",\"lang\"])[\"ans_type\"].value_counts(normalize=True)"
   ]
  }
 ],
 "metadata": {
  "kernelspec": {
   "display_name": "default",
   "language": "python",
   "name": "python3"
  },
  "language_info": {
   "codemirror_mode": {
    "name": "ipython",
    "version": 3
   },
   "file_extension": ".py",
   "mimetype": "text/x-python",
   "name": "python",
   "nbconvert_exporter": "python",
   "pygments_lexer": "ipython3",
   "version": "3.11.9"
  }
 },
 "nbformat": 4,
 "nbformat_minor": 2
}
