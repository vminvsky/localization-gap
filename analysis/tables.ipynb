{
 "cells": [
  {
   "cell_type": "code",
   "execution_count": 1,
   "metadata": {},
   "outputs": [],
   "source": [
    "# we want one table with all the steering results\n",
    "# 1. explicit, implicit\n",
    "# different vector explicit \n",
    "# universal vector  \n",
    "\n",
    "import pandas as pd"
   ]
  },
  {
   "cell_type": "code",
   "execution_count": 2,
   "metadata": {},
   "outputs": [],
   "source": [
    "all_vecs = pd.read_csv('/scratch/gpfs/vv7118/projects/localization-gap/analysis/all_steering_results_per_task_culture.csv')"
   ]
  },
  {
   "cell_type": "markdown",
   "metadata": {},
   "source": [
    "#### Get the best steering params for each vector "
   ]
  },
  {
   "cell_type": "code",
   "execution_count": 5,
   "metadata": {},
   "outputs": [],
   "source": [
    "steering_params = pd.DataFrame()\n",
    "\n",
    "# per-culture (en) - select the best perform steering params for the entire culture. \n",
    "per_culture_en = all_vecs[all_vecs['vector'] == 'per-culture (en)']\n",
    "per_culture_en = per_culture_en[(per_culture_en['translated'] == False) | (per_culture_en['country'] == 'United States')]\n",
    "per_culture_en = per_culture_en.groupby(['layer', 'alpha', 'country'])['local_ans_steer'].mean().reset_index()\n",
    "best_params = per_culture_en.loc[per_culture_en.groupby('country')['local_ans_steer'].idxmax()]\n",
    "best_params['vector'] = 'per-culture (en)'\n",
    "best_params.drop(columns=['local_ans_steer'], inplace=True)\n",
    "steering_params = pd.concat([steering_params, best_params])\n",
    "\n",
    "\n",
    "# per-culture (translated) - select the best perform steering params for the entire culture. \n",
    "per_culture_en = all_vecs[all_vecs['vector'] == 'per-culture (translated)']\n",
    "per_culture_en = per_culture_en[(per_culture_en['translated'] == True) | (per_culture_en['country'] == 'United States')]\n",
    "per_culture_en = per_culture_en.groupby(['layer', 'alpha', 'country'])['local_ans_steer'].mean().reset_index()\n",
    "best_params = per_culture_en.loc[per_culture_en.groupby('country')['local_ans_steer'].idxmax()]\n",
    "best_params['vector'] = 'per-culture (translated)'\n",
    "best_params.drop(columns=['local_ans_steer'], inplace=True)\n",
    "steering_params = pd.concat([steering_params, best_params])\n",
    "\n",
    "\n",
    "# names (en) - select the best perfomring steering vector for each culture only on that task \n",
    "names_en = all_vecs[all_vecs['vector'] == 'names (en)']\n",
    "names_en = names_en[(names_en['translated'] == False) | (names_en['country'] == 'United States')]\n",
    "names_en = names_en.groupby(['layer', 'alpha', 'country'])['local_ans_steer'].mean().reset_index()\n",
    "best_params = names_en.loc[names_en.groupby('country')['local_ans_steer'].idxmax()]\n",
    "best_params['vector'] = 'names (en)'\n",
    "best_params.drop(columns=['local_ans_steer'], inplace=True)\n",
    "steering_params = pd.concat([steering_params, best_params])\n",
    "\n",
    "# # universal vector (en) - select the best performing steering vector for each culture only on that task \n",
    "# universal_en = all_vecs[all_vecs['vector'] == 'held-out universal (en)']\n",
    "# universal_en = universal_en[(universal_en['translated'] == False) | (universal_en['country'] == 'United States')]\n",
    "# universal_en = universal_en.groupby(['layer', 'alpha', 'country'])['local_ans_steer'].mean().reset_index()\n",
    "# best_params = universal_en.loc[universal_en.groupby('country')['local_ans_steer'].idxmax()]\n",
    "# best_params['vector'] = 'held-out universal (en)'\n",
    "# best_params.drop(columns=['local_ans_steer'], inplace=True)\n",
    "# steering_params = pd.concat([steering_params, best_params])\n",
    "\n",
    "# universal vector (translated) - select the best performing steering vector for each culture only on that task \n",
    "universal_translated = all_vecs[all_vecs['vector'] == 'held-out universal (translated)']\n",
    "universal_translated = universal_translated[(universal_translated['translated'] == True) | (universal_translated['country'] == 'United States')]\n",
    "universal_translated = universal_translated.groupby(['layer', 'alpha', 'country'])['local_ans_steer'].mean().reset_index()\n",
    "best_params = universal_translated.loc[universal_translated.groupby('country')['local_ans_steer'].idxmax()]\n",
    "best_params['vector'] = 'held-out universal (translated)'\n",
    "best_params.drop(columns=['local_ans_steer'], inplace=True)\n",
    "steering_params = pd.concat([steering_params, best_params])\n"
   ]
  },
  {
   "cell_type": "code",
   "execution_count": 19,
   "metadata": {},
   "outputs": [
    {
     "name": "stdout",
     "output_type": "stream",
     "text": [
      "\\begin{tabular}{lrrrrrrrr}\n",
      "\\toprule\n",
      "vector & \\multicolumn{2}{r}{$v_{\\text{tr.}}$} & \\multicolumn{2}{r}{$v_{\\text{en}}$} & \\multicolumn{2}{r}{$v_{\\text{names}}$} & \\multicolumn{2}{r}{$v_{\\text{universal (tr.)}}$} \\\\\n",
      " & $l$ & $\\alpha$ & $l$ & $\\alpha$ & $l$ & $\\alpha$ & $l$ & $\\alpha$ \\\\\n",
      "country &  &  &  &  &  &  &  &  \\\\\n",
      "\\midrule\n",
      "Bangladesh & 25 & 2 & 27 & 2 & 21 & 2 & 21 & 2 \\\\\n",
      "France & 25 & 2 & 25 & 1 & 23 & 2 & 25 & 1 \\\\\n",
      "Russia & 27 & 2 & 25 & 2 & 25 & 2 & 25 & 2 \\\\\n",
      "Turkey & 21 & 2 & 24 & 2 & 25 & 2 & 27 & 2 \\\\\n",
      "United States & 22 & 2 & 22 & 2 & 22 & 2 & 21 & -2 \\\\\n",
      "\\bottomrule\n",
      "\\end{tabular}\n",
      "\n"
     ]
    }
   ],
   "source": [
    "steering_params_pivot = steering_params.pivot(index='country', columns='vector', values=['layer', 'alpha'])\n",
    "\n",
    "steering_params_pivot = steering_params_pivot.reorder_levels([1,0], axis=1)\n",
    "steering_params_pivot = steering_params_pivot.sort_index(axis=1, level=0, ascending=False)\n",
    "\n",
    "\n",
    "# Create the mapping for vector names\n",
    "vector_mapping = {\n",
    "    'held-out universal (en)': r'$v_{\\text{universal (en)}}$',\n",
    "    'held-out universal (translated)': r'$v_{\\text{universal (tr.)}}$',\n",
    "    'names (en)': r'$v_{\\text{names}}$',\n",
    "    'per-culture (en)': r'$v_{\\text{en}}$',\n",
    "    'per-culture (translated)': r'$v_{\\text{tr.}}$'\n",
    "}\n",
    "\n",
    "# Create mapping for metrics\n",
    "metric_mapping = {\n",
    "    'alpha': r'$\\alpha$',\n",
    "    'layer': r'$l$'\n",
    "}\n",
    "\n",
    "# Rename the columns\n",
    "steering_params_pivot = steering_params_pivot.rename(columns=vector_mapping, level=0)\n",
    "steering_params_pivot = steering_params_pivot.rename(columns=metric_mapping, level=1)\n",
    "print(steering_params_pivot.to_latex(index=True))"
   ]
  },
  {
   "cell_type": "code",
   "execution_count": 7,
   "metadata": {},
   "outputs": [],
   "source": [
    "all_vecs_table1 = pd.merge(all_vecs, steering_params, on=['layer', 'alpha', 'country', 'vector'], how='inner')"
   ]
  },
  {
   "cell_type": "code",
   "execution_count": 8,
   "metadata": {},
   "outputs": [],
   "source": [
    "table1_vecs = ['per-culture (en)', 'per-culture (translated)', 'names (en)']\n",
    "\n",
    "table1_df = all_vecs_table1[all_vecs_table1['vector'].isin(table1_vecs)]\n",
    "table1_df = table1_df[table1_df['translated'] == True]\n",
    "\n",
    "table1_gp = table1_df.groupby(['vector', 'subtask'])[['local_ans_steer',]].mean().reset_index()\n",
    "table1_gp = table1_gp.pivot(index='subtask', columns='vector', values='local_ans_steer')"
   ]
  },
  {
   "cell_type": "code",
   "execution_count": 9,
   "metadata": {},
   "outputs": [
    {
     "name": "stdout",
     "output_type": "stream",
     "text": [
      "\\begin{tabular}{llllll}\n",
      "\\toprule\n",
      " & English & Translated & Names & Implicit & Explicit \\\\\n",
      "subtask &  &  &  &  &  \\\\\n",
      "\\midrule\n",
      "cities & 0.685 & 0.797 & 0.667 & 0.426 & 1.000 \\\\\n",
      "culturebench & 0.784 & 0.769 & 0.769 & 0.752 & 0.860 \\\\\n",
      "culturedistil & 0.624 & 0.606 & 0.635 & 0.557 & 0.786 \\\\\n",
      "names & 0.721 & 0.737 & 0.748 & 0.607 & 0.909 \\\\\n",
      "\\bottomrule\n",
      "\\end{tabular}\n",
      "\n"
     ]
    }
   ],
   "source": [
    "table1_context = table1_df.groupby(['subtask', 'vector'])[['local_ans_no_steer', 'local_ans_hinted']].mean().reset_index()\n",
    "\n",
    "# Merge the no_steer and hinted columns from table1_context into table1_gp\n",
    "for col in ['local_ans_no_steer', 'local_ans_hinted']:\n",
    "    table1_gp[col] = table1_context.groupby('subtask')[col].mean()\n",
    "table1_gp = table1_gp.sort_values(by='subtask')\n",
    "\n",
    "for col in ['names (en)', 'per-culture (en)', 'per-culture (translated)', 'local_ans_no_steer', 'local_ans_hinted']:\n",
    "    table1_gp[col] = table1_gp[col].apply(lambda x: f\"{x:.3f}\")\n",
    "\n",
    "table1_gp = table1_gp[[ 'per-culture (en)', 'per-culture (translated)', 'names (en)', 'local_ans_no_steer', 'local_ans_hinted']]\n",
    "table1_gp.columns = ['English', 'Translated', 'Names', 'Implicit', 'Explicit']\n",
    "print(table1_gp.to_latex(index=True))\n"
   ]
  },
  {
   "cell_type": "code",
   "execution_count": 10,
   "metadata": {},
   "outputs": [],
   "source": [
    "# table 1: per-culture vector (en), per-culture vector (tr), names vector, explicit, implicit\n",
    "# - rows are tasks \n",
    "\n",
    "# universal vector: held-out (en), held-out (tr), explicit, implicit\n",
    "# - rows are languages "
   ]
  },
  {
   "cell_type": "markdown",
   "metadata": {},
   "source": [
    "### Implicit vector table"
   ]
  },
  {
   "cell_type": "code",
   "execution_count": null,
   "metadata": {},
   "outputs": [],
   "source": [
    "df = pd.read_csv('/scratch/gpfs/vv7118/projects/localization-gap/analysis/best_steering_per_task_culture.csv')"
   ]
  },
  {
   "cell_type": "code",
   "execution_count": 13,
   "metadata": {},
   "outputs": [],
   "source": [
    "implicit_df = pd.read_csv('best_steering_res_implicit_per_culture.csv')\n",
    "\n"
   ]
  },
  {
   "cell_type": "code",
   "execution_count": 15,
   "metadata": {},
   "outputs": [],
   "source": [
    "explicit_steer = df[(df['vector'] == 'per-culture (en)') & (df['translated'] == True)]"
   ]
  },
  {
   "cell_type": "code",
   "execution_count": 17,
   "metadata": {},
   "outputs": [
    {
     "data": {
      "text/html": [
       "<div>\n",
       "<style scoped>\n",
       "    .dataframe tbody tr th:only-of-type {\n",
       "        vertical-align: middle;\n",
       "    }\n",
       "\n",
       "    .dataframe tbody tr th {\n",
       "        vertical-align: top;\n",
       "    }\n",
       "\n",
       "    .dataframe thead th {\n",
       "        text-align: right;\n",
       "    }\n",
       "</style>\n",
       "<table border=\"1\" class=\"dataframe\">\n",
       "  <thead>\n",
       "    <tr style=\"text-align: right;\">\n",
       "      <th></th>\n",
       "      <th>vector</th>\n",
       "      <th>alpha</th>\n",
       "      <th>layer</th>\n",
       "      <th>country</th>\n",
       "      <th>translated</th>\n",
       "      <th>local_ans_steer</th>\n",
       "      <th>local_ans_no_steer</th>\n",
       "      <th>local_ans_hinted</th>\n",
       "    </tr>\n",
       "  </thead>\n",
       "  <tbody>\n",
       "    <tr>\n",
       "      <th>1</th>\n",
       "      <td>per-culture (en)</td>\n",
       "      <td>2</td>\n",
       "      <td>21</td>\n",
       "      <td>Bangladesh</td>\n",
       "      <td>True</td>\n",
       "      <td>0.738754</td>\n",
       "      <td>0.628028</td>\n",
       "      <td>0.894464</td>\n",
       "    </tr>\n",
       "    <tr>\n",
       "      <th>3</th>\n",
       "      <td>per-culture (en)</td>\n",
       "      <td>2</td>\n",
       "      <td>21</td>\n",
       "      <td>France</td>\n",
       "      <td>True</td>\n",
       "      <td>0.612069</td>\n",
       "      <td>0.546552</td>\n",
       "      <td>0.884483</td>\n",
       "    </tr>\n",
       "    <tr>\n",
       "      <th>5</th>\n",
       "      <td>per-culture (en)</td>\n",
       "      <td>2</td>\n",
       "      <td>25</td>\n",
       "      <td>Russia</td>\n",
       "      <td>True</td>\n",
       "      <td>0.792793</td>\n",
       "      <td>0.531532</td>\n",
       "      <td>0.877477</td>\n",
       "    </tr>\n",
       "    <tr>\n",
       "      <th>7</th>\n",
       "      <td>per-culture (en)</td>\n",
       "      <td>2</td>\n",
       "      <td>21</td>\n",
       "      <td>Turkey</td>\n",
       "      <td>True</td>\n",
       "      <td>0.762857</td>\n",
       "      <td>0.558571</td>\n",
       "      <td>0.918571</td>\n",
       "    </tr>\n",
       "    <tr>\n",
       "      <th>8</th>\n",
       "      <td>per-culture (en)</td>\n",
       "      <td>2</td>\n",
       "      <td>22</td>\n",
       "      <td>United States</td>\n",
       "      <td>True</td>\n",
       "      <td>0.695090</td>\n",
       "      <td>0.523686</td>\n",
       "      <td>0.882860</td>\n",
       "    </tr>\n",
       "  </tbody>\n",
       "</table>\n",
       "</div>"
      ],
      "text/plain": [
       "             vector  alpha  layer        country  translated  local_ans_steer  \\\n",
       "1  per-culture (en)      2     21     Bangladesh        True         0.738754   \n",
       "3  per-culture (en)      2     21         France        True         0.612069   \n",
       "5  per-culture (en)      2     25         Russia        True         0.792793   \n",
       "7  per-culture (en)      2     21         Turkey        True         0.762857   \n",
       "8  per-culture (en)      2     22  United States        True         0.695090   \n",
       "\n",
       "   local_ans_no_steer  local_ans_hinted  \n",
       "1            0.628028          0.894464  \n",
       "3            0.546552          0.884483  \n",
       "5            0.531532          0.877477  \n",
       "7            0.558571          0.918571  \n",
       "8            0.523686          0.882860  "
      ]
     },
     "execution_count": 17,
     "metadata": {},
     "output_type": "execute_result"
    }
   ],
   "source": [
    "explicit_steer = explicit_steer.sort_values(by='country')"
   ]
  },
  {
   "cell_type": "code",
   "execution_count": 20,
   "metadata": {},
   "outputs": [],
   "source": [
    "implicit_df = implicit_df[['alpha','layer','country','local_ans_steer','local_ans_no_steer']]\n",
    "implicit_df = implicit_df.sort_values(by='country')\n",
    "implicit_df['explicit_max'] = explicit_steer.reset_index()['local_ans_steer']\n",
    "\n",
    "\n"
   ]
  },
  {
   "cell_type": "code",
   "execution_count": 23,
   "metadata": {},
   "outputs": [],
   "source": [
    "implicit_df.columns = ['alpha', 'layer', 'country', 'implicit steering', 'no steering', 'explicit steering']\n",
    "for col in ['implicit steering', 'no steering', 'explicit steering']:\n",
    "    implicit_df[col] = implicit_df[col].apply(lambda x: f\"{x:.3f}\")\n",
    "\n"
   ]
  },
  {
   "cell_type": "code",
   "execution_count": 26,
   "metadata": {},
   "outputs": [
    {
     "name": "stdout",
     "output_type": "stream",
     "text": [
      "\\begin{tabular}{rrllll}\n",
      "\\toprule\n",
      "alpha & layer & country & implicit steering & explicit steering & no steering \\\\\n",
      "\\midrule\n",
      "1 & 25 & Bangladesh & 0.696 & 0.739 & 0.628 \\\\\n",
      "2 & 26 & France & 0.595 & 0.612 & 0.547 \\\\\n",
      "1 & 25 & Russia & 0.614 & 0.793 & 0.532 \\\\\n",
      "2 & 23 & Turkey & 0.654 & 0.763 & 0.559 \\\\\n",
      "1 & 25 & United States & 0.621 & 0.695 & 0.518 \\\\\n",
      "\\bottomrule\n",
      "\\end{tabular}\n",
      "\n"
     ]
    }
   ],
   "source": [
    "implicit_df = implicit_df[['alpha', 'layer', 'country', 'implicit steering', 'explicit steering', 'no steering']]\n",
    "print(implicit_df.to_latex(index=False))"
   ]
  },
  {
   "cell_type": "markdown",
   "metadata": {},
   "source": [
    "### Universal vector table\n",
    "- rows are languages\n",
    "- columns are held-out universal (en), held-out universal (translated), explicit, implicit \n"
   ]
  },
  {
   "cell_type": "code",
   "execution_count": 11,
   "metadata": {},
   "outputs": [],
   "source": [
    "univ_vecs = ['per-culture (en)', 'per-culture (translated)', 'names (en)','held-out universal (translated)']"
   ]
  },
  {
   "cell_type": "code",
   "execution_count": 12,
   "metadata": {},
   "outputs": [],
   "source": [
    "all_vecs_table1 = pd.merge(all_vecs, steering_params, on=['layer', 'alpha', 'country', 'vector'], how='inner')"
   ]
  },
  {
   "cell_type": "code",
   "execution_count": 20,
   "metadata": {},
   "outputs": [],
   "source": [
    "uni_df = all_vecs_table1[all_vecs_table1['vector'].isin(univ_vecs)]\n",
    "uni_df = uni_df[uni_df['translated'] == True]\n",
    "uni_df_gp= uni_df.groupby(['vector', 'country'])['local_ans_steer'].mean().reset_index()\n",
    "uni_df_gp = uni_df_gp.pivot(index='country', columns='vector', values='local_ans_steer').sort_values(by='country')\n",
    "\n",
    "# other cols \n",
    "other_cols = ['local_ans_no_steer', 'local_ans_hinted']\n",
    "other_cols_df = uni_df.groupby('country')[other_cols].mean().reset_index().sort_values(by='country')\n",
    "\n",
    "for col in other_cols:\n",
    "    uni_df_gp[col] = other_cols_df[col].values\n",
    "\n",
    "\n",
    "\n"
   ]
  },
  {
   "cell_type": "code",
   "execution_count": 21,
   "metadata": {},
   "outputs": [],
   "source": [
    "uni_df_gp = uni_df_gp[univ_vecs+other_cols]\n",
    "\n"
   ]
  },
  {
   "cell_type": "code",
   "execution_count": 22,
   "metadata": {},
   "outputs": [
    {
     "data": {
      "text/html": [
       "<div>\n",
       "<style scoped>\n",
       "    .dataframe tbody tr th:only-of-type {\n",
       "        vertical-align: middle;\n",
       "    }\n",
       "\n",
       "    .dataframe tbody tr th {\n",
       "        vertical-align: top;\n",
       "    }\n",
       "\n",
       "    .dataframe thead th {\n",
       "        text-align: right;\n",
       "    }\n",
       "</style>\n",
       "<table border=\"1\" class=\"dataframe\">\n",
       "  <thead>\n",
       "    <tr style=\"text-align: right;\">\n",
       "      <th>vector</th>\n",
       "      <th>per-culture (en)</th>\n",
       "      <th>per-culture (translated)</th>\n",
       "      <th>names (en)</th>\n",
       "      <th>held-out universal (translated)</th>\n",
       "      <th>local_ans_no_steer</th>\n",
       "      <th>local_ans_hinted</th>\n",
       "    </tr>\n",
       "    <tr>\n",
       "      <th>country</th>\n",
       "      <th></th>\n",
       "      <th></th>\n",
       "      <th></th>\n",
       "      <th></th>\n",
       "      <th></th>\n",
       "      <th></th>\n",
       "    </tr>\n",
       "  </thead>\n",
       "  <tbody>\n",
       "    <tr>\n",
       "      <th>Bangladesh</th>\n",
       "      <td>0.656365</td>\n",
       "      <td>0.776956</td>\n",
       "      <td>0.712680</td>\n",
       "      <td>0.684060</td>\n",
       "      <td>0.621261</td>\n",
       "      <td>0.882669</td>\n",
       "    </tr>\n",
       "    <tr>\n",
       "      <th>France</th>\n",
       "      <td>0.643331</td>\n",
       "      <td>0.671989</td>\n",
       "      <td>0.646943</td>\n",
       "      <td>0.637799</td>\n",
       "      <td>0.596885</td>\n",
       "      <td>0.894984</td>\n",
       "    </tr>\n",
       "    <tr>\n",
       "      <th>Russia</th>\n",
       "      <td>0.776399</td>\n",
       "      <td>0.744143</td>\n",
       "      <td>0.713424</td>\n",
       "      <td>0.691041</td>\n",
       "      <td>0.550585</td>\n",
       "      <td>0.857841</td>\n",
       "    </tr>\n",
       "    <tr>\n",
       "      <th>Turkey</th>\n",
       "      <td>0.699192</td>\n",
       "      <td>0.700684</td>\n",
       "      <td>0.688319</td>\n",
       "      <td>0.678144</td>\n",
       "      <td>0.560071</td>\n",
       "      <td>0.913297</td>\n",
       "    </tr>\n",
       "    <tr>\n",
       "      <th>United States</th>\n",
       "      <td>0.743279</td>\n",
       "      <td>0.743279</td>\n",
       "      <td>0.762766</td>\n",
       "      <td>0.663619</td>\n",
       "      <td>0.599311</td>\n",
       "      <td>0.894988</td>\n",
       "    </tr>\n",
       "  </tbody>\n",
       "</table>\n",
       "</div>"
      ],
      "text/plain": [
       "vector         per-culture (en)  per-culture (translated)  names (en)  \\\n",
       "country                                                                 \n",
       "Bangladesh             0.656365                  0.776956    0.712680   \n",
       "France                 0.643331                  0.671989    0.646943   \n",
       "Russia                 0.776399                  0.744143    0.713424   \n",
       "Turkey                 0.699192                  0.700684    0.688319   \n",
       "United States          0.743279                  0.743279    0.762766   \n",
       "\n",
       "vector         held-out universal (translated)  local_ans_no_steer  \\\n",
       "country                                                              \n",
       "Bangladesh                            0.684060            0.621261   \n",
       "France                                0.637799            0.596885   \n",
       "Russia                                0.691041            0.550585   \n",
       "Turkey                                0.678144            0.560071   \n",
       "United States                         0.663619            0.599311   \n",
       "\n",
       "vector         local_ans_hinted  \n",
       "country                          \n",
       "Bangladesh             0.882669  \n",
       "France                 0.894984  \n",
       "Russia                 0.857841  \n",
       "Turkey                 0.913297  \n",
       "United States          0.894988  "
      ]
     },
     "execution_count": 22,
     "metadata": {},
     "output_type": "execute_result"
    }
   ],
   "source": [
    "uni_df_gp"
   ]
  },
  {
   "cell_type": "code",
   "execution_count": 23,
   "metadata": {},
   "outputs": [
    {
     "name": "stdout",
     "output_type": "stream",
     "text": [
      "\\begin{tabular}{lllllll}\n",
      "\\toprule\n",
      "vector & $v_{\\text{en}}$ & $v_{\\text{tr.}}$ & $v_{\\text{names}}$ & $v_{\\text{universal (tr.)}}$ & $\\text{Implicit}$ & $\\text{Explicit}$ \\\\\n",
      "country &  &  &  &  &  &  \\\\\n",
      "\\midrule\n",
      "Bangladesh & 0.656 & 0.777 & 0.713 & 0.684 & 0.621 & 0.883 \\\\\n",
      "France & 0.643 & 0.672 & 0.647 & 0.638 & 0.597 & 0.895 \\\\\n",
      "Russia & 0.776 & 0.744 & 0.713 & 0.691 & 0.551 & 0.858 \\\\\n",
      "Turkey & 0.699 & 0.701 & 0.688 & 0.678 & 0.560 & 0.913 \\\\\n",
      "United States & 0.743 & 0.743 & 0.763 & 0.664 & 0.599 & 0.895 \\\\\n",
      "\\bottomrule\n",
      "\\end{tabular}\n",
      "\n"
     ]
    }
   ],
   "source": [
    "vector_mapping = {\n",
    "    'held-out universal (en)': r'$v_{\\text{universal (en)}}$',\n",
    "    'held-out universal (translated)': r'$v_{\\text{universal (tr.)}}$',\n",
    "    'names (en)': r'$v_{\\text{names}}$',\n",
    "    'per-culture (en)': r'$v_{\\text{en}}$',\n",
    "    'per-culture (translated)': r'$v_{\\text{tr.}}$',\n",
    "    \"local_ans_no_steer\": r'$\\text{Implicit}$',\n",
    "    \"local_ans_hinted\": r'$\\text{Explicit}$'\n",
    "}\n",
    "\n",
    "\n",
    "\n",
    "for col in univ_vecs+other_cols:\n",
    "    uni_df_gp[col] = uni_df_gp[col].apply(lambda x: f\"{x:.3f}\")\n",
    "\n",
    "uni_df_gp = uni_df_gp.rename(columns=vector_mapping)\n",
    "\n",
    "print(uni_df_gp.to_latex())"
   ]
  },
  {
   "cell_type": "markdown",
   "metadata": {},
   "source": [
    "### Multiple choice"
   ]
  },
  {
   "cell_type": "code",
   "execution_count": 27,
   "metadata": {},
   "outputs": [],
   "source": [
    "mcqa = pd.read_csv('best_alpha_layer_for_o3.csv')\n",
    "\n"
   ]
  },
  {
   "cell_type": "code",
   "execution_count": 29,
   "metadata": {},
   "outputs": [],
   "source": [
    "vectors = ['held-out universal (translated)', 'per-culture (translated)']\n",
    "\n",
    "mcqa = mcqa[mcqa['vector'].isin(vectors)]\n"
   ]
  },
  {
   "cell_type": "code",
   "execution_count": 36,
   "metadata": {},
   "outputs": [
    {
     "name": "stderr",
     "output_type": "stream",
     "text": [
      "/tmp/ipykernel_2005580/3115739621.py:10: SettingWithCopyWarning: \n",
      "A value is trying to be set on a copy of a slice from a DataFrame.\n",
      "Try using .loc[row_indexer,col_indexer] = value instead\n",
      "\n",
      "See the caveats in the documentation: https://pandas.pydata.org/pandas-docs/stable/user_guide/indexing.html#returning-a-view-versus-a-copy\n",
      "  mcqa['country'] = mcqa['lang'].apply(lambda x: lang_name_mapping[x])\n"
     ]
    }
   ],
   "source": [
    "lang_name_mapping = {\n",
    "    'en': 'United States',\n",
    "    'us': 'United States',\n",
    "    'fr': 'France',\n",
    "    'bn': 'Bangladesh',\n",
    "    'ru': 'Russia',\n",
    "    'tr': 'Turkey',\n",
    "}\n",
    "\n",
    "mcqa['country'] = mcqa['lang'].apply(lambda x: lang_name_mapping[x])"
   ]
  },
  {
   "cell_type": "code",
   "execution_count": 38,
   "metadata": {},
   "outputs": [],
   "source": [
    "mcqa_params = pd.DataFrame()\n",
    "\n",
    "# per-culture (en) - select the best perform steering params for the entire culture. \n",
    "per_culture_en = mcqa[mcqa['vector'] == 'per-culture (translated)']\n",
    "per_culture_en = per_culture_en.groupby(['layer', 'alpha', 'country'])['local_ans_steer'].mean().reset_index()\n",
    "best_params = per_culture_en.loc[per_culture_en.groupby('country')['local_ans_steer'].idxmax()]\n",
    "best_params['vector'] = 'per-culture (translated)'\n",
    "best_params.drop(columns=['local_ans_steer'], inplace=True)\n",
    "mcqa_params = pd.concat([mcqa_params, best_params])\n",
    "\n",
    "\n",
    "# universal vector (translated) - select the best performing steering vector for each culture only on that task \n",
    "universal_translated = mcqa[mcqa['vector'] == 'held-out universal (translated)']\n",
    "universal_translated = universal_translated.groupby(['layer', 'alpha', 'country'])['local_ans_steer'].mean().reset_index()\n",
    "best_params = universal_translated.loc[universal_translated.groupby('country')['local_ans_steer'].idxmax()]\n",
    "best_params['vector'] = 'held-out universal (translated)'\n",
    "best_params.drop(columns=['local_ans_steer'], inplace=True)\n",
    "mcqa_params = pd.concat([mcqa_params, best_params])\n"
   ]
  },
  {
   "cell_type": "code",
   "execution_count": 40,
   "metadata": {},
   "outputs": [
    {
     "name": "stdout",
     "output_type": "stream",
     "text": [
      "\\begin{tabular}{lrrrr}\n",
      "\\toprule\n",
      "vector & \\multicolumn{2}{r}{$v_{\\text{tr.}}$} & \\multicolumn{2}{r}{$v_{\\text{universal (tr.)}}$} \\\\\n",
      " & $l$ & $\\alpha$ & $l$ & $\\alpha$ \\\\\n",
      "country &  &  &  &  \\\\\n",
      "\\midrule\n",
      "Bangladesh & 24 & 3 & 21 & 3 \\\\\n",
      "France & 25 & 2 & 27 & -4 \\\\\n",
      "Russia & 25 & 2 & 24 & 4 \\\\\n",
      "Turkey & 24 & 4 & 24 & 3 \\\\\n",
      "United States & 23 & 3 & 27 & -3 \\\\\n",
      "\\bottomrule\n",
      "\\end{tabular}\n",
      "\n"
     ]
    }
   ],
   "source": [
    "mcqa_params_pivot = mcqa_params.pivot(index='country', columns='vector', values=['layer', 'alpha'])\n",
    "\n",
    "mcqa_params_pivot = mcqa_params_pivot.reorder_levels([1,0], axis=1)\n",
    "mcqa_params_pivot = mcqa_params_pivot.sort_index(axis=1, level=0, ascending=False)\n",
    "\n",
    "\n",
    "# Create the mapping for vector names\n",
    "vector_mapping = {\n",
    "    'held-out universal (en)': r'$v_{\\text{universal (en)}}$',\n",
    "    'held-out universal (translated)': r'$v_{\\text{universal (tr.)}}$',\n",
    "    'names (en)': r'$v_{\\text{names}}$',\n",
    "    'per-culture (en)': r'$v_{\\text{en}}$',\n",
    "    'per-culture (translated)': r'$v_{\\text{tr.}}$'\n",
    "}\n",
    "\n",
    "# Create mapping for metrics\n",
    "metric_mapping = {\n",
    "    'alpha': r'$\\alpha$',\n",
    "    'layer': r'$l$'\n",
    "}\n",
    "\n",
    "# Rename the columns\n",
    "mcqa_params_pivot = mcqa_params_pivot.rename(columns=vector_mapping, level=0)\n",
    "mcqa_params_pivot = mcqa_params_pivot.rename(columns=metric_mapping, level=1)\n",
    "print(mcqa_params_pivot.to_latex(index=True))"
   ]
  },
  {
   "cell_type": "markdown",
   "metadata": {},
   "source": [
    "### Rejections"
   ]
  },
  {
   "cell_type": "code",
   "execution_count": 1,
   "metadata": {},
   "outputs": [],
   "source": [
    "import pandas as pd \n",
    "pd.set_option('display.max_columns', None)\n",
    "\n",
    "\n",
    "df = pd.read_csv('../data/all_models_eval_subset.csv')\n",
    "df2 = pd.read_csv('../data/all_models_eval_subset_swapped.csv')\n",
    "\n",
    "df['swapped'] = False \n",
    "df2['swapped'] = True \n",
    "df = pd.concat([df, df2])\n",
    "\n"
   ]
  },
  {
   "cell_type": "code",
   "execution_count": 5,
   "metadata": {},
   "outputs": [
    {
     "name": "stderr",
     "output_type": "stream",
     "text": [
      "/tmp/ipykernel_2822647/472295083.py:2: SettingWithCopyWarning: \n",
      "A value is trying to be set on a copy of a slice from a DataFrame.\n",
      "Try using .loc[row_indexer,col_indexer] = value instead\n",
      "\n",
      "See the caveats in the documentation: https://pandas.pydata.org/pandas-docs/stable/user_guide/indexing.html#returning-a-view-versus-a-copy\n",
      "  df[\"translated\"] = df.apply(lambda x: True if x[\"country\"] == \"United States\" else x[\"lang\"]!=\"English\", axis=1)\n",
      "/tmp/ipykernel_2822647/472295083.py:4: SettingWithCopyWarning: \n",
      "A value is trying to be set on a copy of a slice from a DataFrame.\n",
      "Try using .loc[row_indexer,col_indexer] = value instead\n",
      "\n",
      "See the caveats in the documentation: https://pandas.pydata.org/pandas-docs/stable/user_guide/indexing.html#returning-a-view-versus-a-copy\n",
      "  df[\"hint_translated\"] = df.apply(string_form, axis=1)\n"
     ]
    }
   ],
   "source": [
    "import re\n",
    "df[\"translated\"] = df.apply(lambda x: True if x[\"country\"] == \"United States\" else x[\"lang\"]!=\"English\", axis=1)\n",
    "string_form = lambda x: (\"w/\" if x[\"hint\"] else \"w/o\") + \" Hint | \" + (\"w/\" if x[\"translated\"] else \"w/o\") + \" Tr.\"\n",
    "df[\"hint_translated\"] = df.apply(string_form, axis=1)\n",
    "df = df.query(\"hint_translated != 'w/o Hint | w/o Tr.'\")\n",
    "\n",
    "df['correct'] = df['ans_type'].apply(lambda x: 1 if x == 'local' else 0)\n",
    "\n",
    "df['output_num'] = df['output'].apply(lambda x: int(re.search(r'\\d+', x).group()) if re.search(r'\\d+', x) else None)"
   ]
  },
  {
   "cell_type": "code",
   "execution_count": 11,
   "metadata": {},
   "outputs": [
    {
     "data": {
      "text/plain": [
       "array([ 2.,  1., nan,  3.,  4., 18., 21.,  0.,  8.])"
      ]
     },
     "execution_count": 11,
     "metadata": {},
     "output_type": "execute_result"
    }
   ],
   "source": [
    "df['output_num'].unique()"
   ]
  },
  {
   "cell_type": "code",
   "execution_count": 20,
   "metadata": {},
   "outputs": [],
   "source": [
    "df = df[df['hint'] == False]\n",
    "df = df[df['model'] != 'gemma2_9b_base']"
   ]
  },
  {
   "cell_type": "code",
   "execution_count": 23,
   "metadata": {},
   "outputs": [
    {
     "name": "stdout",
     "output_type": "stream",
     "text": [
      "\\begin{tabular}{lllll}\n",
      "\\toprule\n",
      "subtask & cities & culturalbench & culturedistil & names \\\\\n",
      "model &  &  &  &  \\\\\n",
      "\\midrule\n",
      "aya\\_8b\\_it & 0.125 & 0.169 & 0.113 & 0.183 \\\\\n",
      "gemma2\\_27b\\_it & 0.000 & 0.000 & 0.000 & 0.000 \\\\\n",
      "gemma2\\_9b\\_it & 0.004 & 0.009 & 0.000 & 0.001 \\\\\n",
      "gpt4o & 0.638 & 0.044 & 0.086 & 0.319 \\\\\n",
      "llama31\\_70b\\_it & 0.000 & 0.001 & 0.000 & 0.005 \\\\\n",
      "llama31\\_8b\\_base & 0.000 & 0.000 & 0.000 & 0.000 \\\\\n",
      "llama31\\_8b\\_it & 0.000 & 0.000 & 0.000 & 0.000 \\\\\n",
      "\\bottomrule\n",
      "\\end{tabular}\n",
      "\n"
     ]
    }
   ],
   "source": [
    "df['error'] = df['output_num'].isna()\n",
    "\n",
    "error_df = df.groupby(['model','subtask'])['error'].mean()\n",
    "error_df = error_df.reset_index()\n",
    "error_df = error_df.pivot(index='model', columns='subtask', values='error')\n",
    "\n",
    "for col in error_df.columns:\n",
    "    error_df[col] = error_df[col].apply(lambda x: f\"{x:.3f}\")\n",
    "\n",
    "print(error_df.to_latex(index=True, escape=True))\n"
   ]
  },
  {
   "cell_type": "code",
   "execution_count": null,
   "metadata": {},
   "outputs": [],
   "source": []
  }
 ],
 "metadata": {
  "kernelspec": {
   "display_name": "mech-int",
   "language": "python",
   "name": "python3"
  },
  "language_info": {
   "codemirror_mode": {
    "name": "ipython",
    "version": 3
   },
   "file_extension": ".py",
   "mimetype": "text/x-python",
   "name": "python",
   "nbconvert_exporter": "python",
   "pygments_lexer": "ipython3",
   "version": "3.11.9"
  }
 },
 "nbformat": 4,
 "nbformat_minor": 2
}
