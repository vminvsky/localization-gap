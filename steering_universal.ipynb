{
 "cells": [
  {
   "cell_type": "code",
   "execution_count": 12,
   "metadata": {},
   "outputs": [],
   "source": [
    "import pandas as pd \n",
    "import json \n",
    "from glob import glob\n",
    "import matplotlib.pyplot as plt"
   ]
  },
  {
   "cell_type": "code",
   "execution_count": 13,
   "metadata": {},
   "outputs": [],
   "source": [
    "df_full = pd.read_csv('data/all_models_eval_subset.csv')\n",
    "df_full['swapped'] = False\n",
    "swapped = pd.read_csv('data/all_models_eval_subset_swapped.csv')\n",
    "df_full = pd.concat([df_full, swapped], ignore_index=True)\n",
    "\n",
    "df_full['correct'] = df_full['ans_type'] == 'local'"
   ]
  },
  {
   "cell_type": "code",
   "execution_count": 14,
   "metadata": {},
   "outputs": [
    {
     "data": {
      "text/plain": [
       "array(['Question:\\nWhat am I?\\nOptions:\\n1. Human\\n2. Robot\\nAnswer:\\n1\\nQuestion:\\nWhich planet is closest to the sun?\\nOptions:\\n1. Mercury\\n2. Venus\\nAnswer:\\n2\\nQuestion:\\nMost French people participate in this activity at least once or twice a day, whether with family, friends, or colleagues, and it is less familiar to many Anglo-Saxons. What is it?\\nOptions:\\n1. A fist bump.\\n2. Cheek kissing\\nAnswer:\\n',\n",
       "       '<bos><start_of_turn>user\\nQuestion:To answer the following multiple-choice question, you should choose one option only among 1,2,3,4. Instruction: You must select one option among 1,2,3,4. Do not output any other things.\\nIn Bangladesh, which festival celebration style is most likely appropriate for expressing the collective cultural identity?\\nOptions:\\n1. Celebrating only the most widely recognized national holiday.\\n2. Hosting a potluck where each individual brings a dish from their own ethnic background.<end_of_turn>\\n<start_of_turn>model\\n',\n",
       "       '<BOS_TOKEN><|START_OF_TURN_TOKEN|><|USER_TOKEN|>Question:To answer the following multiple-choice question, you should choose one option only among 1,2,3,4. Instruction: You must select one option among 1,2,3,4. Do not output any other things.\\nWhat is not considered the customary way to greet friends or acquaintances?\\nOptions:\\n1. A firm handshake\\n2. A bow.<|END_OF_TURN_TOKEN|><|START_OF_TURN_TOKEN|><|CHATBOT_TOKEN|>',\n",
       "       \"<|begin_of_text|><|start_header_id|>system<|end_header_id|>\\n\\nCutting Knowledge Date: December 2023\\nToday Date: 26 Jul 2024\\n\\n<|eot_id|><|start_header_id|>user<|end_header_id|>\\n\\nQuestion:To answer the following multiple-choice question, you should choose one option only among 1,2,3,4. Instruction: You must select one option among 1,2,3,4. Do not output any other things.\\nIn Bengali culture, what do women traditionally avoid wearing at their husbands' houses after marriage?\\nOptions:\\n1. Jeans and a T-shirt\\n2. A business suit<|eot_id|><|start_header_id|>assistant<|end_header_id|>\\n\\n\",\n",
       "       '<|begin_of_text|><|start_header_id|>system<|end_header_id|>\\n\\nCutting Knowledge Date: December 2023\\nToday Date: 26 Jul 2024\\n\\n<|eot_id|><|start_header_id|>user<|end_header_id|>\\n\\nВопрос:Чтобы ответить на следующий вопрос с выбором ответа, вы должны выбрать только один вариант из 1,2,3,4. Инструкция: Вы должны выбрать один вариант из 1,2,3,4. Не выводите ничего другого.\\nКогда вы посещаете русскую вечеринку, что обычно принесли с собой?\\nВарианты:\\n1. Икра на хлебе\\n2. Пиво<|eot_id|><|start_header_id|>assistant<|end_header_id|>\\n\\n',\n",
       "       nan,\n",
       "       \"Question:\\nQui suis-je ?\\nOptions:\\n1. Humain\\n2. Robot\\nRéponse:\\n1\\nQuestion:\\nQuelle planète est la plus proche du Soleil ?\\nOptions:\\n1. Mercure\\n2. Vénus\\nRéponse:\\n2\\nQuestion:\\nOù puis-je lire la phrase suivante? Arrêtez. C'est l'empire de la mort!\\nOptions:\\n1. Catacombes de Paris\\n2. National Mall\\nRéponse:\\n\",\n",
       "       nan, nan, nan], dtype=object)"
      ]
     },
     "execution_count": 14,
     "metadata": {},
     "output_type": "execute_result"
    }
   ],
   "source": [
    "df_full[df_full['subtask'] == 'culturalbench'].sample(10)['input'].values\n",
    "\n"
   ]
  },
  {
   "cell_type": "code",
   "execution_count": 15,
   "metadata": {},
   "outputs": [],
   "source": [
    "df_full = df_full[df_full['model']=='gemma2_9b_it']"
   ]
  },
  {
   "cell_type": "code",
   "execution_count": 26,
   "metadata": {},
   "outputs": [],
   "source": [
    "\n",
    "full_data = []\n",
    "for lang in ['us','ru', 'fr', 'bn','tr']:\n",
    "    files = glob(f'steering_outputs/no_swap/{lang}/*')\n",
    "    for i, file in enumerate(files):\n",
    "        with open(file, 'r') as f:\n",
    "            full_data.append(json.load(f))"
   ]
  },
  {
   "cell_type": "code",
   "execution_count": 27,
   "metadata": {},
   "outputs": [],
   "source": [
    "df = pd.DataFrame(full_data)\n"
   ]
  },
  {
   "cell_type": "code",
   "execution_count": 28,
   "metadata": {},
   "outputs": [
    {
     "data": {
      "text/html": [
       "<div>\n",
       "<style scoped>\n",
       "    .dataframe tbody tr th:only-of-type {\n",
       "        vertical-align: middle;\n",
       "    }\n",
       "\n",
       "    .dataframe tbody tr th {\n",
       "        vertical-align: top;\n",
       "    }\n",
       "\n",
       "    .dataframe thead th {\n",
       "        text-align: right;\n",
       "    }\n",
       "</style>\n",
       "<table border=\"1\" class=\"dataframe\">\n",
       "  <thead>\n",
       "    <tr style=\"text-align: right;\">\n",
       "      <th></th>\n",
       "      <th>prompt</th>\n",
       "      <th>output</th>\n",
       "      <th>alpha</th>\n",
       "      <th>layers</th>\n",
       "      <th>question</th>\n",
       "      <th>ans_local_idx</th>\n",
       "      <th>ans_west_idx</th>\n",
       "      <th>country</th>\n",
       "      <th>lang</th>\n",
       "      <th>subtask</th>\n",
       "      <th>ans_local</th>\n",
       "      <th>swapped</th>\n",
       "      <th>key</th>\n",
       "    </tr>\n",
       "  </thead>\n",
       "  <tbody>\n",
       "    <tr>\n",
       "      <th>0</th>\n",
       "      <td>&lt;bos&gt;&lt;start_of_turn&gt;user\\nQuestion:To answer t...</td>\n",
       "      <td>1 \\n&lt;end_of_turn&gt;&lt;eos&gt;</td>\n",
       "      <td>2</td>\n",
       "      <td>[25]</td>\n",
       "      <td>Around here, is inheritance law based on force...</td>\n",
       "      <td>2.0</td>\n",
       "      <td>1.0</td>\n",
       "      <td>United States</td>\n",
       "      <td>English</td>\n",
       "      <td>culturedistil</td>\n",
       "      <td>No</td>\n",
       "      <td>False</td>\n",
       "      <td>o1distil_laws_37_frUnited States</td>\n",
       "    </tr>\n",
       "    <tr>\n",
       "      <th>1</th>\n",
       "      <td>&lt;bos&gt;&lt;start_of_turn&gt;user\\nQuestion:To answer t...</td>\n",
       "      <td>1 \\n&lt;end_of_turn&gt;&lt;eos&gt;</td>\n",
       "      <td>2</td>\n",
       "      <td>[25]</td>\n",
       "      <td>In which city do I most likely live?</td>\n",
       "      <td>2.0</td>\n",
       "      <td>1.0</td>\n",
       "      <td>United States</td>\n",
       "      <td>English</td>\n",
       "      <td>cities</td>\n",
       "      <td>San Francisco</td>\n",
       "      <td>False</td>\n",
       "      <td>synth_cities_36_trUnited States</td>\n",
       "    </tr>\n",
       "    <tr>\n",
       "      <th>2</th>\n",
       "      <td>&lt;bos&gt;&lt;start_of_turn&gt;user\\nQuestion:To answer t...</td>\n",
       "      <td>1. \\n&lt;end_of_turn&gt;&lt;eos&gt;</td>\n",
       "      <td>2</td>\n",
       "      <td>[25]</td>\n",
       "      <td>Which of the following names is most likely to...</td>\n",
       "      <td>2.0</td>\n",
       "      <td>1.0</td>\n",
       "      <td>United States</td>\n",
       "      <td>English</td>\n",
       "      <td>names</td>\n",
       "      <td>Wyatt</td>\n",
       "      <td>False</td>\n",
       "      <td>synth_names_227_bnUnited States</td>\n",
       "    </tr>\n",
       "    <tr>\n",
       "      <th>3</th>\n",
       "      <td>&lt;bos&gt;&lt;start_of_turn&gt;user\\nQuestion:To answer t...</td>\n",
       "      <td>2 \\n&lt;end_of_turn&gt;&lt;eos&gt;</td>\n",
       "      <td>2</td>\n",
       "      <td>[25]</td>\n",
       "      <td>In which city do I most likely live?</td>\n",
       "      <td>1.0</td>\n",
       "      <td>2.0</td>\n",
       "      <td>United States</td>\n",
       "      <td>English</td>\n",
       "      <td>cities</td>\n",
       "      <td>Los Angeles</td>\n",
       "      <td>False</td>\n",
       "      <td>synth_cities_34_frUnited States</td>\n",
       "    </tr>\n",
       "    <tr>\n",
       "      <th>4</th>\n",
       "      <td>&lt;bos&gt;&lt;start_of_turn&gt;user\\nQuestion:To answer t...</td>\n",
       "      <td>1 \\n&lt;end_of_turn&gt;&lt;eos&gt;</td>\n",
       "      <td>2</td>\n",
       "      <td>[25]</td>\n",
       "      <td>In which city do I most likely live?</td>\n",
       "      <td>1.0</td>\n",
       "      <td>2.0</td>\n",
       "      <td>United States</td>\n",
       "      <td>English</td>\n",
       "      <td>cities</td>\n",
       "      <td>San Jose</td>\n",
       "      <td>False</td>\n",
       "      <td>synth_cities_240_ruUnited States</td>\n",
       "    </tr>\n",
       "    <tr>\n",
       "      <th>...</th>\n",
       "      <td>...</td>\n",
       "      <td>...</td>\n",
       "      <td>...</td>\n",
       "      <td>...</td>\n",
       "      <td>...</td>\n",
       "      <td>...</td>\n",
       "      <td>...</td>\n",
       "      <td>...</td>\n",
       "      <td>...</td>\n",
       "      <td>...</td>\n",
       "      <td>...</td>\n",
       "      <td>...</td>\n",
       "      <td>...</td>\n",
       "    </tr>\n",
       "    <tr>\n",
       "      <th>381</th>\n",
       "      <td>&lt;bos&gt;&lt;start_of_turn&gt;user\\nSoru:Aşağıdaki çokta...</td>\n",
       "      <td>2 \\n&lt;end_of_turn&gt;&lt;eos&gt;</td>\n",
       "      <td>2</td>\n",
       "      <td>[25]</td>\n",
       "      <td>Kamuya açık yerlerde yüksek sesle yapmak nezak...</td>\n",
       "      <td>2.0</td>\n",
       "      <td>1.0</td>\n",
       "      <td>Turkey</td>\n",
       "      <td>Turkish</td>\n",
       "      <td>culturalbench</td>\n",
       "      <td>Burun temizleme</td>\n",
       "      <td>False</td>\n",
       "      <td>culturebench_439_3Turkey</td>\n",
       "    </tr>\n",
       "    <tr>\n",
       "      <th>382</th>\n",
       "      <td>&lt;bos&gt;&lt;start_of_turn&gt;user\\nSoru:Aşağıdaki çokta...</td>\n",
       "      <td>1. \\n&lt;end_of_turn&gt;&lt;eos&gt;</td>\n",
       "      <td>2</td>\n",
       "      <td>[25]</td>\n",
       "      <td>İnsanlara iyi enerji ve şans getirdiğine inanı...</td>\n",
       "      <td>1.0</td>\n",
       "      <td>2.0</td>\n",
       "      <td>Turkey</td>\n",
       "      <td>Turkish</td>\n",
       "      <td>culturalbench</td>\n",
       "      <td>dört yapraklı yonca</td>\n",
       "      <td>False</td>\n",
       "      <td>culturebench_1188_1Turkey</td>\n",
       "    </tr>\n",
       "    <tr>\n",
       "      <th>383</th>\n",
       "      <td>&lt;bos&gt;&lt;start_of_turn&gt;user\\nSoru:Aşağıdaki çokta...</td>\n",
       "      <td>2. \\n&lt;end_of_turn&gt;&lt;eos&gt;</td>\n",
       "      <td>2</td>\n",
       "      <td>[25]</td>\n",
       "      <td>Aşağıdaki isimlerden hangisi muhtemelen benim ...</td>\n",
       "      <td>2.0</td>\n",
       "      <td>1.0</td>\n",
       "      <td>Turkey</td>\n",
       "      <td>Turkish</td>\n",
       "      <td>names</td>\n",
       "      <td>Efe</td>\n",
       "      <td>False</td>\n",
       "      <td>synth_names_301_trTurkey</td>\n",
       "    </tr>\n",
       "    <tr>\n",
       "      <th>384</th>\n",
       "      <td>&lt;bos&gt;&lt;start_of_turn&gt;user\\nSoru:Aşağıdaki çokta...</td>\n",
       "      <td>2. \\n&lt;end_of_turn&gt;&lt;eos&gt;</td>\n",
       "      <td>2</td>\n",
       "      <td>[25]</td>\n",
       "      <td>Aşağıdaki isimlerden hangisi muhtemelen benim ...</td>\n",
       "      <td>2.0</td>\n",
       "      <td>1.0</td>\n",
       "      <td>Turkey</td>\n",
       "      <td>Turkish</td>\n",
       "      <td>names</td>\n",
       "      <td>Büşra</td>\n",
       "      <td>False</td>\n",
       "      <td>synth_names_820_trTurkey</td>\n",
       "    </tr>\n",
       "    <tr>\n",
       "      <th>385</th>\n",
       "      <td>&lt;bos&gt;&lt;start_of_turn&gt;user\\nSoru:Aşağıdaki çokta...</td>\n",
       "      <td>1 \\n&lt;end_of_turn&gt;&lt;eos&gt;</td>\n",
       "      <td>2</td>\n",
       "      <td>[25]</td>\n",
       "      <td>Hasatla ilgili bir bayramda insanlar gelenekse...</td>\n",
       "      <td>1.0</td>\n",
       "      <td>2.0</td>\n",
       "      <td>Turkey</td>\n",
       "      <td>Turkish</td>\n",
       "      <td>culturedistil</td>\n",
       "      <td>Yeni hasat tahıllarından yapılmış hamur işleri</td>\n",
       "      <td>False</td>\n",
       "      <td>o1distil_tradition_36_trTurkey</td>\n",
       "    </tr>\n",
       "  </tbody>\n",
       "</table>\n",
       "<p>386 rows × 13 columns</p>\n",
       "</div>"
      ],
      "text/plain": [
       "                                                prompt  \\\n",
       "0    <bos><start_of_turn>user\\nQuestion:To answer t...   \n",
       "1    <bos><start_of_turn>user\\nQuestion:To answer t...   \n",
       "2    <bos><start_of_turn>user\\nQuestion:To answer t...   \n",
       "3    <bos><start_of_turn>user\\nQuestion:To answer t...   \n",
       "4    <bos><start_of_turn>user\\nQuestion:To answer t...   \n",
       "..                                                 ...   \n",
       "381  <bos><start_of_turn>user\\nSoru:Aşağıdaki çokta...   \n",
       "382  <bos><start_of_turn>user\\nSoru:Aşağıdaki çokta...   \n",
       "383  <bos><start_of_turn>user\\nSoru:Aşağıdaki çokta...   \n",
       "384  <bos><start_of_turn>user\\nSoru:Aşağıdaki çokta...   \n",
       "385  <bos><start_of_turn>user\\nSoru:Aşağıdaki çokta...   \n",
       "\n",
       "                      output  alpha layers  \\\n",
       "0     1 \\n<end_of_turn><eos>      2   [25]   \n",
       "1     1 \\n<end_of_turn><eos>      2   [25]   \n",
       "2    1. \\n<end_of_turn><eos>      2   [25]   \n",
       "3     2 \\n<end_of_turn><eos>      2   [25]   \n",
       "4     1 \\n<end_of_turn><eos>      2   [25]   \n",
       "..                       ...    ...    ...   \n",
       "381   2 \\n<end_of_turn><eos>      2   [25]   \n",
       "382  1. \\n<end_of_turn><eos>      2   [25]   \n",
       "383  2. \\n<end_of_turn><eos>      2   [25]   \n",
       "384  2. \\n<end_of_turn><eos>      2   [25]   \n",
       "385   1 \\n<end_of_turn><eos>      2   [25]   \n",
       "\n",
       "                                              question  ans_local_idx  \\\n",
       "0    Around here, is inheritance law based on force...            2.0   \n",
       "1                 In which city do I most likely live?            2.0   \n",
       "2    Which of the following names is most likely to...            2.0   \n",
       "3                 In which city do I most likely live?            1.0   \n",
       "4                 In which city do I most likely live?            1.0   \n",
       "..                                                 ...            ...   \n",
       "381  Kamuya açık yerlerde yüksek sesle yapmak nezak...            2.0   \n",
       "382  İnsanlara iyi enerji ve şans getirdiğine inanı...            1.0   \n",
       "383  Aşağıdaki isimlerden hangisi muhtemelen benim ...            2.0   \n",
       "384  Aşağıdaki isimlerden hangisi muhtemelen benim ...            2.0   \n",
       "385  Hasatla ilgili bir bayramda insanlar gelenekse...            1.0   \n",
       "\n",
       "     ans_west_idx        country     lang        subtask  \\\n",
       "0             1.0  United States  English  culturedistil   \n",
       "1             1.0  United States  English         cities   \n",
       "2             1.0  United States  English          names   \n",
       "3             2.0  United States  English         cities   \n",
       "4             2.0  United States  English         cities   \n",
       "..            ...            ...      ...            ...   \n",
       "381           1.0         Turkey  Turkish  culturalbench   \n",
       "382           2.0         Turkey  Turkish  culturalbench   \n",
       "383           1.0         Turkey  Turkish          names   \n",
       "384           1.0         Turkey  Turkish          names   \n",
       "385           2.0         Turkey  Turkish  culturedistil   \n",
       "\n",
       "                                          ans_local  swapped  \\\n",
       "0                                                No    False   \n",
       "1                                     San Francisco    False   \n",
       "2                                             Wyatt    False   \n",
       "3                                       Los Angeles    False   \n",
       "4                                          San Jose    False   \n",
       "..                                              ...      ...   \n",
       "381                                 Burun temizleme    False   \n",
       "382                             dört yapraklı yonca    False   \n",
       "383                                             Efe    False   \n",
       "384                                           Büşra    False   \n",
       "385  Yeni hasat tahıllarından yapılmış hamur işleri    False   \n",
       "\n",
       "                                  key  \n",
       "0    o1distil_laws_37_frUnited States  \n",
       "1     synth_cities_36_trUnited States  \n",
       "2     synth_names_227_bnUnited States  \n",
       "3     synth_cities_34_frUnited States  \n",
       "4    synth_cities_240_ruUnited States  \n",
       "..                                ...  \n",
       "381          culturebench_439_3Turkey  \n",
       "382         culturebench_1188_1Turkey  \n",
       "383          synth_names_301_trTurkey  \n",
       "384          synth_names_820_trTurkey  \n",
       "385    o1distil_tradition_36_trTurkey  \n",
       "\n",
       "[386 rows x 13 columns]"
      ]
     },
     "execution_count": 28,
     "metadata": {},
     "output_type": "execute_result"
    }
   ],
   "source": [
    "df"
   ]
  },
  {
   "cell_type": "code",
   "execution_count": 29,
   "metadata": {},
   "outputs": [],
   "source": [
    "import re\n",
    "\n",
    "# Extract first integer from each prompt\n",
    "df['first_int'] = df['output'].apply(lambda x: int(re.search(r'\\d+', x).group()) if re.search(r'\\d+', x) else None)\n"
   ]
  },
  {
   "cell_type": "code",
   "execution_count": 30,
   "metadata": {},
   "outputs": [],
   "source": [
    "df['first_int'] = df['first_int'].fillna('none')"
   ]
  },
  {
   "cell_type": "code",
   "execution_count": 31,
   "metadata": {},
   "outputs": [
    {
     "name": "stderr",
     "output_type": "stream",
     "text": [
      "/tmp/ipykernel_1335699/4232594679.py:2: SettingWithCopyWarning: \n",
      "A value is trying to be set on a copy of a slice from a DataFrame.\n",
      "Try using .loc[row_indexer,col_indexer] = value instead\n",
      "\n",
      "See the caveats in the documentation: https://pandas.pydata.org/pandas-docs/stable/user_guide/indexing.html#returning-a-view-versus-a-copy\n",
      "  only_ans['correct'] = only_ans['first_int'] == only_ans['ans_local_idx']\n"
     ]
    }
   ],
   "source": [
    "only_ans = df[df['first_int'] != 'none']\n",
    "only_ans['correct'] = only_ans['first_int'] == only_ans['ans_local_idx']\n",
    "# only_ans = only_ans.groupby(['subtask','key'])['correct'].mean().reset_index()\n",
    "culture_steering = only_ans.groupby('subtask')['correct'].mean().to_dict()"
   ]
  },
  {
   "cell_type": "code",
   "execution_count": 32,
   "metadata": {},
   "outputs": [],
   "source": [
    "df_full = df_full[df_full['key'].isin(only_ans['key'].values)]\n",
    "with_hint = df_full[(df_full['translated'] == True) & (df_full['hint'] == True)]\n",
    "without_hint = df_full[(df_full['translated'] == True) & (df_full['hint'] == False)]\n",
    "\n",
    "hint = with_hint.groupby(['subtask'])['correct'].mean().to_dict()\n",
    "no_hint = without_hint.groupby(['subtask'])['correct'].mean().to_dict()\n"
   ]
  },
  {
   "cell_type": "code",
   "execution_count": 34,
   "metadata": {},
   "outputs": [
    {
     "data": {
      "text/plain": [
       "lang\n",
       "Bengali    0.584416\n",
       "English    0.465753\n",
       "French     0.594595\n",
       "Russian    0.612500\n",
       "Turkish    0.653846\n",
       "Name: correct, dtype: float64"
      ]
     },
     "execution_count": 34,
     "metadata": {},
     "output_type": "execute_result"
    }
   ],
   "source": [
    "only_ans.groupby(['lang'])['correct'].mean()"
   ]
  },
  {
   "cell_type": "code",
   "execution_count": 11,
   "metadata": {},
   "outputs": [
    {
     "data": {
      "text/plain": [
       "{'cities': 0.5,\n",
       " 'culturalbench': 0.746031746031746,\n",
       " 'culturedistil': 0.5572687224669604,\n",
       " 'names': 0.5663716814159292}"
      ]
     },
     "execution_count": 11,
     "metadata": {},
     "output_type": "execute_result"
    }
   ],
   "source": [
    "culture_steering"
   ]
  },
  {
   "cell_type": "code",
   "execution_count": 123,
   "metadata": {},
   "outputs": [],
   "source": [
    "data = {\n",
    "    'culture_steering': culture_steering,\n",
    "    'hint': hint,\n",
    "    'no_hint': no_hint\n",
    "}\n",
    "\n"
   ]
  },
  {
   "cell_type": "code",
   "execution_count": 124,
   "metadata": {},
   "outputs": [
    {
     "data": {
      "text/plain": [
       "{'culture_steering': {'cities': 0.5,\n",
       "  'culturalbench': 0.746031746031746,\n",
       "  'culturedistil': 0.5572687224669604,\n",
       "  'names': 0.5663716814159292},\n",
       " 'hint': {'cities': 1.0,\n",
       "  'culturalbench': 0.8597883597883598,\n",
       "  'culturedistil': 0.8211678832116789,\n",
       "  'names': 0.9010989010989011},\n",
       " 'no_hint': {'cities': 0.45787545787545786,\n",
       "  'culturalbench': 0.746031746031746,\n",
       "  'culturedistil': 0.5547445255474452,\n",
       "  'names': 0.5787545787545788}}"
      ]
     },
     "execution_count": 124,
     "metadata": {},
     "output_type": "execute_result"
    }
   ],
   "source": [
    "data"
   ]
  },
  {
   "cell_type": "code",
   "execution_count": 53,
   "metadata": {},
   "outputs": [
    {
     "data": {
      "image/png": "[encoded data removed]",
      "text/plain": [
       "<Figure size 1500x500 with 3 Axes>"
      ]
     },
     "metadata": {},
     "output_type": "display_data"
    }
   ],
   "source": [
    "\n",
    "\n",
    "fig, ax = plt.subplots(1, 3, figsize=(15, 5), sharey=True)\n",
    "\n",
    "for i, (key, value) in enumerate(data.items()):\n",
    "    ax[i].bar(value.keys(), value.values())\n",
    "    ax[i].set_title(key)\n",
    "    ax[i].set_xlabel('Subtask')\n",
    "    ax[i].set_ylabel('Accuracy')\n",
    "\n",
    "plt.show()\n",
    "\n"
   ]
  },
  {
   "cell_type": "code",
   "execution_count": null,
   "metadata": {},
   "outputs": [],
   "source": []
  }
 ],
 "metadata": {
  "kernelspec": {
   "display_name": "mech-int",
   "language": "python",
   "name": "python3"
  },
  "language_info": {
   "codemirror_mode": {
    "name": "ipython",
    "version": 3
   },
   "file_extension": ".py",
   "mimetype": "text/x-python",
   "name": "python",
   "nbconvert_exporter": "python",
   "pygments_lexer": "ipython3",
   "version": "3.11.9"
  }
 },
 "nbformat": 4,
 "nbformat_minor": 2
}
