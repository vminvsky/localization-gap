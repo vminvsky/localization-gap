{
 "cells": [
  {
   "cell_type": "code",
   "execution_count": 9,
   "metadata": {},
   "outputs": [],
   "source": [
    "import numpy as np \n",
    "import pandas as pd"
   ]
  },
  {
   "cell_type": "code",
   "execution_count": 10,
   "metadata": {},
   "outputs": [],
   "source": [
    "embs = np.load('data/embeddings/llama-3.1-70b-instruct-turbo/embeddings.npy')\n",
    "metadata = pd.read_csv('data/embeddings/llama-3.1-70b-instruct-turbo/metadata.csv')"
   ]
  },
  {
   "cell_type": "code",
   "execution_count": 11,
   "metadata": {},
   "outputs": [],
   "source": [
    "merge = metadata.merge(pd.DataFrame(embs), left_index=True, right_index=True)"
   ]
  },
  {
   "cell_type": "code",
   "execution_count": 12,
   "metadata": {},
   "outputs": [],
   "source": [
    "from sklearn.metrics.pairwise import cosine_similarity\n",
    "\n",
    "group_similarities = {}\n",
    "\n",
    "grouped = metadata.groupby(['story', 'language', 'suffix'])\n",
    "\n",
    "for name, group in grouped:\n",
    "    indices = group.index.values\n",
    "    if len(indices) > 1:  # Only calculate if group has more than 1 element\n",
    "        group_embs = embs[indices]\n",
    "        # Calculate pairwise cosine similarities\n",
    "        similarities = cosine_similarity(group_embs)\n",
    "        # Get upper triangle values (excluding diagonal)\n",
    "        upper_tri = similarities[np.triu_indices_from(similarities, k=1)]\n",
    "        # Store average similarity\n",
    "        group_similarities[name] = np.mean(upper_tri)\n",
    "\n",
    "# Convert results to DataFrame\n",
    "results = pd.DataFrame([\n",
    "    {'story': k[0], 'language': k[1], 'suffix': k[2], 'avg_similarity': v}\n",
    "    for k, v in group_similarities.items()\n",
    "])"
   ]
  },
  {
   "cell_type": "code",
   "execution_count": 13,
   "metadata": {},
   "outputs": [],
   "source": [
    "group_similarities = {}\n",
    "\n",
    "grouped = metadata.groupby(['language','suffix'])\n",
    "\n",
    "for name, group in grouped:\n",
    "    indices = group.index.values\n",
    "    if len(indices) > 1:  # Only calculate if group has more than 1 element\n",
    "        group_embs = embs[indices]\n",
    "        # Calculate pairwise cosine similarities\n",
    "        similarities = cosine_similarity(group_embs)\n",
    "        # Get upper triangle values (excluding diagonal)\n",
    "        upper_tri = similarities[np.triu_indices_from(similarities, k=1)]\n",
    "        # Store average similarity\n",
    "        group_similarities[name] = np.mean(upper_tri)\n",
    "\n",
    "# Convert results to DataFrame\n",
    "results_full = pd.DataFrame([\n",
    "    {'language': k[0], 'suffix': k[1], 'avg_similarity': v}\n",
    "    for k, v in group_similarities.items()\n",
    "])"
   ]
  },
  {
   "cell_type": "code",
   "execution_count": 15,
   "metadata": {},
   "outputs": [
    {
     "data": {
      "text/plain": [
       "language  suffix\n",
       "de        False     0.809424\n",
       "          True      0.813848\n",
       "en        False     0.812997\n",
       "          True      0.790720\n",
       "fr        False     0.821966\n",
       "          True      0.810073\n",
       "ru        False     0.679063\n",
       "          True      0.683412\n",
       "tr        False     0.670063\n",
       "          True      0.665261\n",
       "Name: avg_similarity, dtype: float64"
      ]
     },
     "execution_count": 15,
     "metadata": {},
     "output_type": "execute_result"
    }
   ],
   "source": [
    "results.groupby(['language', 'suffix'])['avg_similarity'].mean()"
   ]
  },
  {
   "cell_type": "code",
   "execution_count": 24,
   "metadata": {},
   "outputs": [
    {
     "data": {
      "image/png": "[encoded data removed]",
      "text/plain": [
       "<Figure size 700x500 with 1 Axes>"
      ]
     },
     "metadata": {},
     "output_type": "display_data"
    }
   ],
   "source": [
    "# Create the side-by-side bar plot\n",
    "import matplotlib.pyplot as plt\n",
    "plt.figure(figsize=(7, 5))\n",
    "\n",
    "# Get the data in the right format\n",
    "plot_data = results_full.copy()\n",
    "languages = plot_data['language'].unique()\n",
    "x = np.arange(len(languages))\n",
    "width = 0.35\n",
    "\n",
    "# Colors for each language\n",
    "colors = ['#1f77b4', '#ff7f0e', '#2ca02c', '#d62728', '#9467bd']\n",
    "\n",
    "# Create bars\n",
    "for i, lang in enumerate(languages):\n",
    "    lang_data = plot_data[plot_data['language'] == lang]\n",
    "    false_val = lang_data[lang_data['suffix'] == False]['avg_similarity'].values[0]\n",
    "    true_val = lang_data[lang_data['suffix'] == True]['avg_similarity'].values[0]\n",
    "    \n",
    "    plt.bar(x[i] - width/2, false_val, width, color=colors[i], alpha=0.7, label=lang)\n",
    "    plt.bar(x[i] + width/2, true_val, width, color=colors[i], alpha=1.0)\n",
    "\n",
    "# Customize the plot\n",
    "plt.xlabel('Language', fontsize=14)\n",
    "plt.ylabel('Average Similarity', fontsize=14)\n",
    "# plt.title('Average Similarities by Language and Suffix')\n",
    "plt.xticks(x, languages, fontsize=14)\n",
    "plt.yticks(fontsize=14)\n",
    "plt.legend()\n",
    "\n",
    "# Add a custom legend for True/False\n",
    "from matplotlib.patches import Patch\n",
    "legend_elements = [\n",
    "    Patch(facecolor='gray', alpha=0.7, label='Suffix=False'),\n",
    "    Patch(facecolor='gray', alpha=1.0, label='Suffix=True')\n",
    "]\n",
    "plt.legend(handles=legend_elements, loc='upper right', fontsize=14)\n",
    "\n",
    "plt.tight_layout()\n",
    "plt.savefig('visuals/avg_similarity_by_language_and_suffix.pdf', dpi=300, bbox_inches='tight')\n",
    "plt.show()\n"
   ]
  },
  {
   "cell_type": "code",
   "execution_count": null,
   "metadata": {},
   "outputs": [],
   "source": []
  }
 ],
 "metadata": {
  "kernelspec": {
   "display_name": "mech-int",
   "language": "python",
   "name": "python3"
  },
  "language_info": {
   "codemirror_mode": {
    "name": "ipython",
    "version": 3
   },
   "file_extension": ".py",
   "mimetype": "text/x-python",
   "name": "python",
   "nbconvert_exporter": "python",
   "pygments_lexer": "ipython3",
   "version": "3.11.9"
  }
 },
 "nbformat": 4,
 "nbformat_minor": 2
}
