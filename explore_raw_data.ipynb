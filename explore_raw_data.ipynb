{
 "cells": [
  {
   "cell_type": "code",
   "execution_count": 1,
   "metadata": {},
   "outputs": [],
   "source": [
    "import pandas as pd "
   ]
  },
  {
   "cell_type": "code",
   "execution_count": 39,
   "metadata": {},
   "outputs": [
    {
     "name": "stderr",
     "output_type": "stream",
     "text": [
      "/tmp/ipykernel_2684082/321814785.py:1: DtypeWarning: Columns (13) have mixed types. Specify dtype option on import or set low_memory=False.\n",
      "  df = pd.read_csv('data/all_models_greedy_mult_choice.csv')\n"
     ]
    }
   ],
   "source": [
    "df = pd.read_csv('data/all_models_greedy_mult_choice.csv')"
   ]
  },
  {
   "cell_type": "code",
   "execution_count": 88,
   "metadata": {},
   "outputs": [
    {
     "data": {
      "text/plain": [
       "array(['Turkey', 'France', 'Bangladesh', 'Russia', 'United States'],\n",
       "      dtype=object)"
      ]
     },
     "execution_count": 88,
     "metadata": {},
     "output_type": "execute_result"
    }
   ],
   "source": [
    "df['country'].unique()"
   ]
  },
  {
   "cell_type": "code",
   "execution_count": 89,
   "metadata": {},
   "outputs": [],
   "source": [
    "\n"
   ]
  },
  {
   "cell_type": "code",
   "execution_count": 90,
   "metadata": {},
   "outputs": [],
   "source": [
    "df[\"translated\"] = df.apply(lambda x: True if x[\"country\"] == \"United States\" else x[\"lang\"]!=\"English\", axis=1)\n",
    "string_form = lambda x: (\"w/\" if x[\"hint\"] else \"w/o\") + \" Hint | \" + (\"w/\" if x[\"translated\"] else \"w/o\") + \" Tr.\"\n",
    "df[\"hint_translated\"] = df.apply(string_form, axis=1)\n",
    "df = df.query(\"hint_translated != 'w/o Hint | w/o Tr.'\")\n",
    "\n"
   ]
  },
  {
   "cell_type": "code",
   "execution_count": 91,
   "metadata": {},
   "outputs": [],
   "source": [
    "df['correct'] = df['ans_type'].apply(lambda x: 1 if x == 'local' else 0)"
   ]
  },
  {
   "cell_type": "code",
   "execution_count": 92,
   "metadata": {},
   "outputs": [],
   "source": [
    "import re \n",
    "# regex to extrat integer\n",
    "df['output_num'] = df['output'].apply(lambda x: int(re.search(r'\\d+', x).group()) if re.search(r'\\d+', x) else None)"
   ]
  },
  {
   "cell_type": "code",
   "execution_count": 93,
   "metadata": {},
   "outputs": [
    {
     "data": {
      "text/plain": [
       "model            output_num\n",
       "aya_8b_it        1.0            5661\n",
       "                 2.0            6348\n",
       "                 4.0              19\n",
       "gemma2_27b_it    1.0            4828\n",
       "                 2.0            8570\n",
       "                 3.0              11\n",
       "gemma2_9b_base   1.0            9118\n",
       "                 2.0            3058\n",
       "                 3.0            1234\n",
       "gemma2_9b_it     1.0            5481\n",
       "                 2.0            7900\n",
       "                 3.0               1\n",
       "                 4.0               4\n",
       "gpt4o            1.0            6049\n",
       "                 2.0            2451\n",
       "                 3.0             298\n",
       "llama31_70b_it   1.0             999\n",
       "                 2.0           12374\n",
       "                 3.0               5\n",
       "llama31_8b_base  1.0            9478\n",
       "                 2.0            3932\n",
       "llama31_8b_it    1.0            1435\n",
       "                 2.0           11973\n",
       "                 3.0               2\n",
       "Name: correct, dtype: int64"
      ]
     },
     "execution_count": 93,
     "metadata": {},
     "output_type": "execute_result"
    }
   ],
   "source": [
    "df2 = df[df['hint_translated'] == 'w/o Hint | w/ Tr.']\n",
    "df2.groupby(['model', 'output_num'])['correct'].count()"
   ]
  },
  {
   "cell_type": "code",
   "execution_count": 97,
   "metadata": {},
   "outputs": [],
   "source": [
    "df3 = df.groupby(['hint_translated','model','country'])['correct'].mean().reset_index()"
   ]
  },
  {
   "cell_type": "code",
   "execution_count": 98,
   "metadata": {},
   "outputs": [
    {
     "data": {
      "text/html": [
       "<div>\n",
       "<style scoped>\n",
       "    .dataframe tbody tr th:only-of-type {\n",
       "        vertical-align: middle;\n",
       "    }\n",
       "\n",
       "    .dataframe tbody tr th {\n",
       "        vertical-align: top;\n",
       "    }\n",
       "\n",
       "    .dataframe thead th {\n",
       "        text-align: right;\n",
       "    }\n",
       "</style>\n",
       "<table border=\"1\" class=\"dataframe\">\n",
       "  <thead>\n",
       "    <tr style=\"text-align: right;\">\n",
       "      <th></th>\n",
       "      <th>hint_translated</th>\n",
       "      <th>model</th>\n",
       "      <th>country</th>\n",
       "      <th>correct</th>\n",
       "    </tr>\n",
       "  </thead>\n",
       "  <tbody>\n",
       "    <tr>\n",
       "      <th>0</th>\n",
       "      <td>w/ Hint | w/ Tr.</td>\n",
       "      <td>aya_8b_it</td>\n",
       "      <td>Bangladesh</td>\n",
       "      <td>0.106923</td>\n",
       "    </tr>\n",
       "    <tr>\n",
       "      <th>1</th>\n",
       "      <td>w/ Hint | w/ Tr.</td>\n",
       "      <td>aya_8b_it</td>\n",
       "      <td>France</td>\n",
       "      <td>0.867805</td>\n",
       "    </tr>\n",
       "    <tr>\n",
       "      <th>2</th>\n",
       "      <td>w/ Hint | w/ Tr.</td>\n",
       "      <td>aya_8b_it</td>\n",
       "      <td>Russia</td>\n",
       "      <td>0.880690</td>\n",
       "    </tr>\n",
       "    <tr>\n",
       "      <th>3</th>\n",
       "      <td>w/ Hint | w/ Tr.</td>\n",
       "      <td>aya_8b_it</td>\n",
       "      <td>Turkey</td>\n",
       "      <td>0.920775</td>\n",
       "    </tr>\n",
       "    <tr>\n",
       "      <th>4</th>\n",
       "      <td>w/ Hint | w/ Tr.</td>\n",
       "      <td>aya_8b_it</td>\n",
       "      <td>United States</td>\n",
       "      <td>0.902417</td>\n",
       "    </tr>\n",
       "    <tr>\n",
       "      <th>...</th>\n",
       "      <td>...</td>\n",
       "      <td>...</td>\n",
       "      <td>...</td>\n",
       "      <td>...</td>\n",
       "    </tr>\n",
       "    <tr>\n",
       "      <th>107</th>\n",
       "      <td>w/o Hint | w/ Tr.</td>\n",
       "      <td>llama31_8b_it</td>\n",
       "      <td>Bangladesh</td>\n",
       "      <td>0.522961</td>\n",
       "    </tr>\n",
       "    <tr>\n",
       "      <th>108</th>\n",
       "      <td>w/o Hint | w/ Tr.</td>\n",
       "      <td>llama31_8b_it</td>\n",
       "      <td>France</td>\n",
       "      <td>0.504111</td>\n",
       "    </tr>\n",
       "    <tr>\n",
       "      <th>109</th>\n",
       "      <td>w/o Hint | w/ Tr.</td>\n",
       "      <td>llama31_8b_it</td>\n",
       "      <td>Russia</td>\n",
       "      <td>0.499760</td>\n",
       "    </tr>\n",
       "    <tr>\n",
       "      <th>110</th>\n",
       "      <td>w/o Hint | w/ Tr.</td>\n",
       "      <td>llama31_8b_it</td>\n",
       "      <td>Turkey</td>\n",
       "      <td>0.519366</td>\n",
       "    </tr>\n",
       "    <tr>\n",
       "      <th>111</th>\n",
       "      <td>w/o Hint | w/ Tr.</td>\n",
       "      <td>llama31_8b_it</td>\n",
       "      <td>United States</td>\n",
       "      <td>0.501292</td>\n",
       "    </tr>\n",
       "  </tbody>\n",
       "</table>\n",
       "<p>112 rows × 4 columns</p>\n",
       "</div>"
      ],
      "text/plain": [
       "       hint_translated          model        country   correct\n",
       "0     w/ Hint | w/ Tr.      aya_8b_it     Bangladesh  0.106923\n",
       "1     w/ Hint | w/ Tr.      aya_8b_it         France  0.867805\n",
       "2     w/ Hint | w/ Tr.      aya_8b_it         Russia  0.880690\n",
       "3     w/ Hint | w/ Tr.      aya_8b_it         Turkey  0.920775\n",
       "4     w/ Hint | w/ Tr.      aya_8b_it  United States  0.902417\n",
       "..                 ...            ...            ...       ...\n",
       "107  w/o Hint | w/ Tr.  llama31_8b_it     Bangladesh  0.522961\n",
       "108  w/o Hint | w/ Tr.  llama31_8b_it         France  0.504111\n",
       "109  w/o Hint | w/ Tr.  llama31_8b_it         Russia  0.499760\n",
       "110  w/o Hint | w/ Tr.  llama31_8b_it         Turkey  0.519366\n",
       "111  w/o Hint | w/ Tr.  llama31_8b_it  United States  0.501292\n",
       "\n",
       "[112 rows x 4 columns]"
      ]
     },
     "execution_count": 98,
     "metadata": {},
     "output_type": "execute_result"
    }
   ],
   "source": [
    "df3"
   ]
  },
  {
   "cell_type": "code",
   "execution_count": 99,
   "metadata": {},
   "outputs": [
    {
     "data": {
      "text/plain": [
       "array(['w/ Hint | w/o Tr.', 'w/ Hint | w/ Tr.', 'w/o Hint | w/ Tr.'],\n",
       "      dtype=object)"
      ]
     },
     "execution_count": 99,
     "metadata": {},
     "output_type": "execute_result"
    }
   ],
   "source": [
    "df['hint_translated'].unique()"
   ]
  },
  {
   "cell_type": "code",
   "execution_count": 104,
   "metadata": {},
   "outputs": [],
   "source": [
    "df31 = df3[df3['hint_translated'] == 'w/o Hint | w/ Tr.']\n",
    "df32 = df3[df3['hint_translated'] == 'w/ Hint | w/o Tr.']\n",
    "df321 = df3[(df3['hint_translated'] == 'w/ Hint | w/ Tr.') & (df3['country'] == 'United States')]\n",
    "df32 = pd.concat([df32, df321])"
   ]
  },
  {
   "cell_type": "code",
   "execution_count": 105,
   "metadata": {},
   "outputs": [],
   "source": [
    "df31.reset_index(drop=True, inplace=True)\n",
    "df32.reset_index(drop=True, inplace=True)"
   ]
  },
  {
   "cell_type": "code",
   "execution_count": null,
   "metadata": {},
   "outputs": [],
   "source": []
  },
  {
   "cell_type": "code",
   "execution_count": 83,
   "metadata": {},
   "outputs": [],
   "source": [
    "# df31.merge(df32, on=['model'], suffixes=('_no_hint', '_with_hint'))"
   ]
  },
  {
   "cell_type": "code",
   "execution_count": 108,
   "metadata": {},
   "outputs": [],
   "source": [
    "data =df31.merge(df32, on=['model', 'country'], suffixes=('_no_hint', '_with_hint'))"
   ]
  },
  {
   "cell_type": "code",
   "execution_count": 111,
   "metadata": {},
   "outputs": [],
   "source": [
    "data['diff'] = data['correct_with_hint'] - data['correct_no_hint']\n",
    "# df32['lang'] = df31['lang']\n"
   ]
  },
  {
   "cell_type": "code",
   "execution_count": null,
   "metadata": {},
   "outputs": [],
   "source": []
  },
  {
   "cell_type": "code",
   "execution_count": 115,
   "metadata": {},
   "outputs": [],
   "source": [
    "data = data.pivot(index='country', columns='model', values='diff')"
   ]
  },
  {
   "cell_type": "code",
   "execution_count": 116,
   "metadata": {},
   "outputs": [
    {
     "data": {
      "image/png": "[encoded data removed]",
      "text/plain": [
       "<Figure size 600x400 with 2 Axes>"
      ]
     },
     "metadata": {},
     "output_type": "display_data"
    }
   ],
   "source": [
    "import seaborn as sns\n",
    "import matplotlib.pyplot as plt\n",
    "fig, ax = plt.subplots(figsize=(6, 4))\n",
    "heatmap = sns.heatmap(data, annot=True, cmap='Reds', ax=ax)\n",
    "# plt.colorbar(ax.collections[0], label='Explicit-Implicit Gap')\n",
    "heatmap.collections[0].colorbar.set_label('Explicit-Implicit Gap', fontsize=12)\n",
    "\n",
    "\n",
    "plt.savefig('visuals/explicit_implicit_gap.pdf', dpi=300, bbox_inches='tight')\n",
    "plt.show()"
   ]
  },
  {
   "cell_type": "code",
   "execution_count": null,
   "metadata": {},
   "outputs": [],
   "source": []
  }
 ],
 "metadata": {
  "kernelspec": {
   "display_name": "mech-int",
   "language": "python",
   "name": "python3"
  },
  "language_info": {
   "codemirror_mode": {
    "name": "ipython",
    "version": 3
   },
   "file_extension": ".py",
   "mimetype": "text/x-python",
   "name": "python",
   "nbconvert_exporter": "python",
   "pygments_lexer": "ipython3",
   "version": "3.11.9"
  }
 },
 "nbformat": 4,
 "nbformat_minor": 2
}
